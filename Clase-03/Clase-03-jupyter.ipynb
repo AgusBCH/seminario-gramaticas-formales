{
 "cells": [
  {
   "cell_type": "markdown",
   "metadata": {},
   "source": [
    "# Parsers para Gramáticas independientes de contexto"
   ]
  },
  {
   "cell_type": "markdown",
   "metadata": {},
   "source": [
    "## Requerimientos técnicos\n",
    "- Python 3\n",
    "- nltk\n",
    "- matplotlib"
   ]
  },
  {
   "cell_type": "code",
   "execution_count": null,
   "metadata": {},
   "outputs": [],
   "source": [
    "import nltk \n",
    "import re \n",
    "import os, sys\n",
    "import matplotlib "
   ]
  },
  {
   "cell_type": "markdown",
   "metadata": {},
   "source": [
    "## Recursive descent Parser\n",
    "\n",
    "- **Top-down**\n",
    "- Parte del símbolo de inicio y aplica las reglas para obtener los constituyentes inmediatos y armar el árbol hasta llegar a los símbolos terminales. Chequea coincidencia con la secuencia del input. Si no hay coincidencia, tiene que retroceder y buscar diferentes alternativas de parseo. "
   ]
  },
  {
   "cell_type": "code",
   "execution_count": null,
   "metadata": {},
   "outputs": [],
   "source": [
    "# Recursive Descent Parser\n",
    "\n",
    "def rd_parser(sentence, grammar):                   # define una función llamada rd_parser con dos argumentos\n",
    "    print(grammar)                                  # imprime mi gramática\n",
    "    sentence = sentence.lower()                     # convierte a minúscula la oración\n",
    "    if sentence.endswith('.'):                      # si la oración termina con un punto\n",
    "        sent = re.sub('\\.',' ',sentence)            # se lo quita\n",
    "    else:                                           # si no\n",
    "        sent = sentence                             # la toma como está\n",
    "    sent = sent.split()                             # divide la oración en palabras\n",
    "    rd_parser = nltk.RecursiveDescentParser(grammar) # proceso esas palabras\n",
    "    for tree in rd_parser.parse(sent):              # para cada árbol posible en mi gramática para esa oración\n",
    "        print(tree)                                 # lo imprimo\n",
    "        return(tree)"
   ]
  },
  {
   "cell_type": "code",
   "execution_count": null,
   "metadata": {
    "scrolled": false
   },
   "outputs": [],
   "source": [
    "#Para correr el Recursive Descent Parser\n",
    "\n",
    "print('Escribí una oración:')                          # Para que me pida que escriba una oración\n",
    "oracion1 = input()                                     # Para que me abra un campo en el que escriba la oración\n",
    "grammar = nltk.data.load('gramaticas/CFG.cfg')     # establece cuál va a ser mi gramática\n",
    "rd_parser(oracion1, grammar)                           # Para correr la función\n",
    "\n",
    "# Oraciones que acepta la gramática: \n",
    "# Cata/Martín/Julia/Maca/Pablo fuma\n",
    "# Cata/Martín/Julia/Maca/Pablo entregó/envió el/la/un/una plaza/facultad/regalo/globo/tabaco"
   ]
  },
  {
   "cell_type": "markdown",
   "metadata": {},
   "source": [
    "**Demo del Right Descent Parser**"
   ]
  },
  {
   "cell_type": "code",
   "execution_count": null,
   "metadata": {
    "scrolled": true
   },
   "outputs": [],
   "source": [
    "nltk.app.rdparser()"
   ]
  },
  {
   "cell_type": "markdown",
   "metadata": {},
   "source": [
    "### Shift Reduce Parser"
   ]
  },
  {
   "cell_type": "code",
   "execution_count": null,
   "metadata": {},
   "outputs": [],
   "source": [
    "# Shift Reduce Parser\n",
    "\n",
    "def sr_parser(sentence, grammar):                      # define la función sr_parser con dos argumentos\n",
    "    print(grammar)                                     # imprimte la gramática\n",
    "    sentence = sentence.lower()                        # convierte a minúscula\n",
    "    if sentence.endswith('.'):                         # si la oración termina con un punto\n",
    "        sent = re.sub('\\.',' ',sentence)               # se lo quita\n",
    "    else:                                              # si no\n",
    "        sent = sentence                                # la toma como está\n",
    "    sent = sent.split()                                # divide la oración en palabras\n",
    "    sr_parser = nltk.ShiftReduceParser(grammar)        # proceso esas palabras\n",
    "    for tree in sr_parser.parse(sent):                 # para cada árbol posible en mi gramática para esa oración\n",
    "        print(tree)                                    # lo imprimo\n",
    "        return(tree)                                   # lo dibujo"
   ]
  },
  {
   "cell_type": "code",
   "execution_count": null,
   "metadata": {},
   "outputs": [],
   "source": [
    "print('Escribí una oración:')                       # imprime un mensaje pidiendo que escriba una oración\n",
    "oracion2 = input()                                  # asigna a una variable mi oración como valor\n",
    "grammar = nltk.data.load('gramaticas/CFG.cfg')      # asigna a una variable mi gramática como valor\n",
    "sr_parser(oracion2, grammar)   \n",
    "\n",
    "# Oraciones que acepta la gramática: \n",
    "# Cata/Martín/Julia/Maca/Pablo fuma\n",
    "# Cata/Martín/Julia/Maca/Pablo entregó/envió el/la/un/una plaza/facultad/regalo/globo/tabaco"
   ]
  },
  {
   "cell_type": "markdown",
   "metadata": {},
   "source": [
    "**Desventajas:**\n",
    "\n",
    "- La recursividad a la izquierda (NP -> NP PP) lo lleva al loop infinito\n",
    "\n",
    "- Pierde mucho tiempo considerando las estructuras que no se corresponden con el input\n",
    "\n",
    "- En el proceso de backtracking se descartan los parseos anteriores y tiene que volver a construirlos \n",
    "\n",
    "\n"
   ]
  },
  {
   "cell_type": "markdown",
   "metadata": {},
   "source": [
    "**Demo del Shift and Reduce parser**"
   ]
  },
  {
   "cell_type": "code",
   "execution_count": null,
   "metadata": {},
   "outputs": [],
   "source": [
    "nltk.app.srparser()"
   ]
  },
  {
   "cell_type": "markdown",
   "metadata": {},
   "source": [
    "## Chart Parser (solo demo)"
   ]
  },
  {
   "cell_type": "code",
   "execution_count": null,
   "metadata": {},
   "outputs": [],
   "source": [
    "#Demo para el Chart Parser\n",
    "nltk.app.chartparser()"
   ]
  },
  {
   "cell_type": "markdown",
   "metadata": {},
   "source": [
    "## Bllip Parser"
   ]
  },
  {
   "cell_type": "markdown",
   "metadata": {},
   "source": [
    "Antes hay que instalar el bllip parser. \n",
    "\n",
    "Para hacerlo, correr el siguiente comando en la terminal:\n",
    "\n",
    "    pip3 install --user bllipparser\n",
    "\n",
    "Brown Laboratory for Linguistic Information Processing\n",
    "\n",
    "Introduce gramáticas a partir de un corpus"
   ]
  },
  {
   "cell_type": "markdown",
   "metadata": {},
   "source": [
    "### Reranking Parser"
   ]
  },
  {
   "cell_type": "code",
   "execution_count": null,
   "metadata": {},
   "outputs": [],
   "source": [
    "import bllipparser\n",
    "from bllipparser import RerankingParser                             #Importa el parser\n",
    "from bllipparser.ModelFetcher import download_and_install_model     # Descarga e instala el \"modelo\"\n",
    "\n",
    "model_dir = download_and_install_model('WSJ', 'tmp/models')         #Crea una variable con el \"modelo\"\n",
    "rrp = RerankingParser.from_unified_model_dir(model_dir)"
   ]
  },
  {
   "cell_type": "code",
   "execution_count": null,
   "metadata": {},
   "outputs": [],
   "source": [
    "oracion2 = \"john runs through the hill\"\n",
    "rrp.simple_parse(oracion2)\n",
    "#rrp.parse(oracion2)"
   ]
  },
  {
   "cell_type": "code",
   "execution_count": null,
   "metadata": {},
   "outputs": [],
   "source": [
    "rrp.tag(oracion2)"
   ]
  },
  {
   "cell_type": "code",
   "execution_count": null,
   "metadata": {},
   "outputs": [],
   "source": [
    "print('Escribí una oración en inglés')\n",
    "oracion4 = input()\n",
    "rrp.simple_parse(oracion4)"
   ]
  },
  {
   "cell_type": "markdown",
   "metadata": {},
   "source": [
    "### Método tree"
   ]
  },
  {
   "cell_type": "code",
   "execution_count": null,
   "metadata": {
    "scrolled": true
   },
   "outputs": [],
   "source": [
    "oracion3 = \"No one saw him disembark in the unanimous night, no one saw the bamboo canoe sink into the sacred mud, but in a few days there was no one who did not know that the taciturn man came from the South\"\n",
    "structure = rrp.simple_parse(oracion3)\n",
    "print(structure)"
   ]
  },
  {
   "cell_type": "code",
   "execution_count": null,
   "metadata": {},
   "outputs": [],
   "source": [
    "tree = bllipparser.Tree(structure)\n",
    "prettytree = tree.pretty_string()\n",
    "sentenceroot = tree.label\n",
    "sentencespan = tree.span()\n",
    "print(tree)\n",
    "print(prettytree)\n",
    "print(sentenceroot)\n",
    "print(sentencespan)"
   ]
  },
  {
   "cell_type": "code",
   "execution_count": null,
   "metadata": {},
   "outputs": [],
   "source": []
  }
 ],
 "metadata": {
  "kernelspec": {
   "display_name": "Python 3",
   "language": "python",
   "name": "python3"
  },
  "language_info": {
   "codemirror_mode": {
    "name": "ipython",
    "version": 3
   },
   "file_extension": ".py",
   "mimetype": "text/x-python",
   "name": "python",
   "nbconvert_exporter": "python",
   "pygments_lexer": "ipython3",
   "version": "3.6.9"
  }
 },
 "nbformat": 4,
 "nbformat_minor": 2
}
