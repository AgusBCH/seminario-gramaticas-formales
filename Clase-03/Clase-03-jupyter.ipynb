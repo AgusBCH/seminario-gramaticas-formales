{
 "cells": [
  {
   "cell_type": "code",
   "execution_count": null,
   "id": "fbc138fb",
   "metadata": {},
   "outputs": [],
   "source": [
    "import re"
   ]
  },
  {
   "cell_type": "code",
   "execution_count": null,
   "id": "60773f21",
   "metadata": {},
   "outputs": [],
   "source": [
    "texto = texto.lower()\n",
    "texto = ' '.join(re.sub(\"(@[a-z0-9_]+)\", \"\", texto).split()) # deletes user names\n",
    "texto = ' '.join(re.sub(\"(\\w+:\\/\\/\\S+)\", \"\", texto).split()) # deletes web links\n",
    "texto = ' '.join(re.sub(\"((#[A-Za-z0-9]+ ?)+$)\", \"\", texto).split()) # deletes hashtags\n",
    "texto = ' '.join(re.sub(\"[\\.\\,\\!\\?\\:\\;\\-\\=¿¡\\|\\(\\)#\\[\\]\\\"]\", \"\", texto).split()) # deletes punctuation\n",
    "texto = ' '.join(re.sub(\"((ja|Ja)+)\", \"\", texto).split()) # deletes laughters\n"
   ]
  }
 ],
 "metadata": {
  "kernelspec": {
   "display_name": "Python 3 (ipykernel)",
   "language": "python",
   "name": "python3"
  },
  "language_info": {
   "codemirror_mode": {
    "name": "ipython",
    "version": 3
   },
   "file_extension": ".py",
   "mimetype": "text/x-python",
   "name": "python",
   "nbconvert_exporter": "python",
   "pygments_lexer": "ipython3",
   "version": "3.8.10"
  }
 },
 "nbformat": 4,
 "nbformat_minor": 5
}
