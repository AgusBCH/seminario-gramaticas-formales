{
 "cells": [
  {
   "cell_type": "markdown",
   "id": "5c43df3f-369e-4141-ac1b-41ae30037e7d",
   "metadata": {},
   "source": [
    "# Nociones básicas de Python"
   ]
  },
  {
   "cell_type": "markdown",
   "id": "a1d15d17-7ca0-404e-8866-f2775bf88883",
   "metadata": {
    "jp-MarkdownHeadingCollapsed": true,
    "tags": []
   },
   "source": [
    "## Ejecución"
   ]
  },
  {
   "cell_type": "markdown",
   "id": "386b76d5-2a4c-434d-b2d0-56b75176a1d8",
   "metadata": {},
   "source": [
    "En este seminario utilizaremos, entre otros recursos, códigos de programación escritos en Python. Existen dos grandes versiones de Python: Python 2 y Python 3. Nosotros usaremos esta última. Más específicamente, usaremos Python 3.8.10.\n",
    "\n",
    "Existen distintas formas de ejecutar código escrito en Python. Una de ellas es en _notebooks_, como esta que están leyendo. Las notebooks son un entorno computacional interactivo que permiten escribir y ejecutar código de Python, entre otros lenguajes, y combinarlo con fragmentos de texto plano o, incluso, con imágenes.\n",
    "\n",
    "Dos de las interfaces más utilizadas para abrir notebooks son [Jupyter Notebook](https://jupyter-notebook.readthedocs.io/en/latest/user-documentation.html) y [Jupyter Lab](https://jupyterlab.readthedocs.io/en/stable/). En la máquina virtual que les brindamos, tienen instalada la primera y, al final de esta clase, instalaremos la segunda.\n",
    "\n",
    "Si no están usando la VM, pueden consultar la sección de [Recursos requeridos](https://fernandocar86.github.io/seminario-gramaticas-formales/Instructivos/recursos.html) para una breve explicación de cómo instalar ambas opciones.\n",
    "\n",
    "Para ejecutarl Jupyter Notebook simplmente deben abrir una consola o terminal (`ctrl+alt+t`) y allí escribir `jupyer notebook`. Eso les abrirá una pestaña en su navegador por defecto y podrán ver las carpetas y archivos en su computadora. Si lo que desean es ejecutar Juyter Lab, deben hacer lo mismo pero escribir `jupyter lab` y se les abrirá una pestaña similar en el navegador.\n",
    "\n",
    "<div style=\"text-align:center\">\n",
    "    <img src=\"./images/terminal.png\" width=\"400px\"/>\n",
    "</div>\n",
    "\n",
    "\n",
    "También es posible ejecutar Python directamente en la consola. Aquí lo que se hace es invocar lo que se llama un _intérprete_, un programa que lee y ejecuta código escitro en determinado lenguaje. Para esto, una vez abierta la consola, deben escribir \"python\" y apretar _enter_. Hecho esto, podrán leer algo como lo siguiente:\n",
    "\n",
    "```{python}\n",
    "Python 3.8.10 (default, Mar 27 2022, 23:42:37) \n",
    "[GCC 9.4.0] on linux\n",
    "Type \"help\", \"copyright\", \"credits\" or \"license\" for more information.\n",
    ">>> \n",
    "```\n",
    "\n",
    "Allí se les indica que el intérprete se inició con éxito y que están utilizando la versión 3.8.10. Luego del indicador `>>>` pueden escribir sus comandos para ser ejecutados.\n",
    "\n",
    "En caso de necesitar escribir comentarios al código (muy útiles para poder entenderlo más fácilmente), se puede utilizar el numeral (#). El intérprete (ya sea en consola, ya en un entorno interactivo como una notebook) ignorará las líneas que comiencen con ese símbolo."
   ]
  },
  {
   "cell_type": "markdown",
   "id": "878165cc-5d2a-4f04-b65a-39991d1aa44c",
   "metadata": {
    "jp-MarkdownHeadingCollapsed": true,
    "tags": []
   },
   "source": [
    "## Operaciones aritméticas"
   ]
  },
  {
   "cell_type": "markdown",
   "id": "6086819b",
   "metadata": {},
   "source": [
    "En tanto lenguaje, Python tiene elementos que cumplen funciones específicas. Entre ellos, podemos mencionar los números enteros ($\\mathbf{Z}$) y racionales ($\\mathbf{Q}$) y las operaciones aritméticas como suma, resta y multiplicación entre otras."
   ]
  },
  {
   "cell_type": "code",
   "execution_count": null,
   "id": "67eabd86",
   "metadata": {},
   "outputs": [],
   "source": [
    "1 + 10    # suma"
   ]
  },
  {
   "cell_type": "code",
   "execution_count": null,
   "id": "3660fb33",
   "metadata": {},
   "outputs": [],
   "source": [
    "3 - 2     # resta"
   ]
  },
  {
   "cell_type": "code",
   "execution_count": null,
   "id": "94af21b0",
   "metadata": {},
   "outputs": [],
   "source": [
    "2 / 0.5   # división (es lo mismo que escribir 2 / .5)"
   ]
  },
  {
   "cell_type": "code",
   "execution_count": null,
   "id": "f4202dc3",
   "metadata": {},
   "outputs": [],
   "source": [
    "3 * 4    # multiplicación"
   ]
  },
  {
   "cell_type": "code",
   "execution_count": null,
   "id": "6b93991a",
   "metadata": {},
   "outputs": [],
   "source": [
    "100 % 4    # resto de división (0 si la división no tiene resto, 1 si sí lo tiene)"
   ]
  },
  {
   "cell_type": "code",
   "execution_count": null,
   "id": "2e50dd45",
   "metadata": {},
   "outputs": [],
   "source": [
    "100 % 33"
   ]
  },
  {
   "cell_type": "code",
   "execution_count": null,
   "id": "bcfa8bab",
   "metadata": {},
   "outputs": [],
   "source": [
    "3 ** 2    # potenciación"
   ]
  },
  {
   "cell_type": "code",
   "execution_count": null,
   "id": "44d5ca7d",
   "metadata": {},
   "outputs": [],
   "source": [
    "3 > 1    # mayor (para mayor o igual usar: >=)"
   ]
  },
  {
   "cell_type": "code",
   "execution_count": null,
   "id": "96c6a03c",
   "metadata": {},
   "outputs": [],
   "source": [
    "10 <= 90    # menor o igual (para menor usar <)"
   ]
  },
  {
   "cell_type": "code",
   "execution_count": null,
   "id": "fc9e305c",
   "metadata": {},
   "outputs": [],
   "source": [
    "0 >= 9"
   ]
  },
  {
   "cell_type": "code",
   "execution_count": null,
   "id": "bf708ab5",
   "metadata": {},
   "outputs": [],
   "source": [
    "3 == (6/2)    # igualdad"
   ]
  },
  {
   "cell_type": "markdown",
   "id": "e25c4358-d968-4811-bafc-00ccfa7c5b29",
   "metadata": {
    "jp-MarkdownHeadingCollapsed": true,
    "tags": []
   },
   "source": [
    "## Variables"
   ]
  },
  {
   "cell_type": "markdown",
   "id": "e0b4815d-2548-4234-bb4a-53969f4e79b9",
   "metadata": {},
   "source": [
    "Los **valores** son representaciones de objetos que pueden ser manipulados por un programa de computación. Cada valor tiene un tipo determinado (ahondaremos en esto en el [siguiente apartado](#Tipos-de-objetos)). Los números utilizados anteriormente (enteros o racionales) son ejemplos de valores.\n",
    "\n",
    "Estos valores pueden usarse directamente, como hicimos al ejecutar cuentas como `1+10`, donde `1` es el objeto entero 1 en sí mismo y lo mismo sucede con `10`, o bien pueden almacenarse en variables. Una **variable** es un nombre que refiere a cierto valor. Para asignar un valor en particular a determinada variable se utiliza el signo `=`. Esto se conoce como **asignación** o sentencia de asignación"
   ]
  },
  {
   "cell_type": "code",
   "execution_count": null,
   "id": "684d81d8-0f4f-40db-8bf3-02e258cf7425",
   "metadata": {},
   "outputs": [],
   "source": [
    "mensaje = 'hola mundo'\n",
    "mensaje"
   ]
  },
  {
   "cell_type": "markdown",
   "id": "410f6ea2-8ea0-44b5-b175-1ba07b948457",
   "metadata": {},
   "source": [
    "Una vez que asignamos un valor a nuestra variable, podemos usarla en lugar del valor que contiene. Y también podemos reasignarle otro valor."
   ]
  },
  {
   "cell_type": "code",
   "execution_count": null,
   "id": "61f2e8d6-ebb1-4a47-b747-0c678109d037",
   "metadata": {},
   "outputs": [],
   "source": [
    "mensaje = 'el mensaje anterior cambió'\n",
    "mensaje"
   ]
  },
  {
   "cell_type": "markdown",
   "id": "ed7c8125-8e2c-404a-96ca-3b762c461905",
   "metadata": {},
   "source": [
    "Si queremos usar una variable que no ha sido definida anteriormente, Python nos dirá que no la conoce:"
   ]
  },
  {
   "cell_type": "code",
   "execution_count": null,
   "id": "a1b7e29b-6e67-4287-92bf-7f517feeb2a7",
   "metadata": {},
   "outputs": [],
   "source": [
    "variable"
   ]
  },
  {
   "cell_type": "markdown",
   "id": "1e24fb9a-9ee6-4bea-bc5a-05321d58e938",
   "metadata": {},
   "source": [
    "Vale aclarar que el lenguaje de programación no requiere que el nombre de la variable tenga alguna relación con el valor al que refiere (nada nos impide que una variable llamada `número`contenga un mensaje, por ejemplo). Sin embargo, es una buena práctica poner nombres descriptivos a las variables de modo que el código sea fácil de leer para un humano.\n",
    "\n",
    "No obstante sí existen algunas reglas que se deben seguir a la hora de definir variables:\n",
    "\n",
    "- el nombre de la variable puede ser tan largo como se desee y contener tanto letras como números, pero **no puede empezar con un número**\n",
    "- es posible usar tanto mayúsculas como minúsculas, pero **por convención en Python se usan solo minúsculas** para los nombres de variables (notar que, si bien es posible usar ambas tipografías, no es indistinto: si nombramos una variable con mayúsculas, Python no la reconocerá si lueg la invocamos con su nombre en minúsculas)\n",
    "- cuando el nombre de una variable tiene varias palabras, **es posible usar guines bajos** para delimitarlas, por ejemplo: `mi_primera_variable`\n",
    "- si nombramos a una variable de una forma no permitida, Python nos devolverá un error"
   ]
  },
  {
   "cell_type": "code",
   "execution_count": null,
   "id": "831ba91c-02a8-4263-92b1-b3ee592c272b",
   "metadata": {},
   "outputs": [],
   "source": [
    "1ravariable = 'hola'"
   ]
  },
  {
   "cell_type": "code",
   "execution_count": null,
   "id": "3d13313a-5fde-4dcc-874e-10e273ac6e92",
   "metadata": {},
   "outputs": [],
   "source": [
    "variable1 = 'hola'\n",
    "variable1"
   ]
  },
  {
   "cell_type": "code",
   "execution_count": null,
   "id": "df8d4f56-fd10-4407-b00d-648a37c21c4c",
   "metadata": {},
   "outputs": [],
   "source": [
    "otra_variable = 1\n",
    "otra_variable"
   ]
  },
  {
   "cell_type": "code",
   "execution_count": null,
   "id": "f5d36c94-feb8-4908-b2d7-5652dccc657f",
   "metadata": {},
   "outputs": [],
   "source": [
    "v@riable = 'variable'"
   ]
  },
  {
   "cell_type": "markdown",
   "id": "28ad7cd8-bdab-4b84-807d-ae360d4d6101",
   "metadata": {},
   "source": [
    "Por último, existen una serie de **keywords** reservadas en Python para controlar la estructura de los programas escritos en este lenguaje. Estas no pueden ser utilizadas como nombres de variables. Un ejemplo es la palabra `class`:"
   ]
  },
  {
   "cell_type": "code",
   "execution_count": null,
   "id": "182d2df5-9d19-41a1-900d-c881170af29c",
   "metadata": {},
   "outputs": [],
   "source": [
    "class = 'ilegal assigment'"
   ]
  },
  {
   "cell_type": "markdown",
   "id": "bcc802ef-bbf0-4e63-9e5e-c1393d24fd17",
   "metadata": {},
   "source": [
    "La lista de keywords reservadas es la siguiente:\n",
    "\n",
    "\n",
    "<table>\n",
    "  <tbody>\n",
    "    <tr>\n",
    "      <td>False</td>\n",
    "      <td>for</td>\n",
    "      <td>if</td>\n",
    "      <td>break</td>\n",
    "      <td>try</td>\n",
    "      <td>assert</td>\n",
    "      <td>import</td>\n",
    "      <td>and</td>\n",
    "      <td>in</td>\n",
    "      <td>class</td>\n",
    "      <td>nonlocal</td>\n",
    "    </tr>\n",
    "    <tr>\n",
    "      <td>True</td>\n",
    "      <td>while</td>\n",
    "      <td>elif</td>\n",
    "      <td>raise</td>\n",
    "      <td>except</td>\n",
    "      <td>yield</td>\n",
    "      <td>from</td>\n",
    "      <td>or</td>\n",
    "      <td>not</td>\n",
    "      <td>def</td>\n",
    "      <td>global</td>\n",
    "    </tr>\n",
    "    <tr>\n",
    "      <td>None</td>\n",
    "      <td>continue</td>\n",
    "      <td>else</td>\n",
    "      <td>pass</td>\n",
    "      <td>return</td>\n",
    "      <td>finally</td>\n",
    "      <td>as</td>\n",
    "      <td>is</td>\n",
    "      <td>with</td>\n",
    "      <td>lambda</td>\n",
    "      <td>del</td>\n",
    "    </tr>\n",
    "  </tbody>\n",
    "</table>"
   ]
  },
  {
   "cell_type": "markdown",
   "id": "8c7505dc-7f0f-4a17-b715-738170358eef",
   "metadata": {
    "tags": []
   },
   "source": [
    "## Tipos de objetos"
   ]
  },
  {
   "cell_type": "markdown",
   "id": "97022ac5-78a4-4a4d-aaba-db73b2713c26",
   "metadata": {},
   "source": [
    "Los valores pueden ser de distinto tipo: un (número) entero, un (número con punto) flotante, una cadena (de letras), etc. Cada uno de estos tipos de valores admite ciertas operaciones que veremos a continuación.\n",
    "\n",
    "Para conocer qué tipo de objeto es determinado valor, podemos usar la función `type()`. Esta puede ser aplicada sobre el valor mismo o sobre una variables que contiene a un valor."
   ]
  },
  {
   "cell_type": "markdown",
   "id": "63580a08-c368-4c8e-8ee9-41fe5ad0ba97",
   "metadata": {},
   "source": [
    "### Enteros y números de punto flotante"
   ]
  },
  {
   "cell_type": "markdown",
   "id": "a07a752b-9b19-4883-94bd-8fe38bfb6db3",
   "metadata": {},
   "source": [
    "El tipo de objeto `int` permite representar los números enteros ($\\mathbf{Z}$) en python."
   ]
  },
  {
   "cell_type": "code",
   "execution_count": null,
   "id": "c26d1305-6a1c-4843-b2d4-ea71395204b1",
   "metadata": {},
   "outputs": [],
   "source": [
    "num = 35\n",
    "type(num)"
   ]
  },
  {
   "cell_type": "markdown",
   "id": "07523701-ad7f-4fd9-a760-e549e7001321",
   "metadata": {},
   "source": [
    "Esto solo vale para valores que efetivamente son un número, no así para los que están dentro de un texto o cadena."
   ]
  },
  {
   "cell_type": "code",
   "execution_count": null,
   "id": "0b7a1d20-fbe4-4c1b-a9a5-19cda5d73679",
   "metadata": {},
   "outputs": [],
   "source": [
    "num_string = '35'\n",
    "type(num_string)"
   ]
  },
  {
   "cell_type": "markdown",
   "id": "019cd519-b0b7-47d9-bc36-9c3b3d94b7fb",
   "metadata": {},
   "source": [
    "Sin embargo, si el texto contiene solamente un número, es posible convertirlo a entero utilizando la función `int()`."
   ]
  },
  {
   "cell_type": "code",
   "execution_count": null,
   "id": "49fd1c11-b8f3-4eaa-bb3e-ba309fa22896",
   "metadata": {},
   "outputs": [],
   "source": [
    "num_int = int(num_string)\n",
    "type(num_int)"
   ]
  },
  {
   "cell_type": "markdown",
   "id": "45587710-7890-4173-ac5c-1298cbf4cb99",
   "metadata": {},
   "source": [
    "Por otro lado, si lo que queremos es representar un número racional ($\\mathbf{Q}$), debemos usar el tipo de objeto `float`."
   ]
  },
  {
   "cell_type": "code",
   "execution_count": null,
   "id": "70ffd49f-cf15-4ab9-8a52-7b57a996e4d5",
   "metadata": {},
   "outputs": [],
   "source": [
    "rac = 3.6\n",
    "type(rac)"
   ]
  },
  {
   "cell_type": "markdown",
   "id": "da41b6df-441b-4470-b10f-42d088958c68",
   "metadata": {},
   "source": [
    "Y aquí sucede lo mismo con el número en formato texto o cadena, solo que debemos utilizar la función `float()` para la conversión."
   ]
  },
  {
   "cell_type": "code",
   "execution_count": null,
   "id": "6e58345b-41f1-47ec-8aaa-51f809b881ed",
   "metadata": {},
   "outputs": [],
   "source": [
    "rac_str = '4.0'\n",
    "type(rac_str)"
   ]
  },
  {
   "cell_type": "code",
   "execution_count": null,
   "id": "ab998dcc-84bb-42d3-b087-5d337fe33b91",
   "metadata": {},
   "outputs": [],
   "source": [
    "rac_float = float(float_str)\n",
    "type(rac_float)"
   ]
  },
  {
   "cell_type": "markdown",
   "id": "304095e2-113b-485c-b6d0-965236dfb76f",
   "metadata": {},
   "source": [
    "También es posible convertir un número de entero a float y viceversa. En el primer caso perderemos los decimales y en el segundo, se agregará el punto flotante y un cero luego."
   ]
  },
  {
   "cell_type": "code",
   "execution_count": null,
   "id": "57d118a2-c523-4d5b-8b64-afbc14e61255",
   "metadata": {},
   "outputs": [],
   "source": [
    "rac"
   ]
  },
  {
   "cell_type": "code",
   "execution_count": null,
   "id": "50064463-5388-45dd-823c-f8f1bc24a393",
   "metadata": {},
   "outputs": [],
   "source": [
    "int(rac)"
   ]
  },
  {
   "cell_type": "code",
   "execution_count": null,
   "id": "837d4d7a-1758-462d-82a0-f4dd9862c87b",
   "metadata": {},
   "outputs": [],
   "source": [
    "num_int"
   ]
  },
  {
   "cell_type": "code",
   "execution_count": null,
   "id": "a48d49eb-0e3f-4bf6-892e-9ccc43097480",
   "metadata": {},
   "outputs": [],
   "source": [
    "float(num_int)"
   ]
  },
  {
   "cell_type": "markdown",
   "id": "81accb14-ea17-4a48-9e9d-fda78a5e72cb",
   "metadata": {},
   "source": [
    "### Booleanos"
   ]
  },
  {
   "cell_type": "markdown",
   "id": "49bf09ed-7241-47a0-b052-8b5e49d3e733",
   "metadata": {
    "jp-MarkdownHeadingCollapsed": true,
    "tags": [],
    "toc-hr-collapsed": true
   },
   "source": [
    "### Listas"
   ]
  },
  {
   "cell_type": "markdown",
   "id": "353f7739-29d6-431a-be90-13bb3cb06c4f",
   "metadata": {},
   "source": [
    "Una lista es **una secuencia de valores ordenados**, donde los valores pueden ser de cualquier tipo. Estos valores suelen ser llamados _elementos_ o _items_ de la lista.\n",
    "\n",
    "Para definir las listas usamos corchetes (`[]`)."
   ]
  },
  {
   "cell_type": "code",
   "execution_count": null,
   "id": "b8613847-a8d6-4759-be4e-3aadcb6cc187",
   "metadata": {},
   "outputs": [],
   "source": [
    "lista = [3, 10, 'hola']\n",
    "lista"
   ]
  },
  {
   "cell_type": "code",
   "execution_count": null,
   "id": "ed17b50f-5070-4a9f-aaa1-ce98e868be38",
   "metadata": {},
   "outputs": [],
   "source": [
    "type(lista)"
   ]
  },
  {
   "cell_type": "markdown",
   "id": "d41ef4c1-9aaa-4a9d-aa59-bf9c5e4bcd45",
   "metadata": {},
   "source": [
    "También es posible crear listas vacías."
   ]
  },
  {
   "cell_type": "code",
   "execution_count": null,
   "id": "79b0cb5e-e59f-4268-9031-2a867ff41057",
   "metadata": {},
   "outputs": [],
   "source": [
    "lista_vacia = []     # esto es lo mismo que lista_vacia = list()\n",
    "lista_vacia"
   ]
  },
  {
   "cell_type": "markdown",
   "id": "23d8f639-8d14-41cf-afe5-1e57c4572f3e",
   "metadata": {},
   "source": [
    "Una lista puede asimismo contener otra lista."
   ]
  },
  {
   "cell_type": "code",
   "execution_count": null,
   "id": "f7e13279-cb2c-4f42-8367-35a3d2d24703",
   "metadata": {},
   "outputs": [],
   "source": [
    "lista_con_listas = [1,2,3, ['soy','una','lista'], ['otra','lista']]\n",
    "lista_con_listas"
   ]
  },
  {
   "cell_type": "markdown",
   "id": "26413a66-d063-4fd3-8f31-13e99ee155d5",
   "metadata": {},
   "source": [
    "Para conocer la longitud de una lista, puedo utilizar la función `len()`."
   ]
  },
  {
   "cell_type": "code",
   "execution_count": null,
   "id": "23e2e406-f1aa-4073-b502-534bad66e2ff",
   "metadata": {},
   "outputs": [],
   "source": [
    "len(lista)"
   ]
  },
  {
   "cell_type": "code",
   "execution_count": null,
   "id": "331f2b26-86fa-43cb-befa-b5e617dd65bb",
   "metadata": {},
   "outputs": [],
   "source": [
    "len(lista_vacia)"
   ]
  },
  {
   "cell_type": "code",
   "execution_count": null,
   "id": "54cedfdf-8184-4019-ab6b-52c8ad3fb95d",
   "metadata": {},
   "outputs": [],
   "source": [
    "len(lista_con_listas)"
   ]
  },
  {
   "cell_type": "markdown",
   "id": "c9b22ebb-d3c2-4346-9b8c-d943451bbdae",
   "metadata": {},
   "source": [
    "Además, como es una secuencia ordenada, puedo ver qué elemento se encuentra en cada posición de la lista. Basta indicar la posición cuyo elemento quiero averiguar entre corchetes. Sí es importante notar que la primera posición se indica con 0 y no con 1."
   ]
  },
  {
   "cell_type": "code",
   "execution_count": null,
   "id": "6b5e02d5-c1a5-4349-80ed-02c6d4e4a659",
   "metadata": {},
   "outputs": [],
   "source": [
    "lista[0]    # me permite acceder al primer elemento"
   ]
  },
  {
   "cell_type": "code",
   "execution_count": null,
   "id": "5f8b0b56-54f2-49db-b854-9e56e6b6b6dd",
   "metadata": {},
   "outputs": [],
   "source": [
    "lista_con_listas[1]    # me permite acceder al segundo elemento"
   ]
  },
  {
   "cell_type": "code",
   "execution_count": null,
   "id": "fd39ef1e-a64c-4ede-b2d6-fd67d731d08e",
   "metadata": {},
   "outputs": [],
   "source": [
    "lista_con_listas[-1]    # me permite acceder al último elemento"
   ]
  },
  {
   "cell_type": "markdown",
   "id": "cff88016-eee2-454c-b9b2-ad2595424b48",
   "metadata": {},
   "source": [
    "Y, del mismo modo, si yo ya sé que un elemento se encuentra en una lista, puedo averiguar cuál es su posición utilizando el método `index()`. Si el elemento en cuestión aparece más de una vez en la lista (nada impide que esto suceda), este método solo nos indicará la primera posición en la cual podemos encontrarlo."
   ]
  },
  {
   "cell_type": "code",
   "execution_count": null,
   "id": "44870d3a-52bf-4275-b52b-bdb1e01e7d53",
   "metadata": {},
   "outputs": [],
   "source": [
    "lista.index('hola')"
   ]
  },
  {
   "cell_type": "code",
   "execution_count": null,
   "id": "a6a9b1db-f034-4731-8744-025ab2345ec3",
   "metadata": {},
   "outputs": [],
   "source": [
    "lista_con_elementos_repetidos = [1,2,3,2,4,2]\n",
    "lista_con_elementos_repetidos.index(2)"
   ]
  },
  {
   "cell_type": "markdown",
   "id": "07306307-d89b-40de-ae11-e7918c4a47eb",
   "metadata": {},
   "source": [
    "Del mismo modo que seleccionamos elementos en posiciones específicas, podemos seleccionar una porción (o _slice_, en inglés) de la lista. Para eso debemos indicar entre paréntesis la posición de inicio y la de finalización de la porción que deseamos (la posición de inicio será incluida en el la porción pero la de finalización será excluida)."
   ]
  },
  {
   "cell_type": "code",
   "execution_count": null,
   "id": "543fbcd5-b1be-4049-8d72-61d93f8181ea",
   "metadata": {},
   "outputs": [],
   "source": [
    "lista_con_elementos_repetidos[2:4]"
   ]
  },
  {
   "cell_type": "code",
   "execution_count": null,
   "id": "82183b5a-576e-4c5c-a134-f7e4d984e994",
   "metadata": {},
   "outputs": [],
   "source": [
    "lista[1:]     # toma desde la segunda posición hasta el final"
   ]
  },
  {
   "cell_type": "code",
   "execution_count": null,
   "id": "ae49facd-efcc-42c2-a9ad-1523824eaf30",
   "metadata": {},
   "outputs": [],
   "source": [
    "lista[:2]     # toma desde el inicio hasta el tercer elemento (excl)"
   ]
  },
  {
   "cell_type": "markdown",
   "id": "896a7cfa-4964-4729-bba4-e70a8f3ebab4",
   "metadata": {},
   "source": [
    "Algo a destacar es que, si intentamos buscar qué elemento se encuentra en una posición que no existe en la lista (porque es más corta), Python nos devolverá un error."
   ]
  },
  {
   "cell_type": "code",
   "execution_count": null,
   "id": "ef81ccc4-e1d1-4725-b911-23fe467d9bf3",
   "metadata": {},
   "outputs": [],
   "source": [
    "lista[4]"
   ]
  },
  {
   "cell_type": "markdown",
   "id": "75cd5cdb-bae4-4a3c-a50e-7ab734f6550f",
   "metadata": {},
   "source": [
    "#### Operaciones con listas"
   ]
  },
  {
   "cell_type": "markdown",
   "id": "dad87237-fb90-42e2-a78d-8fcb2be2608d",
   "metadata": {},
   "source": [
    "El operador `+` permite concatenar listas."
   ]
  },
  {
   "cell_type": "code",
   "execution_count": null,
   "id": "87ee700b-7985-450d-bc4c-f6ac2d0b2400",
   "metadata": {},
   "outputs": [],
   "source": [
    "a = [1,3,5,7]\n",
    "b = [2,4,6,8]\n",
    "a+b"
   ]
  },
  {
   "cell_type": "markdown",
   "id": "e5490ef3-3456-4bfe-82dc-9bda2bd91e7a",
   "metadata": {},
   "source": [
    "Dada una lista y un entero, el operador `*` repite los elementos de la lista tantas veces como indique el entero."
   ]
  },
  {
   "cell_type": "code",
   "execution_count": null,
   "id": "7f994ee1-99fe-4d14-91a3-c514dcd5c64a",
   "metadata": {},
   "outputs": [],
   "source": [
    "c = ['a','b','c']\n",
    "c * 3"
   ]
  },
  {
   "cell_type": "code",
   "execution_count": null,
   "id": "34ab5cd2-e52c-4c26-a1a9-0d563ffc3822",
   "metadata": {},
   "outputs": [],
   "source": [
    "d = [1]\n",
    "d * 5"
   ]
  },
  {
   "cell_type": "markdown",
   "id": "43081715-a495-44d2-bd44-df1f6632e1f0",
   "metadata": {},
   "source": [
    "#### Métodos de las listas"
   ]
  },
  {
   "cell_type": "markdown",
   "id": "ee415c7a-83ac-4098-a09f-b679222434b1",
   "metadata": {},
   "source": [
    "En tanto objetos, las listas tienen métodos específicos que nos permiten manipularlas.\n",
    "\n",
    "El método `append()` posibilita agregar un elemento a una lista."
   ]
  },
  {
   "cell_type": "code",
   "execution_count": null,
   "id": "cecc877c-787d-4eb1-963e-638924ebd518",
   "metadata": {},
   "outputs": [],
   "source": [
    "lista_a_modificar = []"
   ]
  },
  {
   "cell_type": "code",
   "execution_count": null,
   "id": "3b1a0559-a167-4136-ae5f-7c43c37bc5f3",
   "metadata": {},
   "outputs": [],
   "source": [
    "lista_a_modificar.append('primer elemento')"
   ]
  },
  {
   "cell_type": "code",
   "execution_count": null,
   "id": "72dfbcce-b7f5-47d4-8c91-5ceaf2c9aab2",
   "metadata": {},
   "outputs": [],
   "source": [
    "lista_a_modificar"
   ]
  },
  {
   "cell_type": "markdown",
   "id": "9aed67de-b41e-477f-90be-b82ee451b600",
   "metadata": {},
   "source": [
    "El método `extend()` permite agregar los elementos de una lista a otra."
   ]
  },
  {
   "cell_type": "code",
   "execution_count": null,
   "id": "b9c16064-0ed1-4abc-8497-9c088382ae79",
   "metadata": {},
   "outputs": [],
   "source": [
    "nuevos_elementos = ['segundo elemento', 'tercer elemento']"
   ]
  },
  {
   "cell_type": "code",
   "execution_count": null,
   "id": "0ef9a702-1bd8-4e62-b96d-983774e6a17b",
   "metadata": {},
   "outputs": [],
   "source": [
    "lista_a_modificar.extend(nuevos_elementos)"
   ]
  },
  {
   "cell_type": "code",
   "execution_count": null,
   "id": "a8686d25-44be-4d73-90ae-db55e589c0a5",
   "metadata": {},
   "outputs": [],
   "source": [
    "lista_a_modificar"
   ]
  },
  {
   "cell_type": "markdown",
   "id": "4322c593-d62b-42b0-a7f0-044b12742b4b",
   "metadata": {},
   "source": [
    "Dicho método no modifica sin embrgo la lista cuyos elementos fueron agregados."
   ]
  },
  {
   "cell_type": "code",
   "execution_count": null,
   "id": "5e600ea3-008a-4a41-a9d5-6da638ee804c",
   "metadata": {},
   "outputs": [],
   "source": [
    "nuevos_elementos"
   ]
  },
  {
   "cell_type": "markdown",
   "id": "9e64a249-3321-44f8-aa18-a8b8a2e03e84",
   "metadata": {},
   "source": [
    "El método `sort()` ordena los elementos de una lista. Si sus elementos son números, los ordena en forma creciente. Si son letras o cadenas, en orden alfabético."
   ]
  },
  {
   "cell_type": "code",
   "execution_count": null,
   "id": "8d30a603-8d7d-491c-8604-460aa60b7a78",
   "metadata": {},
   "outputs": [],
   "source": [
    "lista_a_ordenar = [10,4,2,9,3]"
   ]
  },
  {
   "cell_type": "code",
   "execution_count": null,
   "id": "16904110-cf5c-4f54-b0bf-5bf53de396ed",
   "metadata": {},
   "outputs": [],
   "source": [
    "lista_a_ordenar.sort()"
   ]
  },
  {
   "cell_type": "code",
   "execution_count": null,
   "id": "3611a2b1-b533-4ea2-862d-2e2ceab5b65f",
   "metadata": {},
   "outputs": [],
   "source": [
    "lista_a_ordenar"
   ]
  },
  {
   "cell_type": "markdown",
   "id": "3c348693-4a9a-4bd9-ae90-44af6237af8a",
   "metadata": {},
   "source": [
    "Con los métodos `pop()` y `remove()` podemos quitar elementos de una lista. El primer método toma la posición del elemento que se quiere quitar y, el segundo, el elemento en sí."
   ]
  },
  {
   "cell_type": "code",
   "execution_count": null,
   "id": "90277fed-8cb2-4ebe-b01d-7cc887ebf9cc",
   "metadata": {},
   "outputs": [],
   "source": [
    "lista_con_elementos_a_quitar = ['h','o','l','a','!']\n",
    "lista_con_elementos_a_quitar"
   ]
  },
  {
   "cell_type": "code",
   "execution_count": null,
   "id": "633c39dc-a82f-4cec-8762-19b075d61899",
   "metadata": {},
   "outputs": [],
   "source": [
    "lista_con_elementos_a_quitar.pop(2)"
   ]
  },
  {
   "cell_type": "code",
   "execution_count": null,
   "id": "75a74b34-bc50-41f1-a2eb-1a700f4f197c",
   "metadata": {},
   "outputs": [],
   "source": [
    "lista_con_elementos_a_quitar"
   ]
  },
  {
   "cell_type": "code",
   "execution_count": null,
   "id": "4610ca46-7d7f-4b10-be66-5fa2342e11d6",
   "metadata": {},
   "outputs": [],
   "source": [
    "lista_con_elementos_a_quitar.remove('a')"
   ]
  },
  {
   "cell_type": "code",
   "execution_count": null,
   "id": "da873f5a-773c-4423-8e19-fdfc89a28cd8",
   "metadata": {},
   "outputs": [],
   "source": [
    "lista_con_elementos_a_quitar"
   ]
  },
  {
   "cell_type": "markdown",
   "id": "7084d205-acbd-4d2c-b355-49217b784018",
   "metadata": {},
   "source": [
    "Si lo que se desea es eliminar elementos de varias posiciones contiguas a la vez, se puede usar `del`."
   ]
  },
  {
   "cell_type": "code",
   "execution_count": null,
   "id": "f46562c3-1e0b-4da3-b02d-1bc4bc8ae0c3",
   "metadata": {},
   "outputs": [],
   "source": [
    "lista_con_elementos_a_quitar = ['h','o','l','a','!']\n",
    "lista_con_elementos_a_quitar"
   ]
  },
  {
   "cell_type": "code",
   "execution_count": null,
   "id": "46804494-0a9d-462c-8877-e0b1442a7a97",
   "metadata": {},
   "outputs": [],
   "source": [
    "del lista_con_elementos_a_quitar[2:4]"
   ]
  },
  {
   "cell_type": "code",
   "execution_count": null,
   "id": "a47b35cf-fb05-48ed-ba9d-03bfe261e13a",
   "metadata": {},
   "outputs": [],
   "source": [
    "lista_con_elementos_a_quitar"
   ]
  },
  {
   "cell_type": "markdown",
   "id": "764a9de9-e570-466e-983a-6fb95e28dd69",
   "metadata": {},
   "source": [
    "#### Mutabilidad de las listas"
   ]
  },
  {
   "cell_type": "markdown",
   "id": "ba966404-1f9d-4635-ba35-613d47dbb7af",
   "metadata": {},
   "source": [
    "A diferencia de otros tipos de objetos, las listas son mutables. Esto significa que métodos como los antes vistos los pueden modificar y que también es posible reasignar elementos a sus posiciones recurriendo a _slices_."
   ]
  },
  {
   "cell_type": "code",
   "execution_count": null,
   "id": "643c6e61-cd0b-49c6-b09d-42c3c1051a45",
   "metadata": {},
   "outputs": [],
   "source": [
    "lista = ['esto', 'es', 'python']"
   ]
  },
  {
   "cell_type": "code",
   "execution_count": null,
   "id": "6c16e071-702b-4a78-885b-126309e0f15c",
   "metadata": {},
   "outputs": [],
   "source": [
    "lista[1:2] = ['una','lista','de']"
   ]
  },
  {
   "cell_type": "code",
   "execution_count": null,
   "id": "7a7d58de-8a6d-472b-877b-0c151cac60b4",
   "metadata": {},
   "outputs": [],
   "source": [
    "lista"
   ]
  },
  {
   "cell_type": "code",
   "execution_count": null,
   "id": "4ee23ad9-ca0e-48a3-ae51-09cbcbd7ea17",
   "metadata": {},
   "outputs": [],
   "source": [
    "lista[2] = 'notebook'"
   ]
  },
  {
   "cell_type": "code",
   "execution_count": null,
   "id": "d25eac16-59e5-46b3-ac3c-ad4e8cc3520a",
   "metadata": {},
   "outputs": [],
   "source": [
    "lista"
   ]
  },
  {
   "cell_type": "markdown",
   "id": "a23d25c5-d074-4cf8-8689-8bcfe3cf9352",
   "metadata": {},
   "source": [
    "### Tuplas"
   ]
  },
  {
   "cell_type": "markdown",
   "id": "bd4b089d-35ed-4c7b-9bd9-63442721408c",
   "metadata": {},
   "source": []
  },
  {
   "cell_type": "markdown",
   "id": "18c8d46b-95fb-40b2-b44c-e52cd0c07f8d",
   "metadata": {},
   "source": [
    "### Conjuntos"
   ]
  },
  {
   "cell_type": "markdown",
   "id": "3d095c3e-c6ff-4fd6-897a-2350ce722a0e",
   "metadata": {},
   "source": [
    "Como vimos en la sección teórica, los conjuntos son una colección de objetos o elementos.\n",
    "\n",
    "Para instanciar un conjunto en Python, podemos:\n",
    "\n",
    "- encerrar los elementos que queremos ubicar dentro del conjunto entre corchetes\n",
    "- armar una lista o tupla y utilizarla como valor para la función `set()`"
   ]
  },
  {
   "cell_type": "code",
   "execution_count": null,
   "id": "e27a9939-947d-4aa6-8961-aab0e6c4fea6",
   "metadata": {},
   "outputs": [],
   "source": [
    "lista = [1,2,3,4]\n",
    "conjunto = set(lista)\n",
    "conjunto"
   ]
  },
  {
   "cell_type": "code",
   "execution_count": null,
   "id": "28beaada-2960-49d9-a3c9-db70f8c0cab4",
   "metadata": {},
   "outputs": [],
   "source": [
    "type(conjunto)"
   ]
  },
  {
   "cell_type": "markdown",
   "id": "761fcf66-7295-4ee3-bb23-883bd5e7c38a",
   "metadata": {},
   "source": [
    "Tal y como habíamos visto: los conjuntos no tienen orden ni elementos repetidos."
   ]
  },
  {
   "cell_type": "code",
   "execution_count": null,
   "id": "0cb7733c-58a1-410b-bd6e-55fb8a584b08",
   "metadata": {},
   "outputs": [],
   "source": [
    "conjunto = {3, 'foo', (1, 2, 3), 3.14159, 3}\n",
    "conjunto"
   ]
  },
  {
   "cell_type": "markdown",
   "id": "65fc6b9d-5a0b-4af4-baf7-0145fd34c29b",
   "metadata": {},
   "source": [
    "Si lo que queremos es generar un conjunto vacío, podemos hacer lo mismo pero utilizar una lista vacía o, lo que es más sencillo y prolijo, usar la función `set()` sin ningún valor."
   ]
  },
  {
   "cell_type": "code",
   "execution_count": null,
   "id": "ed90d505-2932-40bf-b204-f545093a8bdd",
   "metadata": {},
   "outputs": [],
   "source": [
    "conjunto_vacio = set()\n",
    "conjunto_vacio"
   ]
  },
  {
   "cell_type": "markdown",
   "id": "06223b87-4b84-41a7-8c90-543e16bf7c0c",
   "metadata": {},
   "source": [
    "Al igual que las listas, puedo contar cuántos elementos tiene un conjunto con la función `len()`."
   ]
  },
  {
   "cell_type": "code",
   "execution_count": null,
   "id": "d9c453da-734f-459a-84e0-705e26474300",
   "metadata": {},
   "outputs": [],
   "source": [
    "len(conjunto)"
   ]
  },
  {
   "cell_type": "code",
   "execution_count": null,
   "id": "34b00cab-558a-4c4d-bab7-cec509c26aaf",
   "metadata": {},
   "outputs": [],
   "source": [
    "len(conjunto_vacio)"
   ]
  },
  {
   "cell_type": "markdown",
   "id": "25ced265-4f34-413c-aaf4-f93bf6be3e79",
   "metadata": {
    "jp-MarkdownHeadingCollapsed": true,
    "tags": []
   },
   "source": [
    "#### Relaciones entre conjuntos"
   ]
  },
  {
   "cell_type": "markdown",
   "id": "b0b06e44-944c-48a4-a8ad-dc7ce7d2e51e",
   "metadata": {},
   "source": [
    "La función `subset()` nos permite evaluar si un conjunto es subconjunto de otro."
   ]
  },
  {
   "cell_type": "code",
   "execution_count": null,
   "id": "773920ee-9f9c-4daa-b1ab-ad3adee6d769",
   "metadata": {},
   "outputs": [],
   "source": [
    "a = {'a','b','c'}\n",
    "b = {'a','b','c','g','h','z'}"
   ]
  },
  {
   "cell_type": "code",
   "execution_count": null,
   "id": "adc6f466-0c11-4941-b9e3-2a2cf6383e0f",
   "metadata": {},
   "outputs": [],
   "source": [
    "a.issubset(b)"
   ]
  },
  {
   "cell_type": "code",
   "execution_count": null,
   "id": "0117f91b-fe8b-459b-9375-9d7739a5ee49",
   "metadata": {},
   "outputs": [],
   "source": [
    "a.issubset(a)"
   ]
  },
  {
   "cell_type": "markdown",
   "id": "6196aaaf-cac9-4f17-82b8-d652f1333de0",
   "metadata": {},
   "source": [
    "También podemos evaluar si un conjunto contiene a otro:"
   ]
  },
  {
   "cell_type": "code",
   "execution_count": null,
   "id": "3cfe919b-8085-44cf-9d27-a00d2caa6d2f",
   "metadata": {},
   "outputs": [],
   "source": [
    "b.issuperset(a)"
   ]
  },
  {
   "cell_type": "code",
   "execution_count": null,
   "id": "111f7413-0a1e-4d0e-8857-c73037467cf5",
   "metadata": {},
   "outputs": [],
   "source": [
    "b.issuperset(b)"
   ]
  },
  {
   "cell_type": "code",
   "execution_count": null,
   "id": "e2a95dfb-80a9-43ba-bdb8-69962ac0356c",
   "metadata": {},
   "outputs": [],
   "source": [
    "a.issuperset(b)"
   ]
  },
  {
   "cell_type": "markdown",
   "id": "e0b9b987-6035-473b-bc72-cef8cad11232",
   "metadata": {},
   "source": [
    "Si lo que queremos es ver si un subconjunto es subconjunto propio, debemos usar el operador `>` y colocar a izquierda el conjunto que queremos evaluar si es subconjutno propio del que ubiquemos a derecha (también podemos usar `<` e invertir las posiciones)."
   ]
  },
  {
   "cell_type": "code",
   "execution_count": null,
   "id": "0ca443b2-9a2e-49c5-a602-2c62972671a1",
   "metadata": {},
   "outputs": [],
   "source": [
    "a < b"
   ]
  },
  {
   "cell_type": "code",
   "execution_count": null,
   "id": "99e87446-d0a7-43b1-ac69-ba9008504b6f",
   "metadata": {},
   "outputs": [],
   "source": [
    "a < a"
   ]
  },
  {
   "cell_type": "markdown",
   "id": "7cdc3a0d-ea18-4eb1-a35c-e95a757af5b7",
   "metadata": {},
   "source": [
    "Con `in` podemos evaluar la pertenencia ($\\in$) de un elemento es miembro de un conjunto (esto también funciona con listas)."
   ]
  },
  {
   "cell_type": "code",
   "execution_count": null,
   "id": "c3d4295c-d1b7-4edc-93c7-8e0656b7c954",
   "metadata": {},
   "outputs": [],
   "source": [
    "'c' in a"
   ]
  },
  {
   "cell_type": "code",
   "execution_count": null,
   "id": "e07cbf72-5c97-4ad2-991e-61dbf21a6e55",
   "metadata": {},
   "outputs": [],
   "source": [
    "'z' in a"
   ]
  },
  {
   "cell_type": "markdown",
   "id": "b129e565-0d7e-4e66-90e6-c27ddbedf54b",
   "metadata": {},
   "source": [
    "#### Operacines entre conjuntos"
   ]
  },
  {
   "cell_type": "code",
   "execution_count": null,
   "id": "59b40908-48a2-46b9-8f9b-95fde5f802ea",
   "metadata": {},
   "outputs": [],
   "source": [
    "x = {'m','n','o'}"
   ]
  },
  {
   "cell_type": "code",
   "execution_count": null,
   "id": "885fb75e-8b2b-4679-a2df-c2ac202bd060",
   "metadata": {},
   "outputs": [],
   "source": [
    "y = {'m','w','z'}"
   ]
  },
  {
   "cell_type": "code",
   "execution_count": null,
   "id": "a113c22a-5080-4d93-a168-6b4798a7058c",
   "metadata": {},
   "outputs": [],
   "source": [
    "x.union(y)            # elementos que están en x o en y"
   ]
  },
  {
   "cell_type": "code",
   "execution_count": null,
   "id": "0e481936-ba11-468d-b850-8bed74cca934",
   "metadata": {},
   "outputs": [],
   "source": [
    "x.intersection(y)     # elementos que están en x y en y"
   ]
  },
  {
   "cell_type": "code",
   "execution_count": null,
   "id": "5c08718d-ad75-48ec-a22d-9e3ce9ce60e9",
   "metadata": {},
   "outputs": [],
   "source": [
    "x.difference(y)       # elementos que están en x pero no en y (x-y)"
   ]
  },
  {
   "cell_type": "code",
   "execution_count": null,
   "id": "0affc564-2921-4d31-872b-452d03a73c77",
   "metadata": {},
   "outputs": [],
   "source": [
    "y.difference(x)       # elementos que están en y pero no en x (y-x)"
   ]
  },
  {
   "cell_type": "code",
   "execution_count": null,
   "id": "c82eb5e0-355e-437c-94fb-8f67ceec5ade",
   "metadata": {},
   "outputs": [],
   "source": [
    "from itertools import product  # vamos a volver a esto en un rato\n",
    "\n",
    "list(product(x,y))  # con product puedo ver el producto cartesiano"
   ]
  },
  {
   "cell_type": "code",
   "execution_count": null,
   "id": "7b8d0720-c685-4d98-98ab-ba04bf02eb30",
   "metadata": {},
   "outputs": [],
   "source": [
    "list(product(y,x))"
   ]
  },
  {
   "cell_type": "code",
   "execution_count": null,
   "id": "eb8322b9-260d-4feb-b382-49aea23a75fa",
   "metadata": {},
   "outputs": [],
   "source": []
  },
  {
   "cell_type": "markdown",
   "id": "cbf0c5e8-3523-45fc-a084-729e5ac46aa6",
   "metadata": {},
   "source": [
    "### Diccionarios"
   ]
  },
  {
   "cell_type": "markdown",
   "id": "4ee323b5-d017-4b4b-adeb-a5193f73ebfe",
   "metadata": {},
   "source": [
    "### Cadenas"
   ]
  },
  {
   "cell_type": "markdown",
   "id": "01f2d94c-adef-457a-a382-1c6bac593309",
   "metadata": {},
   "source": [
    "convertir cadenas a listas"
   ]
  },
  {
   "cell_type": "code",
   "execution_count": null,
   "id": "a31ee92e-2b0e-4972-a6f1-b224d5954cdf",
   "metadata": {},
   "outputs": [],
   "source": [
    "list('hola')"
   ]
  },
  {
   "cell_type": "code",
   "execution_count": null,
   "id": "3d7a5de8-fa53-43f2-a035-ba64683f36f4",
   "metadata": {},
   "outputs": [],
   "source": [
    "'hola mundo'.split()"
   ]
  },
  {
   "cell_type": "code",
   "execution_count": null,
   "id": "b66ac943-99ff-49da-926a-e5fd9d17aac2",
   "metadata": {},
   "outputs": [],
   "source": [
    "bla"
   ]
  },
  {
   "cell_type": "markdown",
   "id": "6090112c-1a00-4369-afa1-622d67ef612a",
   "metadata": {},
   "source": [
    "## Funciones"
   ]
  },
  {
   "cell_type": "markdown",
   "id": "90638941-6ed6-4ef4-982c-d0a0be1e9bb8",
   "metadata": {},
   "source": [
    "## Iteraciones"
   ]
  },
  {
   "cell_type": "markdown",
   "id": "34f405c0-fcdf-4def-93c2-6c1f8bc6f700",
   "metadata": {},
   "source": [
    "## Condicionales"
   ]
  },
  {
   "cell_type": "markdown",
   "id": "193d48b8",
   "metadata": {},
   "source": [
    "## Librerías"
   ]
  },
  {
   "cell_type": "markdown",
   "id": "145c2572",
   "metadata": {},
   "source": [
    "import"
   ]
  },
  {
   "cell_type": "markdown",
   "id": "fd9a42a6-5eb2-4151-a5d0-e2021ec865ce",
   "metadata": {},
   "source": [
    "## Ejercicios"
   ]
  },
  {
   "cell_type": "code",
   "execution_count": null,
   "id": "ad8a5a0c-799c-4856-9e82-5d11f9240433",
   "metadata": {},
   "outputs": [],
   "source": []
  },
  {
   "cell_type": "markdown",
   "id": "c0ee6e2d-d0c2-4415-beb7-8c430e65beda",
   "metadata": {},
   "source": [
    "**Referencias**\n",
    "\n",
    "- [Downey, A., Brooks Jr, F. P., Peek, J., Todino, G., Strang, J., Robbins, A., & Rosenblatt, B. (2012). Think python. 2.0. Green Tea Press Supplemental Material:.](https://greenteapress.com/thinkpython2/thinkpython2.pdf)"
   ]
  }
 ],
 "metadata": {
  "kernelspec": {
   "display_name": "Python 3",
   "language": "python",
   "name": "python3"
  },
  "language_info": {
   "codemirror_mode": {
    "name": "ipython",
    "version": 3
   },
   "file_extension": ".py",
   "mimetype": "text/x-python",
   "name": "python",
   "nbconvert_exporter": "python",
   "pygments_lexer": "ipython3",
   "version": "3.8.10"
  },
  "toc-autonumbering": false,
  "toc-showmarkdowntxt": false,
  "toc-showtags": false
 },
 "nbformat": 4,
 "nbformat_minor": 5
}
