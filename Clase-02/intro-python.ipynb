{
 "cells": [
  {
   "cell_type": "markdown",
   "id": "5c43df3f-369e-4141-ac1b-41ae30037e7d",
   "metadata": {},
   "source": [
    "# Nociones básicas de Python"
   ]
  },
  {
   "cell_type": "markdown",
   "id": "a1d15d17-7ca0-404e-8866-f2775bf88883",
   "metadata": {
    "jp-MarkdownHeadingCollapsed": true,
    "tags": []
   },
   "source": [
    "## Ejecución"
   ]
  },
  {
   "cell_type": "markdown",
   "id": "386b76d5-2a4c-434d-b2d0-56b75176a1d8",
   "metadata": {},
   "source": [
    "En este seminario utilizaremos, entre otros recursos, códigos de programación escritos en Python. Existen dos grandes versiones de Python: Python 2 y Python 3. Nosotros usaremos esta última. Más específicamente, usaremos Python 3.8.10.\n",
    "\n",
    "Existen distintas formas de ejecutar código escrito en Python. Una de ellas es en _notebooks_, como esta que están leyendo. Las notebooks son un entorno computacional interactivo que permiten escribir y ejecutar código de Python, entre otros lenguajes, y combinarlo con fragmentos de texto plano o, incluso, con imágenes.\n",
    "\n",
    "Otra forma de ejecutar código de Python es mediante la consola o terminal. Para abrir una consola pueden presionar `ctrl+alt` o tocar el botón de inicio y escribir \"terminal\". Esto les abrirá una ventana como la siguiente:\n",
    "\n",
    "<div style=\"text-align:center\">\n",
    "    <img src=\"./images/terminal.png\" width=\"400px\"/>\n",
    "</div>\n",
    "\n",
    "Una vez allí, al escribir \"python\" y apretar _enter_ se abrirá el intérprete de Python, un programa que lee y ejecuta código escitro en ese lenguaje. Allí podrán leer algo como lo siguiente:\n",
    "\n",
    "```{python}\n",
    "Python 3.8.10 (default, Mar 27 2022, 23:42:37) \n",
    "[GCC 9.4.0] on linux\n",
    "Type \"help\", \"copyright\", \"credits\" or \"license\" for more information.\n",
    ">>> \n",
    "```\n",
    "\n",
    "Esto les indica que el intérprete se inició con éxito y que están utilizando la versión 3.8.10. Luego del indicador `>>>` pueden escribir sus comandos para ser ejecutados.\n",
    "\n",
    "En caso de necesitar escribir comentarios al código (muy útiles para poder entenderlo más fácilmente), se puede utilizar el numeral (#). El intérprete (ya sea en consola, ya en un entorno interactivo como una notebook) ignorará las líneas que comiencen con ese símbolo."
   ]
  },
  {
   "cell_type": "markdown",
   "id": "878165cc-5d2a-4f04-b65a-39991d1aa44c",
   "metadata": {
    "jp-MarkdownHeadingCollapsed": true,
    "tags": []
   },
   "source": [
    "## Operaciones aritméticas"
   ]
  },
  {
   "cell_type": "markdown",
   "id": "6086819b",
   "metadata": {},
   "source": [
    "En tanto lenguaje, Python tiene elementos que cumplen funciones específicas. Entre ellos, podemos mencionar los números enteros ($\\mathbf{Z}$) y racionales ($\\mathbf{Q}$) y las operaciones aritméticas como suma, resta y multiplicación entre otras."
   ]
  },
  {
   "cell_type": "code",
   "execution_count": null,
   "id": "67eabd86",
   "metadata": {},
   "outputs": [],
   "source": [
    "1 + 10    # suma"
   ]
  },
  {
   "cell_type": "code",
   "execution_count": null,
   "id": "3660fb33",
   "metadata": {},
   "outputs": [],
   "source": [
    "3 - 2     # resta"
   ]
  },
  {
   "cell_type": "code",
   "execution_count": null,
   "id": "94af21b0",
   "metadata": {},
   "outputs": [],
   "source": [
    "2 / 0.5   # división (es lo mismo que escribir 2 / .5)"
   ]
  },
  {
   "cell_type": "code",
   "execution_count": null,
   "id": "f4202dc3",
   "metadata": {},
   "outputs": [],
   "source": [
    "3 * 4    # multiplicación"
   ]
  },
  {
   "cell_type": "code",
   "execution_count": null,
   "id": "6b93991a",
   "metadata": {},
   "outputs": [],
   "source": [
    "100 % 4    # resto de división (0 si la división no tiene resto, 1 si sí lo tiene)"
   ]
  },
  {
   "cell_type": "code",
   "execution_count": null,
   "id": "2e50dd45",
   "metadata": {},
   "outputs": [],
   "source": [
    "100 % 33"
   ]
  },
  {
   "cell_type": "code",
   "execution_count": null,
   "id": "bcfa8bab",
   "metadata": {},
   "outputs": [],
   "source": [
    "3 ** 2    # potenciación"
   ]
  },
  {
   "cell_type": "code",
   "execution_count": null,
   "id": "44d5ca7d",
   "metadata": {},
   "outputs": [],
   "source": [
    "3 > 1    # mayor (para mayor o igual usar: >=)"
   ]
  },
  {
   "cell_type": "code",
   "execution_count": null,
   "id": "96c6a03c",
   "metadata": {},
   "outputs": [],
   "source": [
    "10 <= 90    # menor o igual (para menor usar <)"
   ]
  },
  {
   "cell_type": "code",
   "execution_count": null,
   "id": "fc9e305c",
   "metadata": {},
   "outputs": [],
   "source": [
    "0 >= 9"
   ]
  },
  {
   "cell_type": "code",
   "execution_count": null,
   "id": "bf708ab5",
   "metadata": {},
   "outputs": [],
   "source": [
    "3 == (6/2)    # igualdad"
   ]
  },
  {
   "cell_type": "markdown",
   "id": "e25c4358-d968-4811-bafc-00ccfa7c5b29",
   "metadata": {
    "tags": []
   },
   "source": [
    "## Variables"
   ]
  },
  {
   "cell_type": "markdown",
   "id": "e0b4815d-2548-4234-bb4a-53969f4e79b9",
   "metadata": {},
   "source": [
    "Los **valores** son representaciones de objetos que pueden ser manipulados por un programa de computación. Cada valor tiene un tipo determinado (ahondaremos en esto en el [siguiente apartado](#Tipos-de-objetos)). Los números utilizados anteriormente (enteros o racionales) son ejemplos de valores.\n",
    "\n",
    "Estos valores pueden usarse directamente, como hicimos al ejecutar cuentas como `1+10`, donde `1` es el objeto entero 1 en sí mismo y lo mismo sucede con `10`, o bien pueden almacenarse en variables. Una **variable** es un nombre que refiere a cierto valor. Para asignar un valor en particular a determinada variable se utiliza el signo `=`. Esto se conoce como **asignación** o sentencia de asignación"
   ]
  },
  {
   "cell_type": "code",
   "execution_count": null,
   "id": "684d81d8-0f4f-40db-8bf3-02e258cf7425",
   "metadata": {},
   "outputs": [],
   "source": [
    "mensaje = 'hola mundo'\n",
    "mensaje"
   ]
  },
  {
   "cell_type": "markdown",
   "id": "410f6ea2-8ea0-44b5-b175-1ba07b948457",
   "metadata": {},
   "source": [
    "Una vez que asignamos un valor a nuestra variable, podemos usarla en lugar del valor que contiene. Y también podemos reasignarle otro valor."
   ]
  },
  {
   "cell_type": "code",
   "execution_count": null,
   "id": "61f2e8d6-ebb1-4a47-b747-0c678109d037",
   "metadata": {},
   "outputs": [],
   "source": [
    "mensaje = 'el mensaje anterior cambió'\n",
    "mensaje"
   ]
  },
  {
   "cell_type": "markdown",
   "id": "ed7c8125-8e2c-404a-96ca-3b762c461905",
   "metadata": {},
   "source": [
    "Si queremos usar una variable que no ha sido definida anteriormente, Python nos dirá que no la conoce:"
   ]
  },
  {
   "cell_type": "code",
   "execution_count": null,
   "id": "a1b7e29b-6e67-4287-92bf-7f517feeb2a7",
   "metadata": {},
   "outputs": [],
   "source": [
    "variable"
   ]
  },
  {
   "cell_type": "markdown",
   "id": "1e24fb9a-9ee6-4bea-bc5a-05321d58e938",
   "metadata": {},
   "source": [
    "Vale aclarar que el lenguaje de programación no requiere que el nombre de la variable tenga alguna relación con el valor al que refiere (nada nos impide que una variable llamada `número`contenga un mensaje, por ejemplo). Sin embargo, es una buena práctica poner nombres descriptivos a las variables de modo que el código sea fácil de leer para un humano.\n",
    "\n",
    "No obstante sí existen algunas reglas que se deben seguir a la hora de definir variables:\n",
    "\n",
    "- el nombre de la variable puede ser tan largo como se desee y contener tanto letras como números, pero **no puede empezar con un número**\n",
    "- es posible usar tanto mayúsculas como minúsculas, pero **por convención en Python se usan solo minúsculas** para los nombres de variables (notar que, si bien es posible usar ambas tipografías, no es indistinto: si nombramos una variable con mayúsculas, Python no la reconocerá si lueg la invocamos con su nombre en minúsculas)\n",
    "- cuando el nombre de una variable tiene varias palabras, **es posible usar guines bajos** para delimitarlas, por ejemplo: `mi_primera_variable`\n",
    "- si nombramos a una variable de una forma no permitida, Python nos devolverá un error"
   ]
  },
  {
   "cell_type": "code",
   "execution_count": null,
   "id": "831ba91c-02a8-4263-92b1-b3ee592c272b",
   "metadata": {},
   "outputs": [],
   "source": [
    "1ravariable = 'hola'"
   ]
  },
  {
   "cell_type": "code",
   "execution_count": null,
   "id": "3d13313a-5fde-4dcc-874e-10e273ac6e92",
   "metadata": {},
   "outputs": [],
   "source": [
    "variable1 = 'hola'\n",
    "variable1"
   ]
  },
  {
   "cell_type": "code",
   "execution_count": null,
   "id": "df8d4f56-fd10-4407-b00d-648a37c21c4c",
   "metadata": {},
   "outputs": [],
   "source": [
    "otra_variable = 1\n",
    "otra_variable"
   ]
  },
  {
   "cell_type": "code",
   "execution_count": null,
   "id": "f5d36c94-feb8-4908-b2d7-5652dccc657f",
   "metadata": {},
   "outputs": [],
   "source": [
    "v@riable = 'variable'"
   ]
  },
  {
   "cell_type": "markdown",
   "id": "28ad7cd8-bdab-4b84-807d-ae360d4d6101",
   "metadata": {},
   "source": [
    "Por último, existen una serie de **keywords** reservadas en Python para controlar la estructura de los programas escritos en este lenguaje. Estas no pueden ser utilizadas como nombres de variables. Un ejemplo es la palabra `class`:"
   ]
  },
  {
   "cell_type": "code",
   "execution_count": null,
   "id": "182d2df5-9d19-41a1-900d-c881170af29c",
   "metadata": {},
   "outputs": [],
   "source": [
    "class = 'ilegal assigment'"
   ]
  },
  {
   "cell_type": "markdown",
   "id": "bcc802ef-bbf0-4e63-9e5e-c1393d24fd17",
   "metadata": {},
   "source": [
    "La lista de keywords reservadas es la siguiente:\n",
    "\n",
    "\n",
    "<table>\n",
    "  <tbody>\n",
    "    <tr>\n",
    "      <td>False</td>\n",
    "      <td>for</td>\n",
    "      <td>if</td>\n",
    "      <td>break</td>\n",
    "      <td>try</td>\n",
    "      <td>assert</td>\n",
    "      <td>import</td>\n",
    "      <td>and</td>\n",
    "      <td>in</td>\n",
    "      <td>class</td>\n",
    "      <td>nonlocal</td>\n",
    "    </tr>\n",
    "    <tr>\n",
    "      <td>True</td>\n",
    "      <td>while</td>\n",
    "      <td>elif</td>\n",
    "      <td>raise</td>\n",
    "      <td>except</td>\n",
    "      <td>yield</td>\n",
    "      <td>from</td>\n",
    "      <td>or</td>\n",
    "      <td>not</td>\n",
    "      <td>def</td>\n",
    "      <td>global</td>\n",
    "    </tr>\n",
    "    <tr>\n",
    "      <td>None</td>\n",
    "      <td>continue</td>\n",
    "      <td>else</td>\n",
    "      <td>pass</td>\n",
    "      <td>return</td>\n",
    "      <td>finally</td>\n",
    "      <td>as</td>\n",
    "      <td>is</td>\n",
    "      <td>with</td>\n",
    "      <td>lambda</td>\n",
    "      <td>del</td>\n",
    "    </tr>\n",
    "  </tbody>\n",
    "</table>"
   ]
  },
  {
   "cell_type": "markdown",
   "id": "8c7505dc-7f0f-4a17-b715-738170358eef",
   "metadata": {
    "tags": []
   },
   "source": [
    "## Tipos de objetos"
   ]
  },
  {
   "cell_type": "markdown",
   "id": "95ee7b55-1a62-4521-8a31-f1831a3377d6",
   "metadata": {},
   "source": [
    "A value is one of the basic things a program works with, like a letter or a number. Some\n",
    "values we have seen so far are 2, 42.0, and 'Hello, World!'.\n",
    "These values belong to different types: 2 is an integer, 42.0 is a floating-point number, and\n",
    "'Hello, World!' is a string, so-called because the letters it contains are strung together.\n",
    "If you are not sure what type a value has, the interpreter can tell you:\n",
    ">>> type(2)\n",
    "<class 'int'>\n",
    ">>> type(42.0)\n",
    "<class 'float'>\n",
    ">>> type('Hello, World!')\n",
    "<class 'str'>\n",
    "In these results, the word “class” is used in the sense of a category; a type is a category of\n",
    "values.\n",
    "Not surprisingly, integers belong to the type int, strings belong to str and floating-point\n",
    "numbers belong to float.\n",
    "What about values like '2' and '42.0'? They look like numbers, but they are in quotation\n",
    "marks like strings.\n",
    ">>> type('2')\n",
    "<class 'str'>\n",
    ">>> type('42.0')\n",
    "<class 'str'>\n",
    "They’re strings.\n",
    "When you type a large integer, you might be tempted to use commas between groups of\n",
    "digits, as in 1,000,000. This is not a legal integer in Python, but it is legal:\n",
    ">>> 1,000,000\n",
    "(1, 0, 0)\n",
    "That’s not what we expected at all! Python interprets 1,000,000 as a comma-separated\n",
    "sequence of integers. We’ll learn more about this kind of sequence later."
   ]
  },
  {
   "cell_type": "markdown",
   "id": "18c8d46b-95fb-40b2-b44c-e52cd0c07f8d",
   "metadata": {},
   "source": [
    "### Listas\n",
    "\n",
    "### Conjuntos\n",
    "\n",
    "### Tuplas\n",
    "\n",
    "### Diccionarios\n",
    "\n",
    "### Strings\n",
    "\n",
    "### Booleanos"
   ]
  },
  {
   "cell_type": "markdown",
   "id": "6090112c-1a00-4369-afa1-622d67ef612a",
   "metadata": {},
   "source": [
    "## Funciones"
   ]
  },
  {
   "cell_type": "markdown",
   "id": "90638941-6ed6-4ef4-982c-d0a0be1e9bb8",
   "metadata": {},
   "source": [
    "## Iteraciones"
   ]
  },
  {
   "cell_type": "markdown",
   "id": "34f405c0-fcdf-4def-93c2-6c1f8bc6f700",
   "metadata": {},
   "source": [
    "## Condicionales"
   ]
  },
  {
   "cell_type": "markdown",
   "id": "193d48b8",
   "metadata": {},
   "source": [
    "## Librerías"
   ]
  },
  {
   "cell_type": "markdown",
   "id": "145c2572",
   "metadata": {},
   "source": [
    "import"
   ]
  },
  {
   "cell_type": "markdown",
   "id": "c0ee6e2d-d0c2-4415-beb7-8c430e65beda",
   "metadata": {},
   "source": [
    "**Referencias**\n",
    "\n",
    "- [Downey, A., Brooks Jr, F. P., Peek, J., Todino, G., Strang, J., Robbins, A., & Rosenblatt, B. (2012). Think python. 2.0. Green Tea Press Supplemental Material:.](https://greenteapress.com/thinkpython2/thinkpython2.pdf)"
   ]
  }
 ],
 "metadata": {
  "kernelspec": {
   "display_name": "Python 3 (ipykernel)",
   "language": "python",
   "name": "python3"
  },
  "language_info": {
   "codemirror_mode": {
    "name": "ipython",
    "version": 3
   },
   "file_extension": ".py",
   "mimetype": "text/x-python",
   "name": "python",
   "nbconvert_exporter": "python",
   "pygments_lexer": "ipython3",
   "version": "3.8.10"
  }
 },
 "nbformat": 4,
 "nbformat_minor": 5
}
