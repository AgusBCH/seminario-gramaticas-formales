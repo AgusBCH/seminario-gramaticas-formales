{
 "cells": [
  {
   "cell_type": "markdown",
   "id": "5c43df3f-369e-4141-ac1b-41ae30037e7d",
   "metadata": {},
   "source": [
    "# Nociones básicas de Python"
   ]
  },
  {
   "cell_type": "markdown",
   "id": "a1d15d17-7ca0-404e-8866-f2775bf88883",
   "metadata": {
    "jp-MarkdownHeadingCollapsed": true,
    "tags": []
   },
   "source": [
    "## Ejecución"
   ]
  },
  {
   "cell_type": "markdown",
   "id": "386b76d5-2a4c-434d-b2d0-56b75176a1d8",
   "metadata": {},
   "source": [
    "En este seminario utilizaremos, entre otros recursos, códigos de programación escritos en Python. Existen dos grandes versiones de Python: Python 2 y Python 3. Nosotros usaremos esta última. Más específicamente, usaremos Python 3.8.10.\n",
    "\n",
    "Existen distintas formas de ejecutar código escrito en Python. Una de ellas es en _notebooks_, como esta que están leyendo. Las notebooks son un entorno computacional interactivo que permiten escribir y ejecutar código de Python, entre otros lenguajes, y combinarlo con fragmentos de texto plano o, incluso, con imágenes.\n",
    "\n",
    "Dos de las interfaces más utilizadas para abrir notebooks son [Jupyter Notebook](https://jupyter-notebook.readthedocs.io/en/latest/user-documentation.html) y [Jupyter Lab](https://jupyterlab.readthedocs.io/en/stable/). En la máquina virtual que les brindamos, tienen instalada la primera y, al final de esta clase, instalaremos la segunda.\n",
    "\n",
    "Si no están usando la VM, pueden consultar la sección de [Recursos requeridos](https://fernandocar86.github.io/seminario-gramaticas-formales/Instructivos/recursos.html) para una breve explicación de cómo instalar ambas opciones.\n",
    "\n",
    "Para ejecutarl Jupyter Notebook simplmente deben abrir una consola o terminal (`ctrl+alt+t`) y allí escribir `jupyer notebook`. Eso les abrirá una pestaña en su navegador por defecto y podrán ver las carpetas y archivos en su computadora. Si lo que desean es ejecutar Juyter Lab, deben hacer lo mismo pero escribir `jupyter lab` y se les abrirá una pestaña similar en el navegador.\n",
    "\n",
    "<div style=\"text-align:center\">\n",
    "    <img src=\"./images/terminal.png\" width=\"400px\"/>\n",
    "</div>\n",
    "\n",
    "\n",
    "También es posible ejecutar Python directamente en la consola. Aquí lo que se hace es invocar lo que se llama un _intérprete_, un programa que lee y ejecuta código escitro en determinado lenguaje. Para esto, una vez abierta la consola, deben escribir \"python\" y apretar _enter_. Hecho esto, podrán leer algo como lo siguiente:\n",
    "\n",
    "```{python}\n",
    "Python 3.8.10 (default, Mar 27 2022, 23:42:37) \n",
    "[GCC 9.4.0] on linux\n",
    "Type \"help\", \"copyright\", \"credits\" or \"license\" for more information.\n",
    ">>> \n",
    "```\n",
    "\n",
    "Allí se les indica que el intérprete se inició con éxito y que están utilizando la versión 3.8.10. Luego del indicador `>>>` pueden escribir sus comandos para ser ejecutados.\n",
    "\n",
    "En caso de necesitar escribir comentarios al código (muy útiles para poder entenderlo más fácilmente), se puede utilizar el numeral (#). El intérprete (ya sea en consola, ya en un entorno interactivo como una notebook) ignorará las líneas que comiencen con ese símbolo."
   ]
  },
  {
   "cell_type": "markdown",
   "id": "878165cc-5d2a-4f04-b65a-39991d1aa44c",
   "metadata": {
    "jp-MarkdownHeadingCollapsed": true,
    "tags": []
   },
   "source": [
    "## Operaciones aritméticas"
   ]
  },
  {
   "cell_type": "markdown",
   "id": "6086819b",
   "metadata": {},
   "source": [
    "En tanto lenguaje, Python tiene elementos que cumplen funciones específicas. Entre ellos, podemos mencionar los números enteros ($\\mathbf{Z}$) y racionales ($\\mathbf{Q}$) y las operaciones aritméticas como suma, resta y multiplicación entre otras."
   ]
  },
  {
   "cell_type": "code",
   "execution_count": 61,
   "id": "67eabd86",
   "metadata": {},
   "outputs": [
    {
     "data": {
      "text/plain": [
       "11"
      ]
     },
     "execution_count": 61,
     "metadata": {},
     "output_type": "execute_result"
    }
   ],
   "source": [
    "1 + 10    # suma"
   ]
  },
  {
   "cell_type": "code",
   "execution_count": 62,
   "id": "3660fb33",
   "metadata": {},
   "outputs": [
    {
     "data": {
      "text/plain": [
       "1"
      ]
     },
     "execution_count": 62,
     "metadata": {},
     "output_type": "execute_result"
    }
   ],
   "source": [
    "3 - 2     # resta"
   ]
  },
  {
   "cell_type": "code",
   "execution_count": 63,
   "id": "94af21b0",
   "metadata": {},
   "outputs": [
    {
     "data": {
      "text/plain": [
       "4.0"
      ]
     },
     "execution_count": 63,
     "metadata": {},
     "output_type": "execute_result"
    }
   ],
   "source": [
    "2 / 0.5   # división (es lo mismo que escribir 2 / .5)"
   ]
  },
  {
   "cell_type": "code",
   "execution_count": 64,
   "id": "f4202dc3",
   "metadata": {},
   "outputs": [
    {
     "data": {
      "text/plain": [
       "12"
      ]
     },
     "execution_count": 64,
     "metadata": {},
     "output_type": "execute_result"
    }
   ],
   "source": [
    "3 * 4    # multiplicación"
   ]
  },
  {
   "cell_type": "code",
   "execution_count": 65,
   "id": "6b93991a",
   "metadata": {},
   "outputs": [
    {
     "data": {
      "text/plain": [
       "0"
      ]
     },
     "execution_count": 65,
     "metadata": {},
     "output_type": "execute_result"
    }
   ],
   "source": [
    "100 % 4    # resto de división (0 si la división no tiene resto, 1 si sí lo tiene)"
   ]
  },
  {
   "cell_type": "code",
   "execution_count": 66,
   "id": "2e50dd45",
   "metadata": {},
   "outputs": [
    {
     "data": {
      "text/plain": [
       "1"
      ]
     },
     "execution_count": 66,
     "metadata": {},
     "output_type": "execute_result"
    }
   ],
   "source": [
    "100 % 33"
   ]
  },
  {
   "cell_type": "code",
   "execution_count": 67,
   "id": "bcfa8bab",
   "metadata": {},
   "outputs": [
    {
     "data": {
      "text/plain": [
       "9"
      ]
     },
     "execution_count": 67,
     "metadata": {},
     "output_type": "execute_result"
    }
   ],
   "source": [
    "3 ** 2    # potenciación"
   ]
  },
  {
   "cell_type": "markdown",
   "id": "e25c4358-d968-4811-bafc-00ccfa7c5b29",
   "metadata": {
    "jp-MarkdownHeadingCollapsed": true,
    "tags": []
   },
   "source": [
    "## Variables"
   ]
  },
  {
   "cell_type": "markdown",
   "id": "e0b4815d-2548-4234-bb4a-53969f4e79b9",
   "metadata": {},
   "source": [
    "Los **valores** son representaciones de objetos que pueden ser manipulados por un programa de computación. Cada valor tiene un tipo determinado (ahondaremos en esto en el [siguiente apartado](#Tipos-de-objetos)). Los números utilizados anteriormente (enteros o racionales) son ejemplos de valores.\n",
    "\n",
    "Estos valores pueden usarse directamente, como hicimos al ejecutar cuentas como `1+10`, donde `1` es el objeto entero 1 en sí mismo y lo mismo sucede con `10`, o bien pueden almacenarse en variables. Una **variable** es un nombre que refiere a cierto valor. Para asignar un valor en particular a determinada variable se utiliza el signo `=`. Esto se conoce como **asignación** o sentencia de asignación"
   ]
  },
  {
   "cell_type": "code",
   "execution_count": 68,
   "id": "684d81d8-0f4f-40db-8bf3-02e258cf7425",
   "metadata": {},
   "outputs": [
    {
     "data": {
      "text/plain": [
       "'hola mundo'"
      ]
     },
     "execution_count": 68,
     "metadata": {},
     "output_type": "execute_result"
    }
   ],
   "source": [
    "mensaje = 'hola mundo'\n",
    "mensaje"
   ]
  },
  {
   "cell_type": "markdown",
   "id": "410f6ea2-8ea0-44b5-b175-1ba07b948457",
   "metadata": {},
   "source": [
    "Una vez que asignamos un valor a nuestra variable, podemos usarla en lugar del valor que contiene. Y también podemos reasignarle otro valor."
   ]
  },
  {
   "cell_type": "code",
   "execution_count": 69,
   "id": "61f2e8d6-ebb1-4a47-b747-0c678109d037",
   "metadata": {},
   "outputs": [
    {
     "data": {
      "text/plain": [
       "'el mensaje anterior cambió'"
      ]
     },
     "execution_count": 69,
     "metadata": {},
     "output_type": "execute_result"
    }
   ],
   "source": [
    "mensaje = 'el mensaje anterior cambió'\n",
    "mensaje"
   ]
  },
  {
   "cell_type": "markdown",
   "id": "ed7c8125-8e2c-404a-96ca-3b762c461905",
   "metadata": {},
   "source": [
    "Si queremos usar una variable que no ha sido definida anteriormente, Python nos dirá que no la conoce:"
   ]
  },
  {
   "cell_type": "code",
   "execution_count": 70,
   "id": "a1b7e29b-6e67-4287-92bf-7f517feeb2a7",
   "metadata": {},
   "outputs": [
    {
     "ename": "NameError",
     "evalue": "name 'variable' is not defined",
     "output_type": "error",
     "traceback": [
      "\u001b[0;31m---------------------------------------------------------------------------\u001b[0m",
      "\u001b[0;31mNameError\u001b[0m                                 Traceback (most recent call last)",
      "Input \u001b[0;32mIn [70]\u001b[0m, in \u001b[0;36m<cell line: 1>\u001b[0;34m()\u001b[0m\n\u001b[0;32m----> 1\u001b[0m \u001b[43mvariable\u001b[49m\n",
      "\u001b[0;31mNameError\u001b[0m: name 'variable' is not defined"
     ]
    }
   ],
   "source": [
    "variable"
   ]
  },
  {
   "cell_type": "markdown",
   "id": "1e24fb9a-9ee6-4bea-bc5a-05321d58e938",
   "metadata": {},
   "source": [
    "Vale aclarar que el lenguaje de programación no requiere que el nombre de la variable tenga alguna relación con el valor al que refiere (nada nos impide que una variable llamada `número`contenga un mensaje, por ejemplo). Sin embargo, es una buena práctica poner nombres descriptivos a las variables de modo que el código sea fácil de leer para un humano.\n",
    "\n",
    "No obstante sí existen algunas reglas que se deben seguir a la hora de definir variables:\n",
    "\n",
    "- el nombre de la variable puede ser tan largo como se desee y contener tanto letras como números, pero **no puede empezar con un número**\n",
    "- es posible usar tanto mayúsculas como minúsculas, pero **por convención en Python se usan solo minúsculas** para los nombres de variables (notar que, si bien es posible usar ambas tipografías, no es indistinto: si nombramos una variable con mayúsculas, Python no la reconocerá si lueg la invocamos con su nombre en minúsculas)\n",
    "- cuando el nombre de una variable tiene varias palabras, **es posible usar guines bajos** para delimitarlas, por ejemplo: `mi_primera_variable`\n",
    "- si nombramos a una variable de una forma no permitida, Python nos devolverá un error"
   ]
  },
  {
   "cell_type": "code",
   "execution_count": 71,
   "id": "831ba91c-02a8-4263-92b1-b3ee592c272b",
   "metadata": {},
   "outputs": [
    {
     "ename": "SyntaxError",
     "evalue": "invalid syntax (242862103.py, line 1)",
     "output_type": "error",
     "traceback": [
      "\u001b[0;36m  Input \u001b[0;32mIn [71]\u001b[0;36m\u001b[0m\n\u001b[0;31m    1ravariable = 'hola'\u001b[0m\n\u001b[0m     ^\u001b[0m\n\u001b[0;31mSyntaxError\u001b[0m\u001b[0;31m:\u001b[0m invalid syntax\n"
     ]
    }
   ],
   "source": [
    "1ravariable = 'hola'"
   ]
  },
  {
   "cell_type": "code",
   "execution_count": 72,
   "id": "3d13313a-5fde-4dcc-874e-10e273ac6e92",
   "metadata": {},
   "outputs": [
    {
     "data": {
      "text/plain": [
       "'hola'"
      ]
     },
     "execution_count": 72,
     "metadata": {},
     "output_type": "execute_result"
    }
   ],
   "source": [
    "variable1 = 'hola'\n",
    "variable1"
   ]
  },
  {
   "cell_type": "code",
   "execution_count": 73,
   "id": "df8d4f56-fd10-4407-b00d-648a37c21c4c",
   "metadata": {},
   "outputs": [
    {
     "data": {
      "text/plain": [
       "1"
      ]
     },
     "execution_count": 73,
     "metadata": {},
     "output_type": "execute_result"
    }
   ],
   "source": [
    "otra_variable = 1\n",
    "otra_variable"
   ]
  },
  {
   "cell_type": "code",
   "execution_count": 74,
   "id": "f5d36c94-feb8-4908-b2d7-5652dccc657f",
   "metadata": {},
   "outputs": [
    {
     "ename": "SyntaxError",
     "evalue": "cannot assign to operator (1226026828.py, line 1)",
     "output_type": "error",
     "traceback": [
      "\u001b[0;36m  Input \u001b[0;32mIn [74]\u001b[0;36m\u001b[0m\n\u001b[0;31m    v@riable = 'variable'\u001b[0m\n\u001b[0m    ^\u001b[0m\n\u001b[0;31mSyntaxError\u001b[0m\u001b[0;31m:\u001b[0m cannot assign to operator\n"
     ]
    }
   ],
   "source": [
    "v@riable = 'variable'"
   ]
  },
  {
   "cell_type": "markdown",
   "id": "28ad7cd8-bdab-4b84-807d-ae360d4d6101",
   "metadata": {},
   "source": [
    "Por último, existen una serie de **keywords** reservadas en Python para controlar la estructura de los programas escritos en este lenguaje. Estas no pueden ser utilizadas como nombres de variables. Un ejemplo es la palabra `class`:"
   ]
  },
  {
   "cell_type": "code",
   "execution_count": 75,
   "id": "182d2df5-9d19-41a1-900d-c881170af29c",
   "metadata": {},
   "outputs": [
    {
     "ename": "SyntaxError",
     "evalue": "invalid syntax (1588403966.py, line 1)",
     "output_type": "error",
     "traceback": [
      "\u001b[0;36m  Input \u001b[0;32mIn [75]\u001b[0;36m\u001b[0m\n\u001b[0;31m    class = 'ilegal assigment'\u001b[0m\n\u001b[0m          ^\u001b[0m\n\u001b[0;31mSyntaxError\u001b[0m\u001b[0;31m:\u001b[0m invalid syntax\n"
     ]
    }
   ],
   "source": [
    "class = 'ilegal assigment'"
   ]
  },
  {
   "cell_type": "markdown",
   "id": "bcc802ef-bbf0-4e63-9e5e-c1393d24fd17",
   "metadata": {},
   "source": [
    "La lista de keywords reservadas es la siguiente:\n",
    "\n",
    "\n",
    "<table>\n",
    "  <tbody>\n",
    "    <tr>\n",
    "      <td>False</td>\n",
    "      <td>for</td>\n",
    "      <td>if</td>\n",
    "      <td>break</td>\n",
    "      <td>try</td>\n",
    "      <td>assert</td>\n",
    "      <td>import</td>\n",
    "      <td>and</td>\n",
    "      <td>in</td>\n",
    "      <td>class</td>\n",
    "      <td>nonlocal</td>\n",
    "    </tr>\n",
    "    <tr>\n",
    "      <td>True</td>\n",
    "      <td>while</td>\n",
    "      <td>elif</td>\n",
    "      <td>raise</td>\n",
    "      <td>except</td>\n",
    "      <td>yield</td>\n",
    "      <td>from</td>\n",
    "      <td>or</td>\n",
    "      <td>not</td>\n",
    "      <td>def</td>\n",
    "      <td>global</td>\n",
    "    </tr>\n",
    "    <tr>\n",
    "      <td>None</td>\n",
    "      <td>continue</td>\n",
    "      <td>else</td>\n",
    "      <td>pass</td>\n",
    "      <td>return</td>\n",
    "      <td>finally</td>\n",
    "      <td>as</td>\n",
    "      <td>is</td>\n",
    "      <td>with</td>\n",
    "      <td>lambda</td>\n",
    "      <td>del</td>\n",
    "    </tr>\n",
    "  </tbody>\n",
    "</table>"
   ]
  },
  {
   "cell_type": "markdown",
   "id": "8c7505dc-7f0f-4a17-b715-738170358eef",
   "metadata": {
    "tags": []
   },
   "source": [
    "## Tipos de objetos"
   ]
  },
  {
   "cell_type": "markdown",
   "id": "97022ac5-78a4-4a4d-aaba-db73b2713c26",
   "metadata": {},
   "source": [
    "Los valores pueden ser de distinto tipo: un (número) entero, un (número con punto) flotante, una cadena (de letras), etc. Cada uno de estos tipos de valores admite ciertas operaciones que veremos a continuación.\n",
    "\n",
    "Para conocer qué tipo de objeto es determinado valor, podemos usar la función `type()`. Esta puede ser aplicada sobre el valor mismo o sobre una variables que contiene a un valor."
   ]
  },
  {
   "cell_type": "markdown",
   "id": "63580a08-c368-4c8e-8ee9-41fe5ad0ba97",
   "metadata": {
    "jp-MarkdownHeadingCollapsed": true,
    "tags": []
   },
   "source": [
    "### Enteros y números de punto flotante"
   ]
  },
  {
   "cell_type": "markdown",
   "id": "a07a752b-9b19-4883-94bd-8fe38bfb6db3",
   "metadata": {},
   "source": [
    "El tipo de objeto `int` permite representar los números enteros ($\\mathbf{Z}$) en python."
   ]
  },
  {
   "cell_type": "code",
   "execution_count": 76,
   "id": "c26d1305-6a1c-4843-b2d4-ea71395204b1",
   "metadata": {},
   "outputs": [
    {
     "data": {
      "text/plain": [
       "int"
      ]
     },
     "execution_count": 76,
     "metadata": {},
     "output_type": "execute_result"
    }
   ],
   "source": [
    "num = 35\n",
    "type(num)"
   ]
  },
  {
   "cell_type": "markdown",
   "id": "07523701-ad7f-4fd9-a760-e549e7001321",
   "metadata": {},
   "source": [
    "Esto solo vale para valores que efetivamente son un número, no así para los que están dentro de un texto o cadena."
   ]
  },
  {
   "cell_type": "code",
   "execution_count": 77,
   "id": "0b7a1d20-fbe4-4c1b-a9a5-19cda5d73679",
   "metadata": {},
   "outputs": [
    {
     "data": {
      "text/plain": [
       "str"
      ]
     },
     "execution_count": 77,
     "metadata": {},
     "output_type": "execute_result"
    }
   ],
   "source": [
    "num_string = '35'\n",
    "type(num_string)"
   ]
  },
  {
   "cell_type": "markdown",
   "id": "019cd519-b0b7-47d9-bc36-9c3b3d94b7fb",
   "metadata": {},
   "source": [
    "Sin embargo, si el texto contiene solamente un número, es posible convertirlo a entero utilizando la función `int()`."
   ]
  },
  {
   "cell_type": "code",
   "execution_count": 78,
   "id": "49fd1c11-b8f3-4eaa-bb3e-ba309fa22896",
   "metadata": {},
   "outputs": [
    {
     "data": {
      "text/plain": [
       "int"
      ]
     },
     "execution_count": 78,
     "metadata": {},
     "output_type": "execute_result"
    }
   ],
   "source": [
    "num_int = int(num_string)\n",
    "type(num_int)"
   ]
  },
  {
   "cell_type": "markdown",
   "id": "45587710-7890-4173-ac5c-1298cbf4cb99",
   "metadata": {},
   "source": [
    "Por otro lado, si lo que queremos es representar un número racional ($\\mathbf{Q}$), debemos usar el tipo de objeto `float`."
   ]
  },
  {
   "cell_type": "code",
   "execution_count": 79,
   "id": "70ffd49f-cf15-4ab9-8a52-7b57a996e4d5",
   "metadata": {},
   "outputs": [
    {
     "data": {
      "text/plain": [
       "float"
      ]
     },
     "execution_count": 79,
     "metadata": {},
     "output_type": "execute_result"
    }
   ],
   "source": [
    "rac = 3.6\n",
    "type(rac)"
   ]
  },
  {
   "cell_type": "markdown",
   "id": "da41b6df-441b-4470-b10f-42d088958c68",
   "metadata": {},
   "source": [
    "Y aquí sucede lo mismo con el número en formato texto o cadena, solo que debemos utilizar la función `float()` para la conversión."
   ]
  },
  {
   "cell_type": "code",
   "execution_count": 80,
   "id": "6e58345b-41f1-47ec-8aaa-51f809b881ed",
   "metadata": {},
   "outputs": [
    {
     "data": {
      "text/plain": [
       "str"
      ]
     },
     "execution_count": 80,
     "metadata": {},
     "output_type": "execute_result"
    }
   ],
   "source": [
    "rac_str = '4.0'\n",
    "type(rac_str)"
   ]
  },
  {
   "cell_type": "code",
   "execution_count": 81,
   "id": "ab998dcc-84bb-42d3-b087-5d337fe33b91",
   "metadata": {},
   "outputs": [
    {
     "data": {
      "text/plain": [
       "float"
      ]
     },
     "execution_count": 81,
     "metadata": {},
     "output_type": "execute_result"
    }
   ],
   "source": [
    "rac_float = float(rac_str)\n",
    "type(rac_float)"
   ]
  },
  {
   "cell_type": "markdown",
   "id": "304095e2-113b-485c-b6d0-965236dfb76f",
   "metadata": {},
   "source": [
    "También es posible convertir un número de entero a float y viceversa. En el primer caso perderemos los decimales y en el segundo, se agregará el punto flotante y un cero luego."
   ]
  },
  {
   "cell_type": "code",
   "execution_count": 82,
   "id": "57d118a2-c523-4d5b-8b64-afbc14e61255",
   "metadata": {},
   "outputs": [
    {
     "data": {
      "text/plain": [
       "3.6"
      ]
     },
     "execution_count": 82,
     "metadata": {},
     "output_type": "execute_result"
    }
   ],
   "source": [
    "rac"
   ]
  },
  {
   "cell_type": "code",
   "execution_count": 83,
   "id": "50064463-5388-45dd-823c-f8f1bc24a393",
   "metadata": {},
   "outputs": [
    {
     "data": {
      "text/plain": [
       "3"
      ]
     },
     "execution_count": 83,
     "metadata": {},
     "output_type": "execute_result"
    }
   ],
   "source": [
    "int(rac)"
   ]
  },
  {
   "cell_type": "code",
   "execution_count": 84,
   "id": "837d4d7a-1758-462d-82a0-f4dd9862c87b",
   "metadata": {},
   "outputs": [
    {
     "data": {
      "text/plain": [
       "35"
      ]
     },
     "execution_count": 84,
     "metadata": {},
     "output_type": "execute_result"
    }
   ],
   "source": [
    "num_int"
   ]
  },
  {
   "cell_type": "code",
   "execution_count": 85,
   "id": "a48d49eb-0e3f-4bf6-892e-9ccc43097480",
   "metadata": {},
   "outputs": [
    {
     "data": {
      "text/plain": [
       "35.0"
      ]
     },
     "execution_count": 85,
     "metadata": {},
     "output_type": "execute_result"
    }
   ],
   "source": [
    "float(num_int)"
   ]
  },
  {
   "cell_type": "markdown",
   "id": "81accb14-ea17-4a48-9e9d-fda78a5e72cb",
   "metadata": {
    "jp-MarkdownHeadingCollapsed": true,
    "tags": []
   },
   "source": [
    "### Booleanos"
   ]
  },
  {
   "cell_type": "markdown",
   "id": "e25c3f40-5c24-4323-ad44-6fc28fa46e53",
   "metadata": {},
   "source": [
    "Los booleanos son un tipo de valor que nos indica si algo es cierto o falso."
   ]
  },
  {
   "cell_type": "code",
   "execution_count": 86,
   "id": "3832dad9-a95d-4cc7-88dd-484c8e9929e7",
   "metadata": {},
   "outputs": [
    {
     "data": {
      "text/plain": [
       "True"
      ]
     },
     "execution_count": 86,
     "metadata": {},
     "output_type": "execute_result"
    }
   ],
   "source": [
    "True"
   ]
  },
  {
   "cell_type": "code",
   "execution_count": 87,
   "id": "1e64256e-6624-46fe-9ff7-a5ec5d3086d8",
   "metadata": {},
   "outputs": [
    {
     "data": {
      "text/plain": [
       "False"
      ]
     },
     "execution_count": 87,
     "metadata": {},
     "output_type": "execute_result"
    }
   ],
   "source": [
    "False"
   ]
  },
  {
   "cell_type": "code",
   "execution_count": 88,
   "id": "c3037062-a082-4280-bb48-d41e3a05a4e8",
   "metadata": {},
   "outputs": [
    {
     "data": {
      "text/plain": [
       "bool"
      ]
     },
     "execution_count": 88,
     "metadata": {},
     "output_type": "execute_result"
    }
   ],
   "source": [
    "type(True)"
   ]
  },
  {
   "cell_type": "markdown",
   "id": "572dcfb0-78cd-439c-81ab-f6f0ec4d8600",
   "metadata": {},
   "source": [
    "Podemos obtener este tipo de valores como resultado de expresiones booleanas:"
   ]
  },
  {
   "cell_type": "code",
   "execution_count": 89,
   "id": "44d5ca7d",
   "metadata": {},
   "outputs": [
    {
     "data": {
      "text/plain": [
       "True"
      ]
     },
     "execution_count": 89,
     "metadata": {},
     "output_type": "execute_result"
    }
   ],
   "source": [
    "3 > 1       # mayor (para mayor o igual usar: >=)"
   ]
  },
  {
   "cell_type": "code",
   "execution_count": 90,
   "id": "96c6a03c",
   "metadata": {},
   "outputs": [
    {
     "data": {
      "text/plain": [
       "True"
      ]
     },
     "execution_count": 90,
     "metadata": {},
     "output_type": "execute_result"
    }
   ],
   "source": [
    "10 <= 90    # menor o igual (para menor usar <)"
   ]
  },
  {
   "cell_type": "code",
   "execution_count": 91,
   "id": "fc9e305c",
   "metadata": {},
   "outputs": [
    {
     "data": {
      "text/plain": [
       "False"
      ]
     },
     "execution_count": 91,
     "metadata": {},
     "output_type": "execute_result"
    }
   ],
   "source": [
    "0 >= 9"
   ]
  },
  {
   "cell_type": "code",
   "execution_count": 92,
   "id": "bf708ab5",
   "metadata": {},
   "outputs": [
    {
     "data": {
      "text/plain": [
       "True"
      ]
     },
     "execution_count": 92,
     "metadata": {},
     "output_type": "execute_result"
    }
   ],
   "source": [
    "3 == (6/2)  # igualdad"
   ]
  },
  {
   "cell_type": "markdown",
   "id": "6ef304a4-35ed-484c-afb2-ae8e28418974",
   "metadata": {},
   "source": [
    "#### Operadores relacionales"
   ]
  },
  {
   "cell_type": "markdown",
   "id": "cbeac756-75c4-4aff-9e61-f7e81ab17ec5",
   "metadata": {},
   "source": [
    "```\n",
    "x != y      # x es distinta de y\n",
    "x > y       # x es más grande que y\n",
    "x < y       # x es más chica que y\n",
    "x >= y      # x es es más grande o igual que y\n",
    "x <= y      # x es más chica o igual que y\n",
    "```"
   ]
  },
  {
   "cell_type": "markdown",
   "id": "d25d6074-1a27-4d4f-80e2-b152926dea2e",
   "metadata": {},
   "source": [
    "#### Operadores lógicos"
   ]
  },
  {
   "cell_type": "markdown",
   "id": "74a9273c-1b33-41bf-8b68-214574aee689",
   "metadata": {},
   "source": [
    "```\n",
    "x and y     # CONJUNCIÓN: devuelve True si tanto x como y son verdaderas\n",
    "x or y      # DISYUNCIÓN INCLUSIVA: devuelve True si x es verdadera y/o y también lo es\n",
    "not x       # NEGACIÓN: devuelve True si x es falsa\n",
    "```"
   ]
  },
  {
   "cell_type": "code",
   "execution_count": 93,
   "id": "527de832-f47f-45b1-898f-e57a275a94d9",
   "metadata": {},
   "outputs": [
    {
     "data": {
      "text/plain": [
       "True"
      ]
     },
     "execution_count": 93,
     "metadata": {},
     "output_type": "execute_result"
    }
   ],
   "source": [
    "x = 3 > 2\n",
    "x"
   ]
  },
  {
   "cell_type": "code",
   "execution_count": 94,
   "id": "118e461a-1ec8-4866-a1f2-37e5ccc7f286",
   "metadata": {},
   "outputs": [
    {
     "data": {
      "text/plain": [
       "True"
      ]
     },
     "execution_count": 94,
     "metadata": {},
     "output_type": "execute_result"
    }
   ],
   "source": [
    "y = type(3) == int\n",
    "y"
   ]
  },
  {
   "cell_type": "code",
   "execution_count": 95,
   "id": "37c848d9-2771-447a-832c-ac8d3451362d",
   "metadata": {},
   "outputs": [
    {
     "data": {
      "text/plain": [
       "False"
      ]
     },
     "execution_count": 95,
     "metadata": {},
     "output_type": "execute_result"
    }
   ],
   "source": [
    "z = len([]) == 4\n",
    "z"
   ]
  },
  {
   "cell_type": "code",
   "execution_count": 96,
   "id": "b0bc977b-c06b-432b-8619-cc8147156e1a",
   "metadata": {},
   "outputs": [
    {
     "data": {
      "text/plain": [
       "True"
      ]
     },
     "execution_count": 96,
     "metadata": {},
     "output_type": "execute_result"
    }
   ],
   "source": [
    "x and y"
   ]
  },
  {
   "cell_type": "code",
   "execution_count": 97,
   "id": "910b461d-d05f-499e-9397-e54eda9aa857",
   "metadata": {},
   "outputs": [
    {
     "data": {
      "text/plain": [
       "False"
      ]
     },
     "execution_count": 97,
     "metadata": {},
     "output_type": "execute_result"
    }
   ],
   "source": [
    "x and z"
   ]
  },
  {
   "cell_type": "code",
   "execution_count": 98,
   "id": "d2155a06-2774-470f-8e85-7c6a020623fb",
   "metadata": {},
   "outputs": [
    {
     "data": {
      "text/plain": [
       "True"
      ]
     },
     "execution_count": 98,
     "metadata": {},
     "output_type": "execute_result"
    }
   ],
   "source": [
    "x or y"
   ]
  },
  {
   "cell_type": "code",
   "execution_count": 99,
   "id": "647d53c5-cf4d-495d-a7ed-c308ced36780",
   "metadata": {},
   "outputs": [
    {
     "data": {
      "text/plain": [
       "True"
      ]
     },
     "execution_count": 99,
     "metadata": {},
     "output_type": "execute_result"
    }
   ],
   "source": [
    "y or z"
   ]
  },
  {
   "cell_type": "code",
   "execution_count": 100,
   "id": "d6720cc6-99e5-4b26-a883-0c5ded45684c",
   "metadata": {},
   "outputs": [
    {
     "data": {
      "text/plain": [
       "False"
      ]
     },
     "execution_count": 100,
     "metadata": {},
     "output_type": "execute_result"
    }
   ],
   "source": [
    "z or z"
   ]
  },
  {
   "cell_type": "code",
   "execution_count": 101,
   "id": "8a287ad7-d81c-4b24-a52f-8bb0288b2d3a",
   "metadata": {},
   "outputs": [
    {
     "data": {
      "text/plain": [
       "False"
      ]
     },
     "execution_count": 101,
     "metadata": {},
     "output_type": "execute_result"
    }
   ],
   "source": [
    "not x"
   ]
  },
  {
   "cell_type": "code",
   "execution_count": 102,
   "id": "71f5cd50-ecf5-471f-8698-a63cde8aa4e4",
   "metadata": {},
   "outputs": [
    {
     "data": {
      "text/plain": [
       "True"
      ]
     },
     "execution_count": 102,
     "metadata": {},
     "output_type": "execute_result"
    }
   ],
   "source": [
    "not z"
   ]
  },
  {
   "cell_type": "markdown",
   "id": "49bf09ed-7241-47a0-b052-8b5e49d3e733",
   "metadata": {
    "jp-MarkdownHeadingCollapsed": true,
    "tags": [],
    "toc-hr-collapsed": true
   },
   "source": [
    "### Listas"
   ]
  },
  {
   "cell_type": "markdown",
   "id": "353f7739-29d6-431a-be90-13bb3cb06c4f",
   "metadata": {},
   "source": [
    "Una lista es **una secuencia de valores ordenados**, donde los valores pueden ser de cualquier tipo. Estos valores suelen ser llamados _elementos_ o _items_ de la lista.\n",
    "\n",
    "Para definir las listas usamos corchetes (`[]`)."
   ]
  },
  {
   "cell_type": "code",
   "execution_count": 103,
   "id": "b8613847-a8d6-4759-be4e-3aadcb6cc187",
   "metadata": {},
   "outputs": [
    {
     "data": {
      "text/plain": [
       "[3, 10, 'hola']"
      ]
     },
     "execution_count": 103,
     "metadata": {},
     "output_type": "execute_result"
    }
   ],
   "source": [
    "lista = [3, 10, 'hola']\n",
    "lista"
   ]
  },
  {
   "cell_type": "code",
   "execution_count": 104,
   "id": "ed17b50f-5070-4a9f-aaa1-ce98e868be38",
   "metadata": {},
   "outputs": [
    {
     "data": {
      "text/plain": [
       "list"
      ]
     },
     "execution_count": 104,
     "metadata": {},
     "output_type": "execute_result"
    }
   ],
   "source": [
    "type(lista)"
   ]
  },
  {
   "cell_type": "markdown",
   "id": "d41ef4c1-9aaa-4a9d-aa59-bf9c5e4bcd45",
   "metadata": {},
   "source": [
    "También es posible crear listas vacías."
   ]
  },
  {
   "cell_type": "code",
   "execution_count": 105,
   "id": "79b0cb5e-e59f-4268-9031-2a867ff41057",
   "metadata": {},
   "outputs": [
    {
     "data": {
      "text/plain": [
       "[]"
      ]
     },
     "execution_count": 105,
     "metadata": {},
     "output_type": "execute_result"
    }
   ],
   "source": [
    "lista_vacia = []     # esto es lo mismo que lista_vacia = list()\n",
    "lista_vacia"
   ]
  },
  {
   "cell_type": "markdown",
   "id": "23d8f639-8d14-41cf-afe5-1e57c4572f3e",
   "metadata": {},
   "source": [
    "Una lista puede asimismo contener otra lista."
   ]
  },
  {
   "cell_type": "code",
   "execution_count": 106,
   "id": "f7e13279-cb2c-4f42-8367-35a3d2d24703",
   "metadata": {},
   "outputs": [
    {
     "data": {
      "text/plain": [
       "[1, 2, 3, ['soy', 'una', 'lista'], ['otra', 'lista']]"
      ]
     },
     "execution_count": 106,
     "metadata": {},
     "output_type": "execute_result"
    }
   ],
   "source": [
    "lista_con_listas = [1,2,3, ['soy','una','lista'], ['otra','lista']]\n",
    "lista_con_listas"
   ]
  },
  {
   "cell_type": "markdown",
   "id": "26413a66-d063-4fd3-8f31-13e99ee155d5",
   "metadata": {},
   "source": [
    "Para conocer la longitud de una lista, puedo utilizar la función `len()`."
   ]
  },
  {
   "cell_type": "code",
   "execution_count": 107,
   "id": "23e2e406-f1aa-4073-b502-534bad66e2ff",
   "metadata": {},
   "outputs": [
    {
     "data": {
      "text/plain": [
       "3"
      ]
     },
     "execution_count": 107,
     "metadata": {},
     "output_type": "execute_result"
    }
   ],
   "source": [
    "len(lista)"
   ]
  },
  {
   "cell_type": "code",
   "execution_count": 108,
   "id": "331f2b26-86fa-43cb-befa-b5e617dd65bb",
   "metadata": {},
   "outputs": [
    {
     "data": {
      "text/plain": [
       "0"
      ]
     },
     "execution_count": 108,
     "metadata": {},
     "output_type": "execute_result"
    }
   ],
   "source": [
    "len(lista_vacia)"
   ]
  },
  {
   "cell_type": "code",
   "execution_count": 109,
   "id": "54cedfdf-8184-4019-ab6b-52c8ad3fb95d",
   "metadata": {},
   "outputs": [
    {
     "data": {
      "text/plain": [
       "5"
      ]
     },
     "execution_count": 109,
     "metadata": {},
     "output_type": "execute_result"
    }
   ],
   "source": [
    "len(lista_con_listas)"
   ]
  },
  {
   "cell_type": "markdown",
   "id": "c9b22ebb-d3c2-4346-9b8c-d943451bbdae",
   "metadata": {},
   "source": [
    "Además, como es una secuencia ordenada, puedo ver qué elemento se encuentra en cada posición de la lista. Basta indicar la posición cuyo elemento quiero averiguar entre corchetes. Sí es importante notar que la primera posición se indica con 0 y no con 1."
   ]
  },
  {
   "cell_type": "code",
   "execution_count": 110,
   "id": "6b5e02d5-c1a5-4349-80ed-02c6d4e4a659",
   "metadata": {},
   "outputs": [
    {
     "data": {
      "text/plain": [
       "3"
      ]
     },
     "execution_count": 110,
     "metadata": {},
     "output_type": "execute_result"
    }
   ],
   "source": [
    "lista[0]    # me permite acceder al primer elemento"
   ]
  },
  {
   "cell_type": "code",
   "execution_count": 111,
   "id": "5f8b0b56-54f2-49db-b854-9e56e6b6b6dd",
   "metadata": {},
   "outputs": [
    {
     "data": {
      "text/plain": [
       "2"
      ]
     },
     "execution_count": 111,
     "metadata": {},
     "output_type": "execute_result"
    }
   ],
   "source": [
    "lista_con_listas[1]    # me permite acceder al segundo elemento"
   ]
  },
  {
   "cell_type": "code",
   "execution_count": 112,
   "id": "fd39ef1e-a64c-4ede-b2d6-fd67d731d08e",
   "metadata": {},
   "outputs": [
    {
     "data": {
      "text/plain": [
       "['otra', 'lista']"
      ]
     },
     "execution_count": 112,
     "metadata": {},
     "output_type": "execute_result"
    }
   ],
   "source": [
    "lista_con_listas[-1]    # me permite acceder al último elemento"
   ]
  },
  {
   "cell_type": "markdown",
   "id": "cff88016-eee2-454c-b9b2-ad2595424b48",
   "metadata": {},
   "source": [
    "Y, del mismo modo, si yo ya sé que un elemento se encuentra en una lista, puedo averiguar cuál es su posición utilizando el método `index()`. Si el elemento en cuestión aparece más de una vez en la lista (nada impide que esto suceda), este método solo nos indicará la primera posición en la cual podemos encontrarlo."
   ]
  },
  {
   "cell_type": "code",
   "execution_count": 113,
   "id": "44870d3a-52bf-4275-b52b-bdb1e01e7d53",
   "metadata": {},
   "outputs": [
    {
     "data": {
      "text/plain": [
       "2"
      ]
     },
     "execution_count": 113,
     "metadata": {},
     "output_type": "execute_result"
    }
   ],
   "source": [
    "lista.index('hola')"
   ]
  },
  {
   "cell_type": "code",
   "execution_count": 114,
   "id": "a6a9b1db-f034-4731-8744-025ab2345ec3",
   "metadata": {},
   "outputs": [
    {
     "data": {
      "text/plain": [
       "1"
      ]
     },
     "execution_count": 114,
     "metadata": {},
     "output_type": "execute_result"
    }
   ],
   "source": [
    "lista_con_elementos_repetidos = [1,2,3,2,4,2]\n",
    "lista_con_elementos_repetidos.index(2)"
   ]
  },
  {
   "cell_type": "markdown",
   "id": "07306307-d89b-40de-ae11-e7918c4a47eb",
   "metadata": {},
   "source": [
    "Del mismo modo que seleccionamos elementos en posiciones específicas, podemos seleccionar una porción (o _slice_, en inglés) de la lista. Para eso debemos indicar entre paréntesis la posición de inicio y la de finalización de la porción que deseamos (la posición de inicio será incluida en el la porción pero la de finalización será excluida)."
   ]
  },
  {
   "cell_type": "code",
   "execution_count": 115,
   "id": "543fbcd5-b1be-4049-8d72-61d93f8181ea",
   "metadata": {},
   "outputs": [
    {
     "data": {
      "text/plain": [
       "[3, 2]"
      ]
     },
     "execution_count": 115,
     "metadata": {},
     "output_type": "execute_result"
    }
   ],
   "source": [
    "lista_con_elementos_repetidos[2:4]"
   ]
  },
  {
   "cell_type": "code",
   "execution_count": 116,
   "id": "82183b5a-576e-4c5c-a134-f7e4d984e994",
   "metadata": {},
   "outputs": [
    {
     "data": {
      "text/plain": [
       "[10, 'hola']"
      ]
     },
     "execution_count": 116,
     "metadata": {},
     "output_type": "execute_result"
    }
   ],
   "source": [
    "lista[1:]     # toma desde la segunda posición hasta el final"
   ]
  },
  {
   "cell_type": "code",
   "execution_count": 117,
   "id": "ae49facd-efcc-42c2-a9ad-1523824eaf30",
   "metadata": {},
   "outputs": [
    {
     "data": {
      "text/plain": [
       "[3, 10]"
      ]
     },
     "execution_count": 117,
     "metadata": {},
     "output_type": "execute_result"
    }
   ],
   "source": [
    "lista[:2]     # toma desde el inicio hasta el tercer elemento (excl)"
   ]
  },
  {
   "cell_type": "markdown",
   "id": "896a7cfa-4964-4729-bba4-e70a8f3ebab4",
   "metadata": {},
   "source": [
    "Algo a destacar es que, si intentamos buscar qué elemento se encuentra en una posición que no existe en la lista (porque es más corta), Python nos devolverá un error."
   ]
  },
  {
   "cell_type": "code",
   "execution_count": 118,
   "id": "ef81ccc4-e1d1-4725-b911-23fe467d9bf3",
   "metadata": {},
   "outputs": [
    {
     "ename": "IndexError",
     "evalue": "list index out of range",
     "output_type": "error",
     "traceback": [
      "\u001b[0;31m---------------------------------------------------------------------------\u001b[0m",
      "\u001b[0;31mIndexError\u001b[0m                                Traceback (most recent call last)",
      "Input \u001b[0;32mIn [118]\u001b[0m, in \u001b[0;36m<cell line: 1>\u001b[0;34m()\u001b[0m\n\u001b[0;32m----> 1\u001b[0m \u001b[43mlista\u001b[49m\u001b[43m[\u001b[49m\u001b[38;5;241;43m4\u001b[39;49m\u001b[43m]\u001b[49m\n",
      "\u001b[0;31mIndexError\u001b[0m: list index out of range"
     ]
    }
   ],
   "source": [
    "lista[4]"
   ]
  },
  {
   "cell_type": "markdown",
   "id": "75cd5cdb-bae4-4a3c-a50e-7ab734f6550f",
   "metadata": {
    "tags": []
   },
   "source": [
    "#### Operaciones con listas"
   ]
  },
  {
   "cell_type": "markdown",
   "id": "dad87237-fb90-42e2-a78d-8fcb2be2608d",
   "metadata": {},
   "source": [
    "El operador `+` permite concatenar listas."
   ]
  },
  {
   "cell_type": "code",
   "execution_count": 119,
   "id": "87ee700b-7985-450d-bc4c-f6ac2d0b2400",
   "metadata": {},
   "outputs": [
    {
     "data": {
      "text/plain": [
       "[1, 3, 5, 7, 2, 4, 6, 8]"
      ]
     },
     "execution_count": 119,
     "metadata": {},
     "output_type": "execute_result"
    }
   ],
   "source": [
    "a = [1,3,5,7]\n",
    "b = [2,4,6,8]\n",
    "a+b"
   ]
  },
  {
   "cell_type": "markdown",
   "id": "e5490ef3-3456-4bfe-82dc-9bda2bd91e7a",
   "metadata": {},
   "source": [
    "Dada una lista y un entero, el operador `*` repite los elementos de la lista tantas veces como indique el entero."
   ]
  },
  {
   "cell_type": "code",
   "execution_count": 120,
   "id": "7f994ee1-99fe-4d14-91a3-c514dcd5c64a",
   "metadata": {},
   "outputs": [
    {
     "data": {
      "text/plain": [
       "['a', 'b', 'c', 'a', 'b', 'c', 'a', 'b', 'c']"
      ]
     },
     "execution_count": 120,
     "metadata": {},
     "output_type": "execute_result"
    }
   ],
   "source": [
    "c = ['a','b','c']\n",
    "c * 3"
   ]
  },
  {
   "cell_type": "code",
   "execution_count": 121,
   "id": "34ab5cd2-e52c-4c26-a1a9-0d563ffc3822",
   "metadata": {},
   "outputs": [
    {
     "data": {
      "text/plain": [
       "[1, 1, 1, 1, 1]"
      ]
     },
     "execution_count": 121,
     "metadata": {},
     "output_type": "execute_result"
    }
   ],
   "source": [
    "d = [1]\n",
    "d * 5"
   ]
  },
  {
   "cell_type": "markdown",
   "id": "43081715-a495-44d2-bd44-df1f6632e1f0",
   "metadata": {
    "tags": []
   },
   "source": [
    "#### Métodos de las listas"
   ]
  },
  {
   "cell_type": "markdown",
   "id": "ee415c7a-83ac-4098-a09f-b679222434b1",
   "metadata": {},
   "source": [
    "En tanto objetos, las listas tienen métodos específicos que nos permiten manipularlas.\n",
    "\n",
    "El método `append()` posibilita agregar un elemento a una lista."
   ]
  },
  {
   "cell_type": "code",
   "execution_count": 122,
   "id": "cecc877c-787d-4eb1-963e-638924ebd518",
   "metadata": {},
   "outputs": [],
   "source": [
    "lista_a_modificar = []"
   ]
  },
  {
   "cell_type": "code",
   "execution_count": 123,
   "id": "3b1a0559-a167-4136-ae5f-7c43c37bc5f3",
   "metadata": {},
   "outputs": [],
   "source": [
    "lista_a_modificar.append('primer elemento')"
   ]
  },
  {
   "cell_type": "code",
   "execution_count": 124,
   "id": "72dfbcce-b7f5-47d4-8c91-5ceaf2c9aab2",
   "metadata": {},
   "outputs": [
    {
     "data": {
      "text/plain": [
       "['primer elemento']"
      ]
     },
     "execution_count": 124,
     "metadata": {},
     "output_type": "execute_result"
    }
   ],
   "source": [
    "lista_a_modificar"
   ]
  },
  {
   "cell_type": "markdown",
   "id": "9aed67de-b41e-477f-90be-b82ee451b600",
   "metadata": {},
   "source": [
    "El método `extend()` permite agregar los elementos de una lista a otra."
   ]
  },
  {
   "cell_type": "code",
   "execution_count": 125,
   "id": "b9c16064-0ed1-4abc-8497-9c088382ae79",
   "metadata": {},
   "outputs": [],
   "source": [
    "nuevos_elementos = ['segundo elemento', 'tercer elemento']"
   ]
  },
  {
   "cell_type": "code",
   "execution_count": 126,
   "id": "0ef9a702-1bd8-4e62-b96d-983774e6a17b",
   "metadata": {},
   "outputs": [],
   "source": [
    "lista_a_modificar.extend(nuevos_elementos)"
   ]
  },
  {
   "cell_type": "code",
   "execution_count": 127,
   "id": "a8686d25-44be-4d73-90ae-db55e589c0a5",
   "metadata": {},
   "outputs": [
    {
     "data": {
      "text/plain": [
       "['primer elemento', 'segundo elemento', 'tercer elemento']"
      ]
     },
     "execution_count": 127,
     "metadata": {},
     "output_type": "execute_result"
    }
   ],
   "source": [
    "lista_a_modificar"
   ]
  },
  {
   "cell_type": "markdown",
   "id": "4322c593-d62b-42b0-a7f0-044b12742b4b",
   "metadata": {},
   "source": [
    "Dicho método no modifica sin embrgo la lista cuyos elementos fueron agregados."
   ]
  },
  {
   "cell_type": "code",
   "execution_count": 128,
   "id": "5e600ea3-008a-4a41-a9d5-6da638ee804c",
   "metadata": {},
   "outputs": [
    {
     "data": {
      "text/plain": [
       "['segundo elemento', 'tercer elemento']"
      ]
     },
     "execution_count": 128,
     "metadata": {},
     "output_type": "execute_result"
    }
   ],
   "source": [
    "nuevos_elementos"
   ]
  },
  {
   "cell_type": "markdown",
   "id": "9e64a249-3321-44f8-aa18-a8b8a2e03e84",
   "metadata": {},
   "source": [
    "El método `sort()` ordena los elementos de una lista. Si sus elementos son números, los ordena en forma creciente. Si son letras o cadenas, en orden alfabético."
   ]
  },
  {
   "cell_type": "code",
   "execution_count": 129,
   "id": "8d30a603-8d7d-491c-8604-460aa60b7a78",
   "metadata": {},
   "outputs": [],
   "source": [
    "lista_a_ordenar = [10,4,2,9,3]"
   ]
  },
  {
   "cell_type": "code",
   "execution_count": 130,
   "id": "16904110-cf5c-4f54-b0bf-5bf53de396ed",
   "metadata": {},
   "outputs": [],
   "source": [
    "lista_a_ordenar.sort()"
   ]
  },
  {
   "cell_type": "code",
   "execution_count": 131,
   "id": "3611a2b1-b533-4ea2-862d-2e2ceab5b65f",
   "metadata": {},
   "outputs": [
    {
     "data": {
      "text/plain": [
       "[2, 3, 4, 9, 10]"
      ]
     },
     "execution_count": 131,
     "metadata": {},
     "output_type": "execute_result"
    }
   ],
   "source": [
    "lista_a_ordenar"
   ]
  },
  {
   "cell_type": "markdown",
   "id": "3c348693-4a9a-4bd9-ae90-44af6237af8a",
   "metadata": {},
   "source": [
    "Con los métodos `pop()` y `remove()` podemos quitar elementos de una lista. El primer método toma la posición del elemento que se quiere quitar y, el segundo, el elemento en sí."
   ]
  },
  {
   "cell_type": "code",
   "execution_count": 132,
   "id": "90277fed-8cb2-4ebe-b01d-7cc887ebf9cc",
   "metadata": {},
   "outputs": [
    {
     "data": {
      "text/plain": [
       "['h', 'o', 'l', 'a', '!']"
      ]
     },
     "execution_count": 132,
     "metadata": {},
     "output_type": "execute_result"
    }
   ],
   "source": [
    "lista_con_elementos_a_quitar = ['h','o','l','a','!']\n",
    "lista_con_elementos_a_quitar"
   ]
  },
  {
   "cell_type": "code",
   "execution_count": 133,
   "id": "633c39dc-a82f-4cec-8762-19b075d61899",
   "metadata": {},
   "outputs": [
    {
     "data": {
      "text/plain": [
       "'l'"
      ]
     },
     "execution_count": 133,
     "metadata": {},
     "output_type": "execute_result"
    }
   ],
   "source": [
    "lista_con_elementos_a_quitar.pop(2)"
   ]
  },
  {
   "cell_type": "code",
   "execution_count": 134,
   "id": "75a74b34-bc50-41f1-a2eb-1a700f4f197c",
   "metadata": {},
   "outputs": [
    {
     "data": {
      "text/plain": [
       "['h', 'o', 'a', '!']"
      ]
     },
     "execution_count": 134,
     "metadata": {},
     "output_type": "execute_result"
    }
   ],
   "source": [
    "lista_con_elementos_a_quitar"
   ]
  },
  {
   "cell_type": "code",
   "execution_count": 135,
   "id": "4610ca46-7d7f-4b10-be66-5fa2342e11d6",
   "metadata": {},
   "outputs": [],
   "source": [
    "lista_con_elementos_a_quitar.remove('a')"
   ]
  },
  {
   "cell_type": "code",
   "execution_count": 136,
   "id": "da873f5a-773c-4423-8e19-fdfc89a28cd8",
   "metadata": {},
   "outputs": [
    {
     "data": {
      "text/plain": [
       "['h', 'o', '!']"
      ]
     },
     "execution_count": 136,
     "metadata": {},
     "output_type": "execute_result"
    }
   ],
   "source": [
    "lista_con_elementos_a_quitar"
   ]
  },
  {
   "cell_type": "markdown",
   "id": "7084d205-acbd-4d2c-b355-49217b784018",
   "metadata": {},
   "source": [
    "Si lo que se desea es eliminar elementos de varias posiciones contiguas a la vez, se puede usar `del`."
   ]
  },
  {
   "cell_type": "code",
   "execution_count": 137,
   "id": "f46562c3-1e0b-4da3-b02d-1bc4bc8ae0c3",
   "metadata": {},
   "outputs": [
    {
     "data": {
      "text/plain": [
       "['h', 'o', 'l', 'a', '!']"
      ]
     },
     "execution_count": 137,
     "metadata": {},
     "output_type": "execute_result"
    }
   ],
   "source": [
    "lista_con_elementos_a_quitar = ['h','o','l','a','!']\n",
    "lista_con_elementos_a_quitar"
   ]
  },
  {
   "cell_type": "code",
   "execution_count": 138,
   "id": "46804494-0a9d-462c-8877-e0b1442a7a97",
   "metadata": {},
   "outputs": [],
   "source": [
    "del lista_con_elementos_a_quitar[2:4]"
   ]
  },
  {
   "cell_type": "code",
   "execution_count": 139,
   "id": "a47b35cf-fb05-48ed-ba9d-03bfe261e13a",
   "metadata": {},
   "outputs": [
    {
     "data": {
      "text/plain": [
       "['h', 'o', '!']"
      ]
     },
     "execution_count": 139,
     "metadata": {},
     "output_type": "execute_result"
    }
   ],
   "source": [
    "lista_con_elementos_a_quitar"
   ]
  },
  {
   "cell_type": "markdown",
   "id": "764a9de9-e570-466e-983a-6fb95e28dd69",
   "metadata": {
    "tags": []
   },
   "source": [
    "#### Mutabilidad de las listas"
   ]
  },
  {
   "cell_type": "markdown",
   "id": "ba966404-1f9d-4635-ba35-613d47dbb7af",
   "metadata": {},
   "source": [
    "A diferencia de otros tipos de objetos, las listas son mutables. Esto significa que métodos como los antes vistos los pueden modificar y que también es posible reasignar elementos a sus posiciones recurriendo a _slices_."
   ]
  },
  {
   "cell_type": "code",
   "execution_count": 140,
   "id": "643c6e61-cd0b-49c6-b09d-42c3c1051a45",
   "metadata": {},
   "outputs": [],
   "source": [
    "lista = ['esto', 'es', 'python']"
   ]
  },
  {
   "cell_type": "code",
   "execution_count": 141,
   "id": "6c16e071-702b-4a78-885b-126309e0f15c",
   "metadata": {},
   "outputs": [],
   "source": [
    "lista[1:2] = ['una','lista','de']"
   ]
  },
  {
   "cell_type": "code",
   "execution_count": 142,
   "id": "7a7d58de-8a6d-472b-877b-0c151cac60b4",
   "metadata": {},
   "outputs": [
    {
     "data": {
      "text/plain": [
       "['esto', 'una', 'lista', 'de', 'python']"
      ]
     },
     "execution_count": 142,
     "metadata": {},
     "output_type": "execute_result"
    }
   ],
   "source": [
    "lista"
   ]
  },
  {
   "cell_type": "code",
   "execution_count": 143,
   "id": "4ee23ad9-ca0e-48a3-ae51-09cbcbd7ea17",
   "metadata": {},
   "outputs": [],
   "source": [
    "lista[2] = 'notebook'"
   ]
  },
  {
   "cell_type": "code",
   "execution_count": 144,
   "id": "d25eac16-59e5-46b3-ac3c-ad4e8cc3520a",
   "metadata": {},
   "outputs": [
    {
     "data": {
      "text/plain": [
       "['esto', 'una', 'notebook', 'de', 'python']"
      ]
     },
     "execution_count": 144,
     "metadata": {},
     "output_type": "execute_result"
    }
   ],
   "source": [
    "lista"
   ]
  },
  {
   "cell_type": "markdown",
   "id": "a23d25c5-d074-4cf8-8689-8bcfe3cf9352",
   "metadata": {
    "jp-MarkdownHeadingCollapsed": true,
    "tags": []
   },
   "source": [
    "### Tuplas"
   ]
  },
  {
   "cell_type": "markdown",
   "id": "bd4b089d-35ed-4c7b-9bd9-63442721408c",
   "metadata": {},
   "source": [
    "Las tuplas son secuencias de valores muy similares a las listas, su gran diferencia es que son inmutables. Podemos definir una tupla con paréntesis (_()_) o simplemente ordenando sus elementos y separándolos por una coma."
   ]
  },
  {
   "cell_type": "code",
   "execution_count": 147,
   "id": "5ca855a3-e939-4116-b2b0-8d611ba21836",
   "metadata": {},
   "outputs": [
    {
     "data": {
      "text/plain": [
       "('h', 'o', 'l', 'a')"
      ]
     },
     "execution_count": 147,
     "metadata": {},
     "output_type": "execute_result"
    }
   ],
   "source": [
    "tupla_1 = 'h','o','l','a'\n",
    "tupla_1"
   ]
  },
  {
   "cell_type": "code",
   "execution_count": 148,
   "id": "235d0172-c37a-40a6-b76e-61e9364f2f2a",
   "metadata": {},
   "outputs": [
    {
     "data": {
      "text/plain": [
       "('m', 'u', 'n', 'd', 'o')"
      ]
     },
     "execution_count": 148,
     "metadata": {},
     "output_type": "execute_result"
    }
   ],
   "source": [
    "tupla_2 = ('m','u','n','d','o')\n",
    "tupla_2"
   ]
  },
  {
   "cell_type": "markdown",
   "id": "25a1109c-d82e-49cf-80ce-17443f57f131",
   "metadata": {},
   "source": [
    "También, si ya contamos con una lista o conjunto al que queremos convertir en tupla, podemos utilizar la función `tuple()`."
   ]
  },
  {
   "cell_type": "code",
   "execution_count": 149,
   "id": "8288c7f7-6bfd-4d08-b8af-631e0948d4c9",
   "metadata": {},
   "outputs": [
    {
     "data": {
      "text/plain": [
       "(1, 2, 3)"
      ]
     },
     "execution_count": 149,
     "metadata": {},
     "output_type": "execute_result"
    }
   ],
   "source": [
    "lista = [1,2,3]\n",
    "tupla = tuple(lista)\n",
    "tupla"
   ]
  },
  {
   "cell_type": "markdown",
   "id": "040c0734-0614-4539-805f-f7c959778306",
   "metadata": {},
   "source": [
    "O podemos genrar una tupla vacía:"
   ]
  },
  {
   "cell_type": "code",
   "execution_count": 150,
   "id": "45b30802-5e1e-44a5-8132-d664c9065197",
   "metadata": {},
   "outputs": [
    {
     "data": {
      "text/plain": [
       "()"
      ]
     },
     "execution_count": 150,
     "metadata": {},
     "output_type": "execute_result"
    }
   ],
   "source": [
    "tuple()"
   ]
  },
  {
   "cell_type": "code",
   "execution_count": 151,
   "id": "9813eb5f-21ce-4172-83a4-4c052a3eb0b9",
   "metadata": {},
   "outputs": [
    {
     "data": {
      "text/plain": [
       "tuple"
      ]
     },
     "execution_count": 151,
     "metadata": {},
     "output_type": "execute_result"
    }
   ],
   "source": [
    "type(tupla)"
   ]
  },
  {
   "cell_type": "markdown",
   "id": "7f8ee673-8e93-4872-bc46-42aee5dccd3e",
   "metadata": {},
   "source": [
    "Del mismo modo que accedíamos a elementos de una lista encerrando la posición (o posiciones) entre corchetes, podemos hacerlo con las tuplas:"
   ]
  },
  {
   "cell_type": "code",
   "execution_count": 153,
   "id": "41dc0ac3-1449-4a71-a157-c92179f6c705",
   "metadata": {},
   "outputs": [
    {
     "data": {
      "text/plain": [
       "'l'"
      ]
     },
     "execution_count": 153,
     "metadata": {},
     "output_type": "execute_result"
    }
   ],
   "source": [
    "tupla_1[2]"
   ]
  },
  {
   "cell_type": "code",
   "execution_count": 154,
   "id": "a10a344b-2daa-43ef-8422-e75b83081627",
   "metadata": {},
   "outputs": [
    {
     "data": {
      "text/plain": [
       "('o', 'l')"
      ]
     },
     "execution_count": 154,
     "metadata": {},
     "output_type": "execute_result"
    }
   ],
   "source": [
    "tupla_1[1:3]"
   ]
  },
  {
   "cell_type": "markdown",
   "id": "e62d42de-b6be-4cc7-bd14-271d38fb8fb2",
   "metadata": {},
   "source": [
    "Pero, al no ser mutables, no podemos cambiar los elementos que contiene:"
   ]
  },
  {
   "cell_type": "code",
   "execution_count": 156,
   "id": "ae2e06cc-9589-4f2b-bf27-894788149267",
   "metadata": {},
   "outputs": [
    {
     "data": {
      "text/plain": [
       "(1, 2, 3)"
      ]
     },
     "execution_count": 156,
     "metadata": {},
     "output_type": "execute_result"
    }
   ],
   "source": [
    "tupla"
   ]
  },
  {
   "cell_type": "code",
   "execution_count": 161,
   "id": "a559be6e-7bf5-4b1f-a666-87ba1c4c1c2c",
   "metadata": {},
   "outputs": [
    {
     "ename": "TypeError",
     "evalue": "'tuple' object does not support item assignment",
     "output_type": "error",
     "traceback": [
      "\u001b[0;31m---------------------------------------------------------------------------\u001b[0m",
      "\u001b[0;31mTypeError\u001b[0m                                 Traceback (most recent call last)",
      "Input \u001b[0;32mIn [161]\u001b[0m, in \u001b[0;36m<cell line: 1>\u001b[0;34m()\u001b[0m\n\u001b[0;32m----> 1\u001b[0m tupla[\u001b[38;5;241m0\u001b[39m] \u001b[38;5;241m=\u001b[39m \u001b[38;5;241m3\u001b[39m\n",
      "\u001b[0;31mTypeError\u001b[0m: 'tuple' object does not support item assignment"
     ]
    }
   ],
   "source": [
    "tupla[0] = 3"
   ]
  },
  {
   "cell_type": "markdown",
   "id": "c2d06470-0274-48ef-9a60-e9ad1da9eee5",
   "metadata": {},
   "source": [
    "Sin embargo, podemos generar una nueva tupla y asignársela a la variable que ya existía:"
   ]
  },
  {
   "cell_type": "code",
   "execution_count": 163,
   "id": "43583728-5b74-46e5-92ce-8e2bb5ce1d47",
   "metadata": {},
   "outputs": [
    {
     "data": {
      "text/plain": [
       "(3, 2, 3)"
      ]
     },
     "execution_count": 163,
     "metadata": {},
     "output_type": "execute_result"
    }
   ],
   "source": [
    "tupla = (3,) + tupla[1:]\n",
    "tupla"
   ]
  },
  {
   "cell_type": "markdown",
   "id": "18c8d46b-95fb-40b2-b44c-e52cd0c07f8d",
   "metadata": {
    "jp-MarkdownHeadingCollapsed": true,
    "tags": []
   },
   "source": [
    "### Conjuntos"
   ]
  },
  {
   "cell_type": "markdown",
   "id": "3d095c3e-c6ff-4fd6-897a-2350ce722a0e",
   "metadata": {},
   "source": [
    "Como vimos en la sección teórica, los conjuntos son una colección de objetos o elementos.\n",
    "\n",
    "Para instanciar un conjunto en Python, podemos:\n",
    "\n",
    "- encerrar los elementos que queremos ubicar dentro del conjunto entre corchetes\n",
    "- armar una lista o tupla y utilizarla como valor para la función `set()`"
   ]
  },
  {
   "cell_type": "code",
   "execution_count": null,
   "id": "e27a9939-947d-4aa6-8961-aab0e6c4fea6",
   "metadata": {},
   "outputs": [],
   "source": [
    "lista = [1,2,3,4]\n",
    "conjunto = set(lista)\n",
    "conjunto"
   ]
  },
  {
   "cell_type": "code",
   "execution_count": null,
   "id": "28beaada-2960-49d9-a3c9-db70f8c0cab4",
   "metadata": {},
   "outputs": [],
   "source": [
    "type(conjunto)"
   ]
  },
  {
   "cell_type": "markdown",
   "id": "761fcf66-7295-4ee3-bb23-883bd5e7c38a",
   "metadata": {},
   "source": [
    "Tal y como habíamos visto: los conjuntos no tienen orden ni elementos repetidos."
   ]
  },
  {
   "cell_type": "code",
   "execution_count": null,
   "id": "0cb7733c-58a1-410b-bd6e-55fb8a584b08",
   "metadata": {},
   "outputs": [],
   "source": [
    "conjunto = {3, 'foo', (1, 2, 3), 3.14159, 3}\n",
    "conjunto"
   ]
  },
  {
   "cell_type": "markdown",
   "id": "65fc6b9d-5a0b-4af4-baf7-0145fd34c29b",
   "metadata": {},
   "source": [
    "Si lo que queremos es generar un conjunto vacío, podemos hacer lo mismo pero utilizar una lista vacía o, lo que es más sencillo y prolijo, usar la función `set()` sin ningún valor."
   ]
  },
  {
   "cell_type": "code",
   "execution_count": null,
   "id": "ed90d505-2932-40bf-b204-f545093a8bdd",
   "metadata": {},
   "outputs": [],
   "source": [
    "conjunto_vacio = set()\n",
    "conjunto_vacio"
   ]
  },
  {
   "cell_type": "markdown",
   "id": "06223b87-4b84-41a7-8c90-543e16bf7c0c",
   "metadata": {},
   "source": [
    "Al igual que las listas, puedo contar cuántos elementos tiene un conjunto con la función `len()`."
   ]
  },
  {
   "cell_type": "code",
   "execution_count": null,
   "id": "d9c453da-734f-459a-84e0-705e26474300",
   "metadata": {},
   "outputs": [],
   "source": [
    "len(conjunto)"
   ]
  },
  {
   "cell_type": "code",
   "execution_count": null,
   "id": "34b00cab-558a-4c4d-bab7-cec509c26aaf",
   "metadata": {},
   "outputs": [],
   "source": [
    "len(conjunto_vacio)"
   ]
  },
  {
   "cell_type": "markdown",
   "id": "25ced265-4f34-413c-aaf4-f93bf6be3e79",
   "metadata": {
    "tags": []
   },
   "source": [
    "#### Relaciones entre conjuntos"
   ]
  },
  {
   "cell_type": "markdown",
   "id": "b0b06e44-944c-48a4-a8ad-dc7ce7d2e51e",
   "metadata": {},
   "source": [
    "La función `subset()` nos permite evaluar si un conjunto es subconjunto de otro."
   ]
  },
  {
   "cell_type": "code",
   "execution_count": null,
   "id": "773920ee-9f9c-4daa-b1ab-ad3adee6d769",
   "metadata": {},
   "outputs": [],
   "source": [
    "a = {'a','b','c'}\n",
    "b = {'a','b','c','g','h','z'}"
   ]
  },
  {
   "cell_type": "code",
   "execution_count": null,
   "id": "adc6f466-0c11-4941-b9e3-2a2cf6383e0f",
   "metadata": {},
   "outputs": [],
   "source": [
    "a.issubset(b)"
   ]
  },
  {
   "cell_type": "code",
   "execution_count": null,
   "id": "0117f91b-fe8b-459b-9375-9d7739a5ee49",
   "metadata": {},
   "outputs": [],
   "source": [
    "a.issubset(a)"
   ]
  },
  {
   "cell_type": "markdown",
   "id": "6196aaaf-cac9-4f17-82b8-d652f1333de0",
   "metadata": {},
   "source": [
    "También podemos evaluar si un conjunto contiene a otro:"
   ]
  },
  {
   "cell_type": "code",
   "execution_count": null,
   "id": "3cfe919b-8085-44cf-9d27-a00d2caa6d2f",
   "metadata": {},
   "outputs": [],
   "source": [
    "b.issuperset(a)"
   ]
  },
  {
   "cell_type": "code",
   "execution_count": null,
   "id": "111f7413-0a1e-4d0e-8857-c73037467cf5",
   "metadata": {},
   "outputs": [],
   "source": [
    "b.issuperset(b)"
   ]
  },
  {
   "cell_type": "code",
   "execution_count": null,
   "id": "e2a95dfb-80a9-43ba-bdb8-69962ac0356c",
   "metadata": {},
   "outputs": [],
   "source": [
    "a.issuperset(b)"
   ]
  },
  {
   "cell_type": "markdown",
   "id": "e0b9b987-6035-473b-bc72-cef8cad11232",
   "metadata": {},
   "source": [
    "Si lo que queremos es ver si un subconjunto es subconjunto propio, debemos usar el operador `>` y colocar a izquierda el conjunto que queremos evaluar si es subconjutno propio del que ubiquemos a derecha (también podemos usar `<` e invertir las posiciones)."
   ]
  },
  {
   "cell_type": "code",
   "execution_count": null,
   "id": "0ca443b2-9a2e-49c5-a602-2c62972671a1",
   "metadata": {},
   "outputs": [],
   "source": [
    "a < b"
   ]
  },
  {
   "cell_type": "code",
   "execution_count": null,
   "id": "99e87446-d0a7-43b1-ac69-ba9008504b6f",
   "metadata": {},
   "outputs": [],
   "source": [
    "a < a"
   ]
  },
  {
   "cell_type": "markdown",
   "id": "7cdc3a0d-ea18-4eb1-a35c-e95a757af5b7",
   "metadata": {},
   "source": [
    "Con `in` podemos evaluar la pertenencia ($\\in$) de un elemento es miembro de un conjunto (esto también funciona con listas)."
   ]
  },
  {
   "cell_type": "code",
   "execution_count": null,
   "id": "c3d4295c-d1b7-4edc-93c7-8e0656b7c954",
   "metadata": {},
   "outputs": [],
   "source": [
    "'c' in a"
   ]
  },
  {
   "cell_type": "code",
   "execution_count": null,
   "id": "e07cbf72-5c97-4ad2-991e-61dbf21a6e55",
   "metadata": {},
   "outputs": [],
   "source": [
    "'z' in a"
   ]
  },
  {
   "cell_type": "markdown",
   "id": "b129e565-0d7e-4e66-90e6-c27ddbedf54b",
   "metadata": {},
   "source": [
    "#### Operacines entre conjuntos"
   ]
  },
  {
   "cell_type": "code",
   "execution_count": null,
   "id": "59b40908-48a2-46b9-8f9b-95fde5f802ea",
   "metadata": {},
   "outputs": [],
   "source": [
    "x = {'m','n','o'}"
   ]
  },
  {
   "cell_type": "code",
   "execution_count": null,
   "id": "885fb75e-8b2b-4679-a2df-c2ac202bd060",
   "metadata": {},
   "outputs": [],
   "source": [
    "y = {'m','w','z'}"
   ]
  },
  {
   "cell_type": "code",
   "execution_count": null,
   "id": "a113c22a-5080-4d93-a168-6b4798a7058c",
   "metadata": {},
   "outputs": [],
   "source": [
    "x.union(y)            # elementos que están en x o en y"
   ]
  },
  {
   "cell_type": "code",
   "execution_count": null,
   "id": "0e481936-ba11-468d-b850-8bed74cca934",
   "metadata": {},
   "outputs": [],
   "source": [
    "x.intersection(y)     # elementos que están en x y en y"
   ]
  },
  {
   "cell_type": "code",
   "execution_count": null,
   "id": "5c08718d-ad75-48ec-a22d-9e3ce9ce60e9",
   "metadata": {},
   "outputs": [],
   "source": [
    "x.difference(y)       # elementos que están en x pero no en y (x-y)"
   ]
  },
  {
   "cell_type": "code",
   "execution_count": null,
   "id": "0affc564-2921-4d31-872b-452d03a73c77",
   "metadata": {},
   "outputs": [],
   "source": [
    "y.difference(x)       # elementos que están en y pero no en x (y-x)"
   ]
  },
  {
   "cell_type": "code",
   "execution_count": null,
   "id": "c82eb5e0-355e-437c-94fb-8f67ceec5ade",
   "metadata": {},
   "outputs": [],
   "source": [
    "from itertools import product  # vamos a volver a esto en un rato\n",
    "\n",
    "list(product(x,y))             # con product puedo ver el producto cartesiano"
   ]
  },
  {
   "cell_type": "code",
   "execution_count": null,
   "id": "7b8d0720-c685-4d98-98ab-ba04bf02eb30",
   "metadata": {},
   "outputs": [],
   "source": [
    "list(product(y,x))"
   ]
  },
  {
   "cell_type": "markdown",
   "id": "cbf0c5e8-3523-45fc-a084-729e5ac46aa6",
   "metadata": {
    "jp-MarkdownHeadingCollapsed": true,
    "tags": []
   },
   "source": [
    "### Diccionarios"
   ]
  },
  {
   "cell_type": "markdown",
   "id": "9a1a94e1-c260-42c6-af35-2e0d0772efd2",
   "metadata": {},
   "source": [
    "Los diccionarios son una suerte de colección sin orden, cuyos índices son llamados _keys_ y los valores en esos índices, _values_. Es decir, así como en una lista podíamos acceder a los distintos elementos recurriendo a las posiciones (números enteros), para los diccionarios usamos keys. ¿Y qué tipo de objeto puede ser una key? ¡Muchos! Enteros, flotantes, cadenas, por nombrar algunos. Una restricción importante es que, para que estos elementos puedan funcionar como índices, cada key debe ser única. No puedo tener dos keys iguales. Y cada key está asociada a un único valor (_value_), que puede ser desde un entero, hasta una lista o una tupla, pero a un único valor.\n",
    "\n",
    "Para crear un diccionario podemos usar tanto la función `dict()` como las llaves."
   ]
  },
  {
   "cell_type": "code",
   "execution_count": 167,
   "id": "c8f37fe0-47e6-41d3-a0a7-5094c3ade09f",
   "metadata": {},
   "outputs": [
    {
     "data": {
      "text/plain": [
       "{}"
      ]
     },
     "execution_count": 167,
     "metadata": {},
     "output_type": "execute_result"
    }
   ],
   "source": [
    "diccionario_1 = dict()\n",
    "diccionario_1"
   ]
  },
  {
   "cell_type": "code",
   "execution_count": 171,
   "id": "e13db74e-6b27-4674-b8ee-a41da9eedf43",
   "metadata": {},
   "outputs": [
    {
     "data": {
      "text/plain": [
       "{'a': 1, 'b': 2, 'c': 3}"
      ]
     },
     "execution_count": 171,
     "metadata": {},
     "output_type": "execute_result"
    }
   ],
   "source": [
    "diccionario_2 = dict([('a',1),('b',2),('c',3)])\n",
    "diccionario_2"
   ]
  },
  {
   "cell_type": "code",
   "execution_count": 172,
   "id": "8d00996c-aaba-4b4d-8180-80a93a21ada1",
   "metadata": {},
   "outputs": [
    {
     "data": {
      "text/plain": [
       "{100: [1, 0, 0], 101: [1, 0, 1], 102: [1, 0, 2]}"
      ]
     },
     "execution_count": 172,
     "metadata": {},
     "output_type": "execute_result"
    }
   ],
   "source": [
    "diccionario_3 = {\n",
    "    100:[1,0,0],\n",
    "    101:[1,0,1],\n",
    "    102:[1,0,2]\n",
    "}\n",
    "diccionario_3"
   ]
  },
  {
   "cell_type": "markdown",
   "id": "e2ca4424-f8c2-441e-ba7d-b925caf359ac",
   "metadata": {},
   "source": [
    "Dado que no tienen orden, no podemos acceder a sus valores indicando una posición, pero sí usando las keys:"
   ]
  },
  {
   "cell_type": "code",
   "execution_count": 174,
   "id": "24b25408-a791-47e6-8017-2ab12cbb11e6",
   "metadata": {},
   "outputs": [
    {
     "ename": "KeyError",
     "evalue": "0",
     "output_type": "error",
     "traceback": [
      "\u001b[0;31m---------------------------------------------------------------------------\u001b[0m",
      "\u001b[0;31mKeyError\u001b[0m                                  Traceback (most recent call last)",
      "Input \u001b[0;32mIn [174]\u001b[0m, in \u001b[0;36m<cell line: 1>\u001b[0;34m()\u001b[0m\n\u001b[0;32m----> 1\u001b[0m \u001b[43mdiccionario_2\u001b[49m\u001b[43m[\u001b[49m\u001b[38;5;241;43m0\u001b[39;49m\u001b[43m]\u001b[49m\n",
      "\u001b[0;31mKeyError\u001b[0m: 0"
     ]
    }
   ],
   "source": [
    "diccionario_2[0]"
   ]
  },
  {
   "cell_type": "code",
   "execution_count": 175,
   "id": "44b5d71b-602c-4041-b7ee-6ca40f7752e3",
   "metadata": {},
   "outputs": [
    {
     "data": {
      "text/plain": [
       "1"
      ]
     },
     "execution_count": 175,
     "metadata": {},
     "output_type": "execute_result"
    }
   ],
   "source": [
    "diccionario_2['a']"
   ]
  },
  {
   "cell_type": "markdown",
   "id": "be7b3bca-97f7-4c15-9963-fc7bc67ac45a",
   "metadata": {},
   "source": [
    "Si el diccionario no tiene la key indicada, python nos devolerá un error."
   ]
  },
  {
   "cell_type": "code",
   "execution_count": 176,
   "id": "84053389-de29-4792-82dd-21276f4c2550",
   "metadata": {},
   "outputs": [
    {
     "ename": "KeyError",
     "evalue": "'z'",
     "output_type": "error",
     "traceback": [
      "\u001b[0;31m---------------------------------------------------------------------------\u001b[0m",
      "\u001b[0;31mKeyError\u001b[0m                                  Traceback (most recent call last)",
      "Input \u001b[0;32mIn [176]\u001b[0m, in \u001b[0;36m<cell line: 1>\u001b[0;34m()\u001b[0m\n\u001b[0;32m----> 1\u001b[0m \u001b[43mdiccionario_2\u001b[49m\u001b[43m[\u001b[49m\u001b[38;5;124;43m'\u001b[39;49m\u001b[38;5;124;43mz\u001b[39;49m\u001b[38;5;124;43m'\u001b[39;49m\u001b[43m]\u001b[49m\n",
      "\u001b[0;31mKeyError\u001b[0m: 'z'"
     ]
    }
   ],
   "source": [
    "diccionario_2['z']"
   ]
  },
  {
   "cell_type": "markdown",
   "id": "ca5f4548-73ec-4139-aead-240b3cbdc73c",
   "metadata": {},
   "source": [
    "También podemos agregar nuevos pares key-value:"
   ]
  },
  {
   "cell_type": "code",
   "execution_count": 177,
   "id": "7aaf2a5a-3f88-480b-8e55-e7d758fdd89b",
   "metadata": {},
   "outputs": [
    {
     "data": {
      "text/plain": [
       "{'a': 1, 'b': 2, 'c': 3, 'z': 'elemento nuevo'}"
      ]
     },
     "execution_count": 177,
     "metadata": {},
     "output_type": "execute_result"
    }
   ],
   "source": [
    "diccionario_2['z'] = 'elemento nuevo'\n",
    "diccionario_2"
   ]
  },
  {
   "cell_type": "markdown",
   "id": "4ecbce4a-f7de-4424-9257-909ff251cdcd",
   "metadata": {},
   "source": [
    "Si no conocemos cuáles son las keys de un dicionario, podemos usar el método `keys()` para acceder a esta información. Los metodos `values()` e `items()` nos dirán los valores y los pares key-value respectivamente."
   ]
  },
  {
   "cell_type": "code",
   "execution_count": 178,
   "id": "093c8a4f-401d-4c20-9462-779fa3c8407b",
   "metadata": {},
   "outputs": [
    {
     "data": {
      "text/plain": [
       "dict_keys([100, 101, 102])"
      ]
     },
     "execution_count": 178,
     "metadata": {},
     "output_type": "execute_result"
    }
   ],
   "source": [
    "diccionario_3.keys()"
   ]
  },
  {
   "cell_type": "code",
   "execution_count": 179,
   "id": "434f3434-6017-428f-89fa-e98643771587",
   "metadata": {},
   "outputs": [
    {
     "data": {
      "text/plain": [
       "dict_values([[1, 0, 0], [1, 0, 1], [1, 0, 2]])"
      ]
     },
     "execution_count": 179,
     "metadata": {},
     "output_type": "execute_result"
    }
   ],
   "source": [
    "diccionario_3.values()"
   ]
  },
  {
   "cell_type": "code",
   "execution_count": 180,
   "id": "e708aef5-3204-41aa-b485-14f7d537ef09",
   "metadata": {},
   "outputs": [
    {
     "data": {
      "text/plain": [
       "dict_items([(100, [1, 0, 0]), (101, [1, 0, 1]), (102, [1, 0, 2])])"
      ]
     },
     "execution_count": 180,
     "metadata": {},
     "output_type": "execute_result"
    }
   ],
   "source": [
    "diccionario_3.items()"
   ]
  },
  {
   "cell_type": "markdown",
   "id": "4ee323b5-d017-4b4b-adeb-a5193f73ebfe",
   "metadata": {
    "jp-MarkdownHeadingCollapsed": true,
    "tags": []
   },
   "source": [
    "### Cadenas"
   ]
  },
  {
   "cell_type": "markdown",
   "id": "68b0ade5-4f4b-496f-b533-fcd39159bb22",
   "metadata": {},
   "source": [
    "Las cadenas o _strings_ son secuencias ordenadas de caracteres. Un número, una letra, un signo de puntuación o un espacio pueden ser un caracter. Para definir una cadena debemos encerrar los caracteres entre comillas."
   ]
  },
  {
   "cell_type": "code",
   "execution_count": 181,
   "id": "614ab27f-c710-4c87-a15d-53b75af7335a",
   "metadata": {},
   "outputs": [
    {
     "data": {
      "text/plain": [
       "'hola mundo'"
      ]
     },
     "execution_count": 181,
     "metadata": {},
     "output_type": "execute_result"
    }
   ],
   "source": [
    "cadena_1 = \"hola mundo!!\"\n",
    "cadena_1"
   ]
  },
  {
   "cell_type": "code",
   "execution_count": 183,
   "id": "3e605992-2dd8-4855-a429-1a1f2f58a874",
   "metadata": {},
   "outputs": [
    {
     "data": {
      "text/plain": [
       "'hola mundo con comillas simples'"
      ]
     },
     "execution_count": 183,
     "metadata": {},
     "output_type": "execute_result"
    }
   ],
   "source": [
    "cadena_2 = 'hola mundo con comillas simples'\n",
    "cadena_2"
   ]
  },
  {
   "cell_type": "markdown",
   "id": "de5e6a29-b546-42a5-9642-e82e1f07da50",
   "metadata": {},
   "source": [
    "También es posible usar la función `str()` y convertir otro tipo de valor en una cadena."
   ]
  },
  {
   "cell_type": "code",
   "execution_count": 186,
   "id": "62d5d555-43e5-40fc-8113-322241cde6c3",
   "metadata": {},
   "outputs": [
    {
     "data": {
      "text/plain": [
       "'2'"
      ]
     },
     "execution_count": 186,
     "metadata": {},
     "output_type": "execute_result"
    }
   ],
   "source": [
    "numero = 2\n",
    "numero_str = str(numero)\n",
    "numero_str"
   ]
  },
  {
   "cell_type": "code",
   "execution_count": 187,
   "id": "a258b11e-2520-43be-bae0-d46eb352fe7f",
   "metadata": {},
   "outputs": [
    {
     "data": {
      "text/plain": [
       "str"
      ]
     },
     "execution_count": 187,
     "metadata": {},
     "output_type": "execute_result"
    }
   ],
   "source": [
    "type(numero_str)"
   ]
  },
  {
   "cell_type": "code",
   "execution_count": 188,
   "id": "4f483b76-6e51-42e5-b716-c66620a56034",
   "metadata": {},
   "outputs": [
    {
     "data": {
      "text/plain": [
       "int"
      ]
     },
     "execution_count": 188,
     "metadata": {},
     "output_type": "execute_result"
    }
   ],
   "source": [
    "type(numero)"
   ]
  },
  {
   "cell_type": "markdown",
   "id": "2ed3b1b0-0ee9-4420-8bae-1db3a8720ccf",
   "metadata": {},
   "source": [
    "De la misma forma que sucedía con las listas, al ser secuencias ordenadas, podemos acceder a los distintos caracteres de una cadena utilizando sus posiciones:"
   ]
  },
  {
   "cell_type": "code",
   "execution_count": 190,
   "id": "3835538e-91a9-43be-806d-c1ddf3195163",
   "metadata": {},
   "outputs": [
    {
     "data": {
      "text/plain": [
       "'Lorem ipsum dolor sit amet, consectetur adipiscing elit,\\nsed do eiusmod tempor incididunt ut labore et dolore magna aliqua.\\nUt enim ad minim veniam, quis nostrud exercitation ullamco laboris nisi ut aliquip ex ea commodo consequat.\\nDuis aute irure dolor in reprehenderit in voluptate velit esse cillum dolore eu fugiat nulla pariatur.\\nExcepteur sint occaecat cupidatat non proident, sunt in culpa qui officia deserunt mollit anim id est laborum.'"
      ]
     },
     "execution_count": 190,
     "metadata": {},
     "output_type": "execute_result"
    }
   ],
   "source": [
    "lorem_ipsum = '''Lorem ipsum dolor sit amet, consectetur adipiscing elit,\n",
    "sed do eiusmod tempor incididunt ut labore et dolore magna aliqua.\n",
    "Ut enim ad minim veniam, quis nostrud exercitation ullamco laboris nisi ut aliquip ex ea commodo consequat.\n",
    "Duis aute irure dolor in reprehenderit in voluptate velit esse cillum dolore eu fugiat nulla pariatur.\n",
    "Excepteur sint occaecat cupidatat non proident, sunt in culpa qui officia deserunt mollit anim id est laborum.'''\n",
    "lorem_ipsum"
   ]
  },
  {
   "cell_type": "code",
   "execution_count": 193,
   "id": "42e69f7a-2d9b-4810-b0e1-02eee551715a",
   "metadata": {},
   "outputs": [
    {
     "data": {
      "text/plain": [
       "'e'"
      ]
     },
     "execution_count": 193,
     "metadata": {},
     "output_type": "execute_result"
    }
   ],
   "source": [
    "lorem_ipsum[3]"
   ]
  },
  {
   "cell_type": "code",
   "execution_count": 194,
   "id": "d3c33bcc-680f-488c-b8d1-2a6e22d24cda",
   "metadata": {},
   "outputs": [
    {
     "data": {
      "text/plain": [
       "'Lorem ipsum dolor si'"
      ]
     },
     "execution_count": 194,
     "metadata": {},
     "output_type": "execute_result"
    }
   ],
   "source": [
    "lorem_ipsum[0:20]"
   ]
  },
  {
   "cell_type": "code",
   "execution_count": 196,
   "id": "178b01e9-a985-4da3-a435-7635e03ece52",
   "metadata": {},
   "outputs": [
    {
     "data": {
      "text/plain": [
       "'laborum.'"
      ]
     },
     "execution_count": 196,
     "metadata": {},
     "output_type": "execute_result"
    }
   ],
   "source": [
    "lorem_ipsum[-8:]"
   ]
  },
  {
   "cell_type": "markdown",
   "id": "62524288-5076-4779-8b9b-e10f6b0d04b3",
   "metadata": {},
   "source": [
    "La función `print()` nos permite imprimir una cadena interpretando los caracteres en ella. El salto de línea, por ejemplo está representado por el caracter `\\n`, Si usamos `print()`, en lugar de ver dicho caracter, veremos el salto de línea."
   ]
  },
  {
   "cell_type": "code",
   "execution_count": 191,
   "id": "f19a44d8-b4de-4f58-8397-f265276eba79",
   "metadata": {},
   "outputs": [
    {
     "name": "stdout",
     "output_type": "stream",
     "text": [
      "Lorem ipsum dolor sit amet, consectetur adipiscing elit,\n",
      "sed do eiusmod tempor incididunt ut labore et dolore magna aliqua.\n",
      "Ut enim ad minim veniam, quis nostrud exercitation ullamco laboris nisi ut aliquip ex ea commodo consequat.\n",
      "Duis aute irure dolor in reprehenderit in voluptate velit esse cillum dolore eu fugiat nulla pariatur.\n",
      "Excepteur sint occaecat cupidatat non proident, sunt in culpa qui officia deserunt mollit anim id est laborum.\n"
     ]
    }
   ],
   "source": [
    "print(lorem_ipsum)"
   ]
  },
  {
   "cell_type": "markdown",
   "id": "45bc280c-1e2a-4559-a7e5-68fedd094187",
   "metadata": {},
   "source": [
    "Las cadenas no son objetos mutables, por lo cual, al igual que lo que sucedía con las tuplas, no podemos modificar sus elementos (con las listas, sí podíamos). De todos modos, sí podemos asignar una nueva cadena a una variable ya existente."
   ]
  },
  {
   "cell_type": "code",
   "execution_count": 199,
   "id": "d4a509fe-84cb-43d8-894a-6c3e42df195d",
   "metadata": {},
   "outputs": [
    {
     "data": {
      "text/plain": [
       "'hola mundo'"
      ]
     },
     "execution_count": 199,
     "metadata": {},
     "output_type": "execute_result"
    }
   ],
   "source": [
    "cadena_1"
   ]
  },
  {
   "cell_type": "code",
   "execution_count": 203,
   "id": "dbd5b01f-b1ca-473a-8dc5-706f5e7e69b6",
   "metadata": {},
   "outputs": [
    {
     "ename": "TypeError",
     "evalue": "'str' object does not support item assignment",
     "output_type": "error",
     "traceback": [
      "\u001b[0;31m---------------------------------------------------------------------------\u001b[0m",
      "\u001b[0;31mTypeError\u001b[0m                                 Traceback (most recent call last)",
      "Input \u001b[0;32mIn [203]\u001b[0m, in \u001b[0;36m<cell line: 1>\u001b[0;34m()\u001b[0m\n\u001b[0;32m----> 1\u001b[0m cadena_1[\u001b[38;5;241m0\u001b[39m] \u001b[38;5;241m=\u001b[39m \u001b[38;5;124m'\u001b[39m\u001b[38;5;124mH\u001b[39m\u001b[38;5;124m'\u001b[39m\n",
      "\u001b[0;31mTypeError\u001b[0m: 'str' object does not support item assignment"
     ]
    }
   ],
   "source": [
    "cadena_1[0] = 'H'"
   ]
  },
  {
   "cell_type": "code",
   "execution_count": 202,
   "id": "0ea70f3f-9035-4ed6-a6b5-7cb4e9f727e9",
   "metadata": {},
   "outputs": [
    {
     "data": {
      "text/plain": [
       "'¡¡hola mundo!!'"
      ]
     },
     "execution_count": 202,
     "metadata": {},
     "output_type": "execute_result"
    }
   ],
   "source": [
    "cadena_1 = '¡¡' + cadena_1 + '!!'\n",
    "cadena_1"
   ]
  },
  {
   "cell_type": "markdown",
   "id": "fb26666f-b648-4172-ab92-3e2ca043b04d",
   "metadata": {},
   "source": [
    "A continuación, listamos algunas operaciones útiles que se pueden realizar sobre las cadenas:"
   ]
  },
  {
   "cell_type": "code",
   "execution_count": 204,
   "id": "ad00e652-eae8-4b8b-a0c9-7e84387d04e7",
   "metadata": {},
   "outputs": [
    {
     "data": {
      "text/plain": [
       "'¡¡HOLA MUNDO!!'"
      ]
     },
     "execution_count": 204,
     "metadata": {},
     "output_type": "execute_result"
    }
   ],
   "source": [
    "cadena_1.upper()     # pasa la cadena a mayúscula (no modifica la variable)"
   ]
  },
  {
   "cell_type": "code",
   "execution_count": 205,
   "id": "1ece655a-b594-4f23-8701-da3beec2b90d",
   "metadata": {},
   "outputs": [
    {
     "data": {
      "text/plain": [
       "'¡¡hola mundo!!'"
      ]
     },
     "execution_count": 205,
     "metadata": {},
     "output_type": "execute_result"
    }
   ],
   "source": [
    "cadena_1"
   ]
  },
  {
   "cell_type": "code",
   "execution_count": 206,
   "id": "8c0d5560-9ec6-4b8b-83ea-7f8aa065f10f",
   "metadata": {},
   "outputs": [
    {
     "data": {
      "text/plain": [
       "'¡¡hola mundo!!'"
      ]
     },
     "execution_count": 206,
     "metadata": {},
     "output_type": "execute_result"
    }
   ],
   "source": [
    "cadena_1_upper = cadena_1.upper() # pasa la cadena a minúscula (no modifica la variable)\n",
    "cadena_1_upper.lower()"
   ]
  },
  {
   "cell_type": "code",
   "execution_count": 209,
   "id": "d9099a83-8396-4762-bb39-02f2932b2b31",
   "metadata": {},
   "outputs": [
    {
     "data": {
      "text/plain": [
       "'Hola mundo con comillas simples'"
      ]
     },
     "execution_count": 209,
     "metadata": {},
     "output_type": "execute_result"
    }
   ],
   "source": [
    "cadena_2.capitalize()     # pasa la primera letra a mayúscula (no modifica la variable)"
   ]
  },
  {
   "cell_type": "code",
   "execution_count": 210,
   "id": "41fa1e7f-c8f8-46f0-ae3f-94e4340eda7e",
   "metadata": {},
   "outputs": [
    {
     "data": {
      "text/plain": [
       "'Hola Mundo Con Comillas Simples'"
      ]
     },
     "execution_count": 210,
     "metadata": {},
     "output_type": "execute_result"
    }
   ],
   "source": [
    "cadena_2.title()          # pasa la primera letra de cada palabra a mayúscula (no modifica la variable)"
   ]
  },
  {
   "cell_type": "code",
   "execution_count": 212,
   "id": "e252bd1a-3a19-4cfd-b81b-d237f68705cf",
   "metadata": {},
   "outputs": [
    {
     "data": {
      "text/plain": [
       "['hola', 'mundo', 'con', 'comillas', 'simples']"
      ]
     },
     "execution_count": 212,
     "metadata": {},
     "output_type": "execute_result"
    }
   ],
   "source": [
    "cadena_2.split()          # convierte la cadena en una lista separando los caracteres por espacios"
   ]
  },
  {
   "cell_type": "code",
   "execution_count": 213,
   "id": "33248f66-3d41-4ada-8f9f-c6493e212b62",
   "metadata": {},
   "outputs": [
    {
     "data": {
      "text/plain": [
       "['esta|es|otra|cadena']"
      ]
     },
     "execution_count": 213,
     "metadata": {},
     "output_type": "execute_result"
    }
   ],
   "source": [
    "cadena_4 = \"esta|es|otra|cadena\"\n",
    "cadena_4.split()"
   ]
  },
  {
   "cell_type": "code",
   "execution_count": 214,
   "id": "221cf1a9-7955-4ba5-9476-88b83bffc93a",
   "metadata": {},
   "outputs": [
    {
     "data": {
      "text/plain": [
       "['esta', 'es', 'otra', 'cadena']"
      ]
     },
     "execution_count": 214,
     "metadata": {},
     "output_type": "execute_result"
    }
   ],
   "source": [
    "cadena_4.split('|')      # convierte la cadena en una lista separando los caracteres por pleca"
   ]
  },
  {
   "cell_type": "markdown",
   "id": "6090112c-1a00-4369-afa1-622d67ef612a",
   "metadata": {},
   "source": [
    "## Funciones"
   ]
  },
  {
   "cell_type": "markdown",
   "id": "e0047b80-8d7c-4366-9b67-98a30922a5cb",
   "metadata": {},
   "source": [
    "Dentro del contexto de programación, una función es una secuencia de procedimientos que ejecutan determinado cómputo."
   ]
  },
  {
   "cell_type": "code",
   "execution_count": 215,
   "id": "bee74c96-21a4-4aa5-9ece-dd605ebbe8e2",
   "metadata": {},
   "outputs": [
    {
     "data": {
      "text/plain": [
       "str"
      ]
     },
     "execution_count": 215,
     "metadata": {},
     "output_type": "execute_result"
    }
   ],
   "source": [
    "type('hola')"
   ]
  },
  {
   "cell_type": "markdown",
   "id": "6f1d1713-e8a9-4a59-a5b5-e35575ec6fb4",
   "metadata": {},
   "source": [
    "`type()` es una función que toma un argumento y devuelve una cadena que indica a qué tipo de objeto de Python pertence ese argumento. Este valor que devuelve la función se llama _valor de retorno_.\n",
    "\n",
    "Para definir una función en Python, usamor la sentencia `def`y a continuación escribimos el nombre la función y su definición:"
   ]
  },
  {
   "cell_type": "code",
   "execution_count": 216,
   "id": "52543e8e-a33f-4c76-b07f-920da717ff91",
   "metadata": {},
   "outputs": [],
   "source": [
    "def saludar(nombre):\n",
    "    saludo = 'Hola, '+nombre\n",
    "    return saludo"
   ]
  },
  {
   "cell_type": "code",
   "execution_count": 217,
   "id": "5b5d5f8e-fca5-470f-a620-1a43aa991f3b",
   "metadata": {},
   "outputs": [
    {
     "data": {
      "text/plain": [
       "'Hola, Don Pepito'"
      ]
     },
     "execution_count": 217,
     "metadata": {},
     "output_type": "execute_result"
    }
   ],
   "source": [
    "saludar('Don Pepito')"
   ]
  },
  {
   "cell_type": "markdown",
   "id": "6ef86d16-6978-497f-bdcd-695b4daf8e2b",
   "metadata": {},
   "source": [
    "Dentro de una función, los valores se asignan a variables llamadas _parámetro_. La función `saludar()`, por ejemplo, toma un argumento, y asigna ese argumento al parámetro `nombre`. Cuando se utilice ese parámetro dentro de la función, hará referencia al valor que se le asignó."
   ]
  },
  {
   "cell_type": "markdown",
   "id": "f07a4b77-2f0b-409d-85c2-ba51b76878c0",
   "metadata": {},
   "source": [
    "Algunas funciones tienen valores de retorno y otras no. Las primeras son llamadas _funciones fructíferas_ (_fruitful functions_) y las segunas, _nulas_ (_void functions_). Estas últimas devuelven un valor especial conocido como `None`."
   ]
  },
  {
   "cell_type": "code",
   "execution_count": 218,
   "id": "34a376db-4784-40c0-9fe0-9f03e1f0118d",
   "metadata": {},
   "outputs": [],
   "source": [
    "def imprimir_saludo(nombre):\n",
    "    saludo = 'Hola, '+nombre\n",
    "    print(saludo)"
   ]
  },
  {
   "cell_type": "code",
   "execution_count": 219,
   "id": "bb630e36-8a6b-429b-bfd1-915d686f79a3",
   "metadata": {},
   "outputs": [
    {
     "name": "stdout",
     "output_type": "stream",
     "text": [
      "Hola, Don José\n"
     ]
    }
   ],
   "source": [
    "imprimir_saludo('Don José')"
   ]
  },
  {
   "cell_type": "code",
   "execution_count": 223,
   "id": "2a13541a-9243-460e-b6a7-7e507ce1b64a",
   "metadata": {},
   "outputs": [
    {
     "name": "stdout",
     "output_type": "stream",
     "text": [
      "Hola, Don José\n"
     ]
    }
   ],
   "source": [
    "valor_1 = saludar('Don Pepito')\n",
    "valor_2 = imprimir_saludo('Don José')"
   ]
  },
  {
   "cell_type": "code",
   "execution_count": 224,
   "id": "cb24d4e3-206f-451c-ad0e-1d6cc52f6d1b",
   "metadata": {},
   "outputs": [
    {
     "data": {
      "text/plain": [
       "'Hola, Don Pepito'"
      ]
     },
     "execution_count": 224,
     "metadata": {},
     "output_type": "execute_result"
    }
   ],
   "source": [
    "valor_1"
   ]
  },
  {
   "cell_type": "code",
   "execution_count": 225,
   "id": "3b5fcca7-d6db-4a9c-8c0e-542009662cb2",
   "metadata": {},
   "outputs": [],
   "source": [
    "valor_2"
   ]
  },
  {
   "cell_type": "code",
   "execution_count": 227,
   "id": "8c81e551-85c8-4224-92e9-fa1d33144b0c",
   "metadata": {},
   "outputs": [
    {
     "name": "stdout",
     "output_type": "stream",
     "text": [
      "None\n"
     ]
    }
   ],
   "source": [
    "print(valor_2)"
   ]
  },
  {
   "cell_type": "markdown",
   "id": "193d48b8",
   "metadata": {},
   "source": [
    "## Librerías"
   ]
  },
  {
   "cell_type": "markdown",
   "id": "145c2572",
   "metadata": {},
   "source": [
    "import"
   ]
  },
  {
   "cell_type": "markdown",
   "id": "fd9a42a6-5eb2-4151-a5d0-e2021ec865ce",
   "metadata": {},
   "source": [
    "## Ejercicios"
   ]
  },
  {
   "cell_type": "code",
   "execution_count": null,
   "id": "ad8a5a0c-799c-4856-9e82-5d11f9240433",
   "metadata": {},
   "outputs": [],
   "source": []
  },
  {
   "cell_type": "markdown",
   "id": "c0ee6e2d-d0c2-4415-beb7-8c430e65beda",
   "metadata": {},
   "source": [
    "**Referencias**\n",
    "\n",
    "- [Downey, A., Brooks Jr, F. P., Peek, J., Todino, G., Strang, J., Robbins, A., & Rosenblatt, B. (2012). Think python. 2.0. Green Tea Press Supplemental Material:.](https://greenteapress.com/thinkpython2/thinkpython2.pdf)"
   ]
  },
  {
   "cell_type": "markdown",
   "id": "26e0e4c6-0bf6-4e25-8107-8355898e903f",
   "metadata": {},
   "source": [
    "{% include additional_content.html %}\n",
    "\n",
    "{% include copybutton.html %}"
   ]
  }
 ],
 "metadata": {
  "kernelspec": {
   "display_name": "Python 3",
   "language": "python",
   "name": "python3"
  },
  "language_info": {
   "codemirror_mode": {
    "name": "ipython",
    "version": 3
   },
   "file_extension": ".py",
   "mimetype": "text/x-python",
   "name": "python",
   "nbconvert_exporter": "python",
   "pygments_lexer": "ipython3",
   "version": "3.8.10"
  },
  "toc-autonumbering": false,
  "toc-showmarkdowntxt": false,
  "toc-showtags": false
 },
 "nbformat": 4,
 "nbformat_minor": 5
}
