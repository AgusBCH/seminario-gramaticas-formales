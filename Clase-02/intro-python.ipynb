{
 "cells": [
  {
   "cell_type": "markdown",
   "id": "5c43df3f-369e-4141-ac1b-41ae30037e7d",
   "metadata": {},
   "source": [
    "# Nociones básicas de Python"
   ]
  },
  {
   "cell_type": "markdown",
   "id": "a1d15d17-7ca0-404e-8866-f2775bf88883",
   "metadata": {
    "tags": []
   },
   "source": [
    "## Ejecución"
   ]
  },
  {
   "cell_type": "markdown",
   "id": "386b76d5-2a4c-434d-b2d0-56b75176a1d8",
   "metadata": {},
   "source": [
    "En este seminario utilizaremos, entre otros recursos, códigos de programación escritos en Python. Existen dos grandes versiones de Python: Python 2 y Python 3. Nosotros usaremos esta última. Más específicamente, usaremos Python 3.8.10.\n",
    "\n",
    "Existen distintas formas de ejecutar código escrito en Python. Una de ellas es en _notebooks_, como esta que están leyendo. Las notebooks son un entorno computacional interactivo que permiten escribir y ejecutar código de Python, entre otros lenguajes, y combinarlo con fragmentos de texto plano o, incluso, con imágenes.\n",
    "\n",
    "Otra forma de ejecutar código de Python es mediante la consola o terminal. Para abrir una consola pueden presionar `ctrl+alt` o tocar el botón de inicio y escribir \"terminal\". Esto les abrirá una ventana como la siguiente:\n",
    "\n",
    "<div style=\"text-align:center\">\n",
    "    <img src=\"./images/terminal.png\" width=\"400px\"/>\n",
    "</div>\n",
    "\n",
    "Una vez allí, al escribir \"python\" y apretar _enter_ se abrirá el intérprete de Python, un programa que lee y ejecuta código escitro en ese lenguaje. Allí podrán leer algo como lo siguiente:\n",
    "\n",
    "```{python}\n",
    "Python 3.8.10 (default, Mar 27 2022, 23:42:37) \n",
    "[GCC 9.4.0] on linux\n",
    "Type \"help\", \"copyright\", \"credits\" or \"license\" for more information.\n",
    ">>> \n",
    "```\n",
    "\n",
    "Esto les indica que el intérprete se inició con éxito y que están utilizando la versión 3.8.10. Luego del indicador `>>>` pueden escribir sus comandos para ser ejecutados.\n",
    "\n",
    "En caso de necesitar escribir comentarios al código (muy útiles para poder entenderlo más fácilmente), se puede utilizar el numeral (#). El intérprete (ya sea en consola, ya en un entorno interactivo como una notebook) ignorará las líneas que comiencen con ese símbolo."
   ]
  },
  {
   "cell_type": "markdown",
   "id": "878165cc-5d2a-4f04-b65a-39991d1aa44c",
   "metadata": {},
   "source": [
    "## Operaciones aritméticas"
   ]
  },
  {
   "cell_type": "markdown",
   "id": "6086819b",
   "metadata": {},
   "source": [
    "En tanto lenguaje, Python tiene elementos que cumplen funciones específicas. Entre ellos, podemos mencionar los números enteros ($\\mathbf{Z}$) y racionales ($\\mathbf{Q}$) y las operaciones aritméticas como suma, resta y multiplicación entre otras."
   ]
  },
  {
   "cell_type": "code",
   "execution_count": null,
   "id": "67eabd86",
   "metadata": {},
   "outputs": [],
   "source": [
    "1 + 10    # suma"
   ]
  },
  {
   "cell_type": "code",
   "execution_count": null,
   "id": "3660fb33",
   "metadata": {},
   "outputs": [],
   "source": [
    "3 - 2     # resta"
   ]
  },
  {
   "cell_type": "code",
   "execution_count": null,
   "id": "94af21b0",
   "metadata": {},
   "outputs": [],
   "source": [
    "2 / 0.5   # división (es lo mismo que escribir 2 / .5)"
   ]
  },
  {
   "cell_type": "code",
   "execution_count": null,
   "id": "f4202dc3",
   "metadata": {},
   "outputs": [],
   "source": [
    "3 * 4    # multiplicación"
   ]
  },
  {
   "cell_type": "code",
   "execution_count": null,
   "id": "6b93991a",
   "metadata": {},
   "outputs": [],
   "source": [
    "100 % 4    # resto de división (0 si la división no tiene resto, 1 si sí lo tiene)"
   ]
  },
  {
   "cell_type": "code",
   "execution_count": null,
   "id": "2e50dd45",
   "metadata": {},
   "outputs": [],
   "source": [
    "100 % 33"
   ]
  },
  {
   "cell_type": "code",
   "execution_count": null,
   "id": "bcfa8bab",
   "metadata": {},
   "outputs": [],
   "source": [
    "3 ** 2    # potenciación"
   ]
  },
  {
   "cell_type": "code",
   "execution_count": null,
   "id": "44d5ca7d",
   "metadata": {},
   "outputs": [],
   "source": []
  },
  {
   "cell_type": "markdown",
   "id": "5dcdc83f",
   "metadata": {},
   "source": [
    "\n",
    "suma, resta, división, resto, multiplicación, elevar al cuadrado, igualdad\n",
    "\n",
    "import de módulo matemático"
   ]
  },
  {
   "cell_type": "markdown",
   "id": "e25c4358-d968-4811-bafc-00ccfa7c5b29",
   "metadata": {
    "jp-MarkdownHeadingCollapsed": true,
    "tags": []
   },
   "source": [
    "## Variables\n",
    "\n",
    "morfología para denominar variables\n",
    "\n",
    "mutabilidad"
   ]
  },
  {
   "cell_type": "markdown",
   "id": "8c7505dc-7f0f-4a17-b715-738170358eef",
   "metadata": {
    "tags": []
   },
   "source": [
    "## Tipos de objetos"
   ]
  },
  {
   "cell_type": "markdown",
   "id": "18c8d46b-95fb-40b2-b44c-e52cd0c07f8d",
   "metadata": {},
   "source": [
    "### Listas\n",
    "\n",
    "### Conjuntos\n",
    "\n",
    "### Tuplas\n",
    "\n",
    "### Diccionarios\n",
    "\n",
    "### Strings\n",
    "\n",
    "### Booleanos"
   ]
  },
  {
   "cell_type": "markdown",
   "id": "6090112c-1a00-4369-afa1-622d67ef612a",
   "metadata": {},
   "source": [
    "## Funciones"
   ]
  },
  {
   "cell_type": "markdown",
   "id": "90638941-6ed6-4ef4-982c-d0a0be1e9bb8",
   "metadata": {},
   "source": [
    "## Iteraciones"
   ]
  },
  {
   "cell_type": "markdown",
   "id": "34f405c0-fcdf-4def-93c2-6c1f8bc6f700",
   "metadata": {},
   "source": [
    "## Condicionales"
   ]
  },
  {
   "cell_type": "markdown",
   "id": "c0ee6e2d-d0c2-4415-beb7-8c430e65beda",
   "metadata": {},
   "source": [
    "**Referencias**\n",
    "\n",
    "- [Downey, A., Brooks Jr, F. P., Peek, J., Todino, G., Strang, J., Robbins, A., & Rosenblatt, B. (2012). Think python. 2.0. Green Tea Press Supplemental Material:.](https://greenteapress.com/thinkpython2/thinkpython2.pdf)"
   ]
  },
  {
   "cell_type": "code",
   "execution_count": null,
   "id": "b45579f1-3340-4a86-bb1b-2a948dd9a0ba",
   "metadata": {},
   "outputs": [],
   "source": []
  }
 ],
 "metadata": {
  "kernelspec": {
   "display_name": "Python 3 (ipykernel)",
   "language": "python",
   "name": "python3"
  },
  "language_info": {
   "codemirror_mode": {
    "name": "ipython",
    "version": 3
   },
   "file_extension": ".py",
   "mimetype": "text/x-python",
   "name": "python",
   "nbconvert_exporter": "python",
   "pygments_lexer": "ipython3",
   "version": "3.8.10"
  }
 },
 "nbformat": 4,
 "nbformat_minor": 5
}
