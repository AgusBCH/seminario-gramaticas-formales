{
 "cells": [
  {
   "cell_type": "code",
   "execution_count": 1,
   "id": "18505aa7",
   "metadata": {},
   "outputs": [],
   "source": [
    "import nltk\n",
    "import re"
   ]
  },
  {
   "cell_type": "code",
   "execution_count": 2,
   "id": "7188f251",
   "metadata": {},
   "outputs": [],
   "source": [
    "def rd_parser(oracion, gramatica):                  \n",
    "    oracion = oracion.lower()                       \n",
    "        \n",
    "    if oracion.endswith('.'):                       \n",
    "        oracion = re.sub('\\.',' ',oracion)          \n",
    "    else:                                           \n",
    "        oracion = oracion                           \n",
    "    lista_palabras = oracion.split()              \n",
    "    print(\"- Esta es la lista de palabras resultante: \", lista_palabras) \n",
    "      \n",
    "    gramatica = nltk.data.load(gramatica)              \n",
    "    rd_parser = nltk.RecursiveDescentParser(gramatica) \n",
    "    for arbol in rd_parser.parse(lista_palabras):     \n",
    "        print(\"- Este es el árbol resultante: \", arbol.draw()) "
   ]
  },
  {
   "cell_type": "code",
   "execution_count": 3,
   "id": "cf623544",
   "metadata": {},
   "outputs": [
    {
     "name": "stdout",
     "output_type": "stream",
     "text": [
      "Escribí una oración:\n",
      "gurgeh y yay juegan juegos violentos\n",
      "- Esta es la lista de palabras resultante:  ['gurgeh', 'y', 'yay', 'juegan', 'juegos', 'violentos']\n",
      "- Este es el árbol resultante:  None\n",
      "- Este es el árbol resultante:  None\n"
     ]
    }
   ],
   "source": [
    "print('Escribí una oración:')                          \n",
    "oracion1 = input()                                     \n",
    "gramatica = 'gramaticas/oraciona.cfg'                       \n",
    "rd_parser(oracion1, gramatica)\n",
    "\n",
    "# Oración \"gurgeh y yay juegan juegos violentos\""
   ]
  },
  {
   "cell_type": "markdown",
   "id": "1e901045",
   "metadata": {},
   "source": [
    "En el caso de la oración 'Gurgeh y Yay juegan juegos violentos' tenemos dos parseos posible:\n",
    "    1. ((Gurgeh (y Yay)) (juegan (juegos violentos))) donde 'violentos' es un adjetivo de 'juegos'\n",
    "    2. ((Gurgeh (y Yay)) (juegan ((juegos) violentos))) donde 'violentos' es un predicativo subjetivo"
   ]
  },
  {
   "cell_type": "code",
   "execution_count": 4,
   "id": "dee79cde",
   "metadata": {},
   "outputs": [],
   "source": [
    "#nltk.app.rdparser()"
   ]
  },
  {
   "cell_type": "markdown",
   "id": "9a8b3eed",
   "metadata": {},
   "source": []
  }
 ],
 "metadata": {
  "kernelspec": {
   "display_name": "Python 3 (ipykernel)",
   "language": "python",
   "name": "python3"
  },
  "language_info": {
   "codemirror_mode": {
    "name": "ipython",
    "version": 3
   },
   "file_extension": ".py",
   "mimetype": "text/x-python",
   "name": "python",
   "nbconvert_exporter": "python",
   "pygments_lexer": "ipython3",
   "version": "3.8.10"
  }
 },
 "nbformat": 4,
 "nbformat_minor": 5
}
