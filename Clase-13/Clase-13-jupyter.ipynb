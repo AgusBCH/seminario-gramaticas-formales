{
 "cells": [
  {
   "cell_type": "markdown",
   "metadata": {},
   "source": [
    "# Gramáticas categoriales con rasgos"
   ]
  },
  {
   "cell_type": "markdown",
   "metadata": {},
   "source": [
    "## Requerimientos"
   ]
  },
  {
   "cell_type": "code",
   "execution_count": null,
   "metadata": {},
   "outputs": [],
   "source": [
    "import nltk \n",
    "import re \n",
    "from nltk.ccg import lexicon, chart \n",
    "from nltk.ccg.chart import printCCGDerivation"
   ]
  },
  {
   "cell_type": "markdown",
   "metadata": {},
   "source": [
    "Las gramáticas categoriales están conformadas principalmente por un conjunto reducido de reglas y un léxico sumamente rico.\n",
    "Las reglas que utiliza OpenCCG, que es el parser categorial que vamos a ver son las siguientes:"
   ]
  },
  {
   "cell_type": "markdown",
   "metadata": {},
   "source": [
    "![reglas categoriales](reglascategorialesopenccg.png)"
   ]
  },
  {
   "cell_type": "markdown",
   "metadata": {},
   "source": [
    "Construir una gramática categorial consiste principalmente en elaborar un léxico lo suficientemente rico, ya que las gramáticas categoriales son fuertemente lexicalistas. En ellas, la categoría a la que pertenece cada entrada léxica codifica sus posibilidades combinatorias."
   ]
  },
  {
   "cell_type": "markdown",
   "metadata": {},
   "source": [
    "## Combinatory Categorial Grammar"
   ]
  },
  {
   "cell_type": "code",
   "execution_count": null,
   "metadata": {},
   "outputs": [],
   "source": [
    "#Combinatory Categorial Grammar with features\n",
    "# Esta hay que revisarla y ver cómo se corrige para que funcione\n",
    "\n",
    "def combinatory_parser(sentence, grammar):   \n",
    "    sentence = sentence.lower()                                     # convierte a minúscula\n",
    "    if sentence.endswith('.'):                                      # si la oración termina con un punto\n",
    "        sent = re.sub('\\.',' ',sentence)                            # se lo quita\n",
    "    else:                                                           # si no\n",
    "        sent = sentence                                             # la toma como está\n",
    "    sent = sent.split()                                             # divide la oración en palabras\n",
    "    archivo = open(grammar, 'r')\n",
    "    codigogram = archivo.read()\n",
    "    lex = lexicon.fromstring(codigogram)\n",
    "    print(lex)\n",
    "    parser = chart.CCGChartParser(lex, chart.DefaultRuleSet)\n",
    "    archivo.close()\n",
    "    for parse in parser.parse(sent):  # doctest: +SKIP\n",
    "         chart.printCCGDerivation(parse)\n",
    "         #break       \n"
   ]
  },
  {
   "cell_type": "code",
   "execution_count": null,
   "metadata": {},
   "outputs": [],
   "source": [
    "grammar = 'gramaticas/FCG1.txt'\n",
    "print('Escribí una oración')\n",
    "oracion5 = input()\n",
    "combinatory_parser(oracion5, grammar)"
   ]
  },
  {
   "cell_type": "markdown",
   "metadata": {},
   "source": [
    "## Gramática categorial con anotación semántica"
   ]
  },
  {
   "cell_type": "code",
   "execution_count": null,
   "metadata": {},
   "outputs": [],
   "source": [
    "lex = lexicon.fromstring(\n",
    "    \"\"\"\n",
    "    :- N, NP, S\n",
    "    money => N {money}\n",
    "    that => (N\\\\N)/(S/NP) {\\\\P Q x.(P(x) & Q(x))}\n",
    "    I => NP {I}\n",
    "    give => ((S\\\\NP)/NP)/NP {\\\\x y z.give(y,x,z)}\n",
    "    them => NP {them}\n",
    "    \"\"\",\n",
    "    True)\n",
    "parser = chart.CCGChartParser(lex, chart.DefaultRuleSet)\n",
    "parses = list(parser.parse(\"money that I give them\".split()))\n",
    "quantparses = len(parses)\n",
    "print(str(quantparses) + \" parses\")\n",
    "parseslist = 0\n",
    "def showccgparses(parseslist1, quantparses1):\n",
    "    if parseslist1 < quantparses1:\n",
    "        printCCGDerivation(parses[parseslist1])\n",
    "        parseslist2 = parseslist1 + 1\n",
    "        showccgparses(parseslist2, quantparses1)\n",
    "    elif parseslist == quantparses: \n",
    "        printCCGDerivation(parses[parseslist])\n",
    "showccgparses(parseslist, quantparses)"
   ]
  },
  {
   "cell_type": "code",
   "execution_count": null,
   "metadata": {},
   "outputs": [],
   "source": []
  }
 ],
 "metadata": {
  "kernelspec": {
   "display_name": "Python 3",
   "language": "python",
   "name": "python3"
  },
  "language_info": {
   "codemirror_mode": {
    "name": "ipython",
    "version": 3
   },
   "file_extension": ".py",
   "mimetype": "text/x-python",
   "name": "python",
   "nbconvert_exporter": "python",
   "pygments_lexer": "ipython3",
   "version": "3.6.9"
  }
 },
 "nbformat": 4,
 "nbformat_minor": 2
}
