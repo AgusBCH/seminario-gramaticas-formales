{
 "cells": [
  {
   "cell_type": "markdown",
   "id": "0ccbfd5e-06fb-4eeb-bffc-08b0b5c35fcc",
   "metadata": {},
   "source": [
    "Python como lenguaje de programación orientado a objetos.\n",
    "\n",
    "¿Por qué es un lenguaje? \n",
    "\n",
    "- Elementos primitivos (números)\n",
    "- Reglas de escritura (nombres de vairbales, por ejemplo)"
   ]
  },
  {
   "cell_type": "code",
   "execution_count": null,
   "id": "9883064b-676b-455e-ac27-cbfbda476887",
   "metadata": {},
   "outputs": [],
   "source": []
  },
  {
   "cell_type": "markdown",
   "id": "2c42691c-2802-4f26-95b3-c57c4decca44",
   "metadata": {},
   "source": [
    "## Los conjuntos en Pytho"
   ]
  },
  {
   "cell_type": "markdown",
   "id": "6788767d-7615-4401-9195-edfb402359da",
   "metadata": {},
   "source": [
    "Listas:\n",
    "\n",
    "- elementos repetidos\n",
    "- orden\n",
    "- son mutables"
   ]
  },
  {
   "cell_type": "code",
   "execution_count": null,
   "id": "dc4e6512-ab53-4021-ad20-7cf47bfc1e9a",
   "metadata": {},
   "outputs": [],
   "source": [
    "lista = ['a','b','c','d','a','a']\n",
    "lista"
   ]
  },
  {
   "cell_type": "code",
   "execution_count": null,
   "id": "ff9ee927-8e33-4d74-9dfd-122f6bb97107",
   "metadata": {},
   "outputs": [],
   "source": [
    "len(lista)"
   ]
  },
  {
   "cell_type": "code",
   "execution_count": null,
   "id": "c9778733-56f3-4a50-ad60-77d06a2dab5f",
   "metadata": {},
   "outputs": [],
   "source": [
    "lista[0]"
   ]
  },
  {
   "cell_type": "code",
   "execution_count": null,
   "id": "7c9d241b-b82f-463d-8113-bcae67d00113",
   "metadata": {},
   "outputs": [],
   "source": [
    "for element in lista:\n",
    "    print(element)"
   ]
  },
  {
   "cell_type": "code",
   "execution_count": null,
   "id": "55748e04-31fa-4b1f-ade1-0f2d079d25ef",
   "metadata": {},
   "outputs": [],
   "source": [
    "conjunto = set(lista)"
   ]
  },
  {
   "cell_type": "code",
   "execution_count": null,
   "id": "fb988fa2-83df-419d-b0b5-ce3c666ae74e",
   "metadata": {},
   "outputs": [],
   "source": [
    "conjunto"
   ]
  },
  {
   "cell_type": "code",
   "execution_count": null,
   "id": "429df37a-f830-4d8a-aaee-853f10789d6e",
   "metadata": {},
   "outputs": [],
   "source": [
    "len(conjunto)"
   ]
  },
  {
   "cell_type": "code",
   "execution_count": null,
   "id": "f35da30b-66ca-480f-8b5b-d4fc9289eb4d",
   "metadata": {},
   "outputs": [],
   "source": [
    "for element in conjunto:\n",
    "    print(element)"
   ]
  },
  {
   "cell_type": "code",
   "execution_count": null,
   "id": "31416cbf-8bc1-46b6-9bbf-ed50aa6b4149",
   "metadata": {},
   "outputs": [],
   "source": [
    "empty = set()\n",
    "A = set([2,4,6,8,10])\n",
    "B = set([3,6,9,12,15])"
   ]
  },
  {
   "cell_type": "code",
   "execution_count": null,
   "id": "3ea4a44f-e002-4d8b-ab15-e85a1c2513da",
   "metadata": {},
   "outputs": [],
   "source": [
    "A.difference(B)"
   ]
  },
  {
   "cell_type": "code",
   "execution_count": null,
   "id": "febd9a9d-cd50-4da5-8117-424851f59063",
   "metadata": {},
   "outputs": [],
   "source": [
    "B.difference(A)"
   ]
  },
  {
   "cell_type": "code",
   "execution_count": null,
   "id": "e7047022-cb63-4484-b00f-e861095ccdc1",
   "metadata": {},
   "outputs": [],
   "source": [
    "A.intersection(B)"
   ]
  },
  {
   "cell_type": "code",
   "execution_count": null,
   "id": "34ff1b0e-0b2d-4f11-aa5e-7634b6454f74",
   "metadata": {},
   "outputs": [],
   "source": [
    "empty.difference(A)"
   ]
  },
  {
   "cell_type": "code",
   "execution_count": null,
   "id": "a5ede75f-03b1-4ed5-a86c-4f419ba88a7e",
   "metadata": {},
   "outputs": [],
   "source": [
    "A.union(B)"
   ]
  },
  {
   "cell_type": "code",
   "execution_count": null,
   "id": "001996ff-c350-49db-a484-b323485df7e8",
   "metadata": {},
   "outputs": [],
   "source": [
    "A.union(empty) == A"
   ]
  },
  {
   "cell_type": "code",
   "execution_count": null,
   "id": "8002daff-9193-44ae-9d20-8be0ec57f480",
   "metadata": {},
   "outputs": [],
   "source": [
    "A.add(12)"
   ]
  },
  {
   "cell_type": "code",
   "execution_count": null,
   "id": "11db787f-67dd-4e17-885e-51f3fbd24cae",
   "metadata": {},
   "outputs": [],
   "source": [
    "A"
   ]
  },
  {
   "cell_type": "code",
   "execution_count": null,
   "id": "20690948-563a-4a47-a9b5-050462083e4a",
   "metadata": {},
   "outputs": [],
   "source": [
    "A.add(2)"
   ]
  },
  {
   "cell_type": "code",
   "execution_count": null,
   "id": "c343072a-0863-4f54-bc64-2343dcf9cffb",
   "metadata": {},
   "outputs": [],
   "source": [
    "A"
   ]
  },
  {
   "cell_type": "code",
   "execution_count": null,
   "id": "07e69077-a0a6-45e3-8b94-b720dfbb9361",
   "metadata": {},
   "outputs": [],
   "source": [
    "lista"
   ]
  },
  {
   "cell_type": "code",
   "execution_count": null,
   "id": "7855fce9-ecf9-4699-9c4c-0827250a7e52",
   "metadata": {},
   "outputs": [],
   "source": [
    "lista.append('z')"
   ]
  },
  {
   "cell_type": "code",
   "execution_count": null,
   "id": "974b3808-82f4-4dc9-a147-81448740aa14",
   "metadata": {},
   "outputs": [],
   "source": [
    "lista"
   ]
  },
  {
   "cell_type": "code",
   "execution_count": null,
   "id": "e93bdcfc-552c-4849-8489-3522cd04b726",
   "metadata": {},
   "outputs": [],
   "source": [
    "lista + lista"
   ]
  },
  {
   "cell_type": "code",
   "execution_count": null,
   "id": "15dfbfb0-3c60-4339-a7d4-9120eb552a38",
   "metadata": {},
   "outputs": [],
   "source": [
    "lista"
   ]
  },
  {
   "cell_type": "code",
   "execution_count": null,
   "id": "9f80fd2e-1a18-4f14-93e0-5a15b5bf2422",
   "metadata": {},
   "outputs": [],
   "source": [
    "A + B"
   ]
  },
  {
   "cell_type": "code",
   "execution_count": null,
   "id": "d0fca4ad-1635-4d4c-9619-394e7848b057",
   "metadata": {},
   "outputs": [],
   "source": [
    "A_subset = {2,4}"
   ]
  },
  {
   "cell_type": "code",
   "execution_count": null,
   "id": "e24250f0-9a4d-4d9d-8b30-57db6679bac3",
   "metadata": {},
   "outputs": [],
   "source": [
    "A_subset.issubset(A)"
   ]
  },
  {
   "cell_type": "code",
   "execution_count": null,
   "id": "ce3748ca-dcc1-436c-a87c-9e04356a8514",
   "metadata": {},
   "outputs": [],
   "source": [
    "A.issubset(A_subset)"
   ]
  },
  {
   "cell_type": "code",
   "execution_count": null,
   "id": "b3e3e3f8-fb73-403c-b421-c0ccf732a6b6",
   "metadata": {},
   "outputs": [],
   "source": [
    "empty.issubset(A)"
   ]
  },
  {
   "cell_type": "code",
   "execution_count": null,
   "id": "887d1364-b3df-4695-adc1-4e6ee5692127",
   "metadata": {},
   "outputs": [],
   "source": [
    "A.issuperset(A_subset)"
   ]
  },
  {
   "cell_type": "code",
   "execution_count": null,
   "id": "5d884416-60a0-420f-a784-b0e1505e29c0",
   "metadata": {},
   "outputs": [],
   "source": [
    "A.symmetric_difference(B)"
   ]
  },
  {
   "cell_type": "code",
   "execution_count": null,
   "id": "990d7812-0435-4e16-b009-826b07cd921c",
   "metadata": {},
   "outputs": [],
   "source": [
    "A.remove(2)"
   ]
  },
  {
   "cell_type": "code",
   "execution_count": null,
   "id": "8f4359e2-6221-410d-8c67-d0ea0cd800a3",
   "metadata": {},
   "outputs": [],
   "source": [
    "A"
   ]
  },
  {
   "cell_type": "code",
   "execution_count": null,
   "id": "be3a65c6-10b5-4c2c-b286-cb069a08b20b",
   "metadata": {},
   "outputs": [],
   "source": [
    "A.pop()"
   ]
  },
  {
   "cell_type": "code",
   "execution_count": null,
   "id": "1956eb20-5063-4a73-8977-30309fc758ac",
   "metadata": {},
   "outputs": [],
   "source": [
    "A"
   ]
  },
  {
   "cell_type": "markdown",
   "id": "8c64a65f-2376-446b-a5e3-338b373a7068",
   "metadata": {},
   "source": [
    "{% include additional_content.html%}"
   ]
  },
  {
   "cell_type": "code",
   "execution_count": null,
   "id": "421f035a-495e-43aa-babf-e4a8e2051e86",
   "metadata": {},
   "outputs": [],
   "source": []
  }
 ],
 "metadata": {
  "kernelspec": {
   "display_name": "Python 3 (ipykernel)",
   "language": "python",
   "name": "python3"
  },
  "language_info": {
   "codemirror_mode": {
    "name": "ipython",
    "version": 3
   },
   "file_extension": ".py",
   "mimetype": "text/x-python",
   "name": "python",
   "nbconvert_exporter": "python",
   "pygments_lexer": "ipython3",
   "version": "3.8.5"
  }
 },
 "nbformat": 4,
 "nbformat_minor": 5
}
